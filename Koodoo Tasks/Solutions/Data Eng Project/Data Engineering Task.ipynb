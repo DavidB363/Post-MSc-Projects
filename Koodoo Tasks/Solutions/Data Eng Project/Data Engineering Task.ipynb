{
 "cells": [
  {
   "cell_type": "markdown",
   "metadata": {},
   "source": [
    "# Data Engineering Task for Koodoo job application process.\n",
    "# Creating a wine database using SQLite3.\n",
    "# David Brookes January/February 2021"
   ]
  },
  {
   "cell_type": "code",
   "execution_count": 1,
   "metadata": {},
   "outputs": [],
   "source": [
    "import os\n",
    "import sqlite3, csv\n",
    "import pandas as pd\n",
    "import time"
   ]
  },
  {
   "cell_type": "code",
   "execution_count": 2,
   "metadata": {},
   "outputs": [
    {
     "name": "stdout",
     "output_type": "stream",
     "text": [
      "C:\\Users\\David Brookes\\Notebooks\\Post-MSc-Projects\\Python Koodoo Tasks\n"
     ]
    }
   ],
   "source": [
    "print(os.getcwd())"
   ]
  },
  {
   "cell_type": "code",
   "execution_count": 3,
   "metadata": {},
   "outputs": [
    {
     "name": "stdout",
     "output_type": "stream",
     "text": [
      "D:\\My Documents\\Python Code\\Koodoo Tasks\\Solutions\\Data Eng Project\n"
     ]
    }
   ],
   "source": [
    "os.chdir(r'D:\\My Documents\\Python Code\\Koodoo Tasks\\Solutions\\Data Eng Project')\n",
    "print(os.getcwd())"
   ]
  },
  {
   "cell_type": "code",
   "execution_count": 4,
   "metadata": {},
   "outputs": [],
   "source": [
    "# Create a new database Wines.db.\n",
    "conn = sqlite3.connect('Wine.db')\n",
    "\n",
    "# Allow for foreign keys to be used in the database.\n",
    "conn.execute(\"PRAGMA foreign_keys = 1\")\n",
    "\n",
    "# Create a cursor object.\n",
    "cur = conn.cursor()"
   ]
  },
  {
   "cell_type": "code",
   "execution_count": 5,
   "metadata": {},
   "outputs": [
    {
     "name": "stdout",
     "output_type": "stream",
     "text": [
      "staging_wines table has been created.\n"
     ]
    }
   ],
   "source": [
    "# Create the staging_wines table.\n",
    "staging_wines = \"\"\"\n",
    "    CREATE TABLE IF NOT EXISTS staging_wines (\n",
    "    Vintage TEXT,\n",
    "    Country TEXT,\n",
    "    County TEXT,\n",
    "    Designation TEXT,\n",
    "    Points INTEGER,\n",
    "    Price REAL,\n",
    "    Province TEXT,\n",
    "    Title TEXT,\n",
    "    Variety TEXT,\n",
    "    Winery TEXT\n",
    "    ); \n",
    "\"\"\"\n",
    "\n",
    "# Execute the SQL command.\n",
    "cur.execute(staging_wines)\n",
    "print('staging_wines table has been created.')\n",
    "\n",
    "# Commit the changes.\n",
    "conn.commit()\n"
   ]
  },
  {
   "cell_type": "code",
   "execution_count": 6,
   "metadata": {},
   "outputs": [
    {
     "name": "stdout",
     "output_type": "stream",
     "text": [
      "Number of rows of the Wines DataFrame =  24997\n",
      "Number of columns of the Wines DataFrame =  10\n"
     ]
    }
   ],
   "source": [
    "# Read Wines.csv file into a Pandas dataframe.\n",
    "dfWines = pd.read_csv('Wines.csv')\n",
    "#print(dfWines.head())\n",
    "\n",
    "# Find the number of rows and columns using the shape property of the DataFrame.\n",
    "# This can be used to check against the SQLite calculation.\n",
    "df_rows, df_cols = dfWines.shape\n",
    "\n",
    "print('Number of rows of the Wines DataFrame = ', df_rows)\n",
    "print('Number of columns of the Wines DataFrame = ', df_cols)\n"
   ]
  },
  {
   "cell_type": "code",
   "execution_count": 7,
   "metadata": {},
   "outputs": [
    {
     "data": {
      "text/plain": [
       "Vintage        object\n",
       "Country        object\n",
       "County         object\n",
       "Designation    object\n",
       "Points          int64\n",
       "Price          object\n",
       "Province       object\n",
       "Title          object\n",
       "Variety        object\n",
       "Winery         object\n",
       "dtype: object"
      ]
     },
     "execution_count": 7,
     "metadata": {},
     "output_type": "execute_result"
    }
   ],
   "source": [
    "dfWines.dtypes"
   ]
  },
  {
   "cell_type": "code",
   "execution_count": 8,
   "metadata": {},
   "outputs": [
    {
     "data": {
      "text/plain": [
       "Vintage           0\n",
       "Country           8\n",
       "County         4188\n",
       "Designation    7364\n",
       "Points            0\n",
       "Price          1622\n",
       "Province          8\n",
       "Title             0\n",
       "Variety           0\n",
       "Winery            0\n",
       "dtype: int64"
      ]
     },
     "execution_count": 8,
     "metadata": {},
     "output_type": "execute_result"
    }
   ],
   "source": [
    "# Show the null values in dfWines.\n",
    "\n",
    "dfWines.isnull().sum()"
   ]
  },
  {
   "cell_type": "code",
   "execution_count": 9,
   "metadata": {},
   "outputs": [
    {
     "name": "stdout",
     "output_type": "stream",
     "text": [
      "      Vintage   Country                           County         Designation  \\\n",
      "0  01/01/1919     Spain                             Cava  1919 Brut Selecció   \n",
      "1  01/01/1929     Italy       Vernaccia di San Gimignano                 NaN   \n",
      "2  01/01/1929     Italy  Sangiovese di Romagna Superiore            Prugneto   \n",
      "3  01/01/1934  Portugal                              NaN       Reserva Velho   \n",
      "4  01/01/1945    France                       Rivesaltes      Legend Vintage   \n",
      "\n",
      "   Points  Price              Province  \\\n",
      "0      88   13.0             Catalonia   \n",
      "1      87   14.0               Tuscany   \n",
      "2      84   15.0         Central Italy   \n",
      "3      93  495.0               Colares   \n",
      "4      95  350.0  Languedoc-Roussillon   \n",
      "\n",
      "                                               Title          Variety  \\\n",
      "0     L'Arboc NV 1919 Brut Selecció Sparkling (Cava)  Sparkling Blend   \n",
      "1         Guidi 1929 2015 Vernaccia di San Gimignano        Vernaccia   \n",
      "2  Poderi dal Nespoli 1929 2011 Prugneto (Sangiov...       Sangiovese   \n",
      "3  Adega Viuva Gomes 1934 Reserva Velho Red (Cola...          Ramisco   \n",
      "4  Gérard Bertrand 1945 Legend Vintage Red (Rives...        Red Blend   \n",
      "\n",
      "                    Winery  \n",
      "0                  L'Arboc  \n",
      "1               Guidi 1929  \n",
      "2  Poderi dal Nespoli 1929  \n",
      "3        Adega Viuva Gomes  \n",
      "4          Gérard Bertrand  \n"
     ]
    }
   ],
   "source": [
    "# Process the DataFrame.\n",
    "# Convert the Price column from a string to a float.\n",
    "\n",
    "# First, strip the $ sign and also commas from the price.\n",
    "# Then convert the string to a float.\n",
    "\n",
    "dfWines['Price'] = dfWines['Price'].replace(regex = '[$,]', value ='').astype(float)\n",
    "\n",
    "print(dfWines.head())"
   ]
  },
  {
   "cell_type": "code",
   "execution_count": 10,
   "metadata": {},
   "outputs": [
    {
     "name": "stdout",
     "output_type": "stream",
     "text": [
      "Average price of a bottle of wine is $ 35.46708021390374\n",
      "Maximum price of a bottle of wine is $ 2500.0\n"
     ]
    }
   ],
   "source": [
    "# Find the average price of a bottle of wine using Pandas. \n",
    "# (To check the results obtained using SQLite )\n",
    "print('Average price of a bottle of wine is $', dfWines['Price'].mean())\n",
    "\n",
    "# Find the maximum price of a bottle of wine using Pandas.\n",
    "# (To check the results obtained using SQLite )\n",
    "print('Maximum price of a bottle of wine is $', dfWines['Price'].max())"
   ]
  },
  {
   "cell_type": "markdown",
   "metadata": {},
   "source": [
    "# Task 1. \n",
    "# Stage the data.\n",
    "# Load data into staging_wines table of the database Wines.db"
   ]
  },
  {
   "cell_type": "code",
   "execution_count": 11,
   "metadata": {},
   "outputs": [
    {
     "name": "stdout",
     "output_type": "stream",
     "text": [
      "\n",
      "24997 Records transferred.\n",
      "Time taken 4.703398704528809 seconds.\n"
     ]
    }
   ],
   "source": [
    "# Populate the staging_wines table in the Wines database using the Pandas DataFrame.\n",
    "# Determine the time that it takes for this operation.\n",
    "\n",
    "start_time = time.time()\n",
    "\n",
    "num_records = 0\n",
    "\n",
    "for row in range(df_rows):\n",
    "    cur.execute(\"\"\"INSERT INTO staging_wines VALUES (?,?,?,?,?,?,?,?,?,?);\"\"\",dfWines.iloc[row,:])\n",
    "    num_records += 1\n",
    "conn.commit()\n",
    "print('\\n{} Records transferred.'.format(num_records))\n",
    "\n",
    "stop_time = time.time()\n",
    "print('Time taken {} seconds.'.format(stop_time-start_time))"
   ]
  },
  {
   "cell_type": "code",
   "execution_count": 12,
   "metadata": {},
   "outputs": [
    {
     "name": "stdout",
     "output_type": "stream",
     "text": [
      "   COUNT(*)\n",
      "0     24997 \n",
      "\n",
      "   AVG(Price)\n",
      "0    35.46708 \n",
      "\n",
      "   MAX(Price)\n",
      "0      2500.0 \n",
      "\n"
     ]
    }
   ],
   "source": [
    "# Run SQLite queries using Pandas.\n",
    "\n",
    "# Calculate the total number of rows in the staging_wine table.\n",
    "df_count_query = pd.read_sql_query(\"SELECT COUNT(*) FROM staging_wines;\", conn)\n",
    "print(df_count_query.head(), '\\n')\n",
    "\n",
    "# Calculate the average price of a bottle of wine. \n",
    "df_average_query = pd.read_sql_query(\"SELECT AVG(Price) FROM staging_wines;\", conn)\n",
    "print(df_average_query.head(), '\\n')\n",
    "\n",
    "# Calculate the price of the most expensive bottle of wine.\n",
    "df_max_query = pd.read_sql_query(\"SELECT MAX(Price) FROM staging_wines;\", conn)\n",
    "print(df_max_query.head(), '\\n')\n"
   ]
  },
  {
   "cell_type": "markdown",
   "metadata": {},
   "source": [
    "# Task 2\n",
    "# Load the staged data into the Wine Mart.\n",
    "# (i.e. Load into 4 tables; DimWinery, DimGeography, DimVariety and FactWine)"
   ]
  },
  {
   "cell_type": "code",
   "execution_count": 13,
   "metadata": {},
   "outputs": [
    {
     "name": "stdout",
     "output_type": "stream",
     "text": [
      "DimWinery table has been created.\n",
      "DimGeography table has been created.\n",
      "DimVariety table has been created.\n",
      "FactWine table has been created.\n"
     ]
    }
   ],
   "source": [
    "# Create the 4 tables.\n",
    "\n",
    "DimWinery = \"\"\"\n",
    "    CREATE TABLE IF NOT EXISTS DimWinery (\n",
    "    Winery_Id INTEGER PRIMARY KEY,\n",
    "    WineryName TEXT\n",
    "    ); \n",
    "\"\"\"\n",
    "\n",
    "DimGeography = \"\"\"\n",
    "    CREATE TABLE IF NOT EXISTS DimGeography (\n",
    "    Geography_Id INTEGER PRIMARY KEY,\n",
    "    Country TEXT,\n",
    "    Province TEXT,\n",
    "    County TEXT\n",
    "    ); \n",
    "\"\"\"\n",
    "\n",
    "DimVariety = \"\"\"\n",
    "    CREATE TABLE IF NOT EXISTS DimVariety (\n",
    "    Variety_Id INTEGER PRIMARY KEY,\n",
    "    Variety TEXT\n",
    "    ); \n",
    "\"\"\"\n",
    "\n",
    "FactWine = \"\"\"\n",
    "    CREATE TABLE IF NOT EXISTS FactWine (\n",
    "    Wine_Id INTEGER PRIMARY KEY,\n",
    "    Title TEXT,\n",
    "    Winery_Id INTEGER,\n",
    "    Geography_Id INTEGER,\n",
    "    Variety_Id INTEGER,\n",
    "    Points INTEGER,\n",
    "    Price REAL,\n",
    "    Vintage TEXT,\n",
    "    FOREIGN KEY (Winery_Id) REFERENCES DimWinery (Winery_Id),\n",
    "    FOREIGN KEY (Geography_Id) REFERENCES DimGeography (Geography_Id),\n",
    "    FOREIGN KEY (Variety_Id) REFERENCES DimVariety (Variety_Id)\n",
    "    ); \n",
    "\"\"\"\n",
    "\n",
    "# Execute the SQL commands.\n",
    "cur.execute(DimWinery)\n",
    "print('DimWinery table has been created.')\n",
    "\n",
    "cur.execute(DimGeography)\n",
    "print('DimGeography table has been created.')\n",
    "\n",
    "cur.execute(DimVariety)\n",
    "print('DimVariety table has been created.')\n",
    "\n",
    "cur.execute(FactWine)\n",
    "print('FactWine table has been created.')\n",
    "\n",
    "\n",
    "# Commit the changes.\n",
    "conn.commit()\n"
   ]
  },
  {
   "cell_type": "code",
   "execution_count": 14,
   "metadata": {},
   "outputs": [
    {
     "name": "stdout",
     "output_type": "stream",
     "text": [
      "9037\n",
      "450\n",
      "1184\n"
     ]
    }
   ],
   "source": [
    "# Generate primary keys for Winery, Variety and Geography.\n",
    "Winery_PK_dict = dict()\n",
    "Variety_PK_dict = dict()\n",
    "Geography_PK_dict = dict()\n",
    "\n",
    "\n",
    "# Primary keys start from 1.\n",
    "Winery_PK_Id = 1\n",
    "Variety_PK_Id = 1\n",
    "Geography_PK_Id = 1\n",
    "\n",
    "for row in range(df_rows):\n",
    "    Winery_name = dfWines.loc[row, 'Winery']\n",
    "    if Winery_name not in Winery_PK_dict:\n",
    "        Winery_PK_dict[Winery_name] = Winery_PK_Id \n",
    "        Winery_PK_Id += 1\n",
    "          \n",
    "    Variety_name = dfWines.loc[row, 'Variety'] \n",
    "    if Variety_name not in Variety_PK_dict:\n",
    "        Variety_PK_dict[Variety_name] = Variety_PK_Id \n",
    "        Variety_PK_Id += 1\n",
    "        \n",
    "    Geography_names = (dfWines.loc[row, 'Country'], dfWines.loc[row, 'Province'], dfWines.loc[row, 'County']) # Return a tuple.\n",
    "    if Geography_names not in Geography_PK_dict:\n",
    "        Geography_PK_dict[Geography_names] = Geography_PK_Id\n",
    "        Geography_PK_Id += 1\n",
    "        \n",
    "\n",
    "#print(Winery_PK_dict)\n",
    "len_Winery_PK_dict = len(Winery_PK_dict)\n",
    "print(len_Winery_PK_dict)\n",
    "\n",
    "#print(Variety_PK_dict)\n",
    "len_Variety_PK_dict = len(Variety_PK_dict) \n",
    "print(len_Variety_PK_dict)\n",
    "\n",
    "#print(Geography_PK_dict)\n",
    "len_Geography_PK_dict = len(Geography_PK_dict)\n",
    "print(len_Geography_PK_dict)\n",
    "      "
   ]
  },
  {
   "cell_type": "code",
   "execution_count": 15,
   "metadata": {},
   "outputs": [
    {
     "name": "stdout",
     "output_type": "stream",
     "text": [
      "\n",
      "9037 Records transferred.\n",
      "\n",
      "450 Records transferred.\n",
      "\n",
      "1184 Records transferred.\n"
     ]
    }
   ],
   "source": [
    "# Populate the DimWinery, Dim Variety and DimGeography tables.\n",
    "\n",
    "num_records = 0\n",
    "for WineryName in Winery_PK_dict:\n",
    "    cur.execute(\"\"\"INSERT INTO DimWinery VALUES (?,?);\"\"\",  (Winery_PK_dict[WineryName], WineryName))\n",
    "    num_records += 1\n",
    "print('\\n{} Records transferred.'.format(num_records))\n",
    "\n",
    "\n",
    "num_records = 0\n",
    "for VarietyName in Variety_PK_dict:\n",
    "    cur.execute(\"\"\"INSERT INTO DimVariety VALUES (?,?);\"\"\",  (Variety_PK_dict[VarietyName], VarietyName))\n",
    "    num_records += 1\n",
    "print('\\n{} Records transferred.'.format(num_records))\n",
    "\n",
    "num_records = 0\n",
    "for GeographyNames in Geography_PK_dict:\n",
    "    cur.execute(\"\"\"INSERT INTO DimGeography VALUES (?,?,?,?);\"\"\",  (Geography_PK_dict[GeographyNames], GeographyNames[0], GeographyNames[1], GeographyNames[2]))\n",
    "    num_records += 1\n",
    "print('\\n{} Records transferred.'.format(num_records))\n",
    "  \n",
    "conn.commit()\n"
   ]
  },
  {
   "cell_type": "code",
   "execution_count": 16,
   "metadata": {},
   "outputs": [
    {
     "name": "stdout",
     "output_type": "stream",
     "text": [
      "\n",
      "24997 Records transferred.\n"
     ]
    }
   ],
   "source": [
    "# Populate the FactWine table.\n",
    "\n",
    "num_records = 0\n",
    "\n",
    "for row in range(df_rows):\n",
    "    Title = dfWines.loc[row, 'Title']\n",
    "    Winery_Id = Winery_PK_dict[dfWines.loc[row, 'Winery']]\n",
    "    Geography_Id = Geography_PK_dict[(dfWines.loc[row, 'Country'], dfWines.loc[row, 'Province'], dfWines.loc[row, 'County'])]\n",
    "    Variety_Id = Variety_PK_dict[dfWines.loc[row, 'Variety']]  \n",
    "    Points = dfWines.loc[row, 'Points']\n",
    "    Price = dfWines.loc[row, 'Price']\n",
    "    Vintage = dfWines.loc[row, 'Vintage']\n",
    "    cur.execute(\"\"\"INSERT INTO FactWine VALUES (?,?,?,?,?,?,?,?);\"\"\", (row+1, Title, Winery_Id, Geography_Id, Variety_Id, Points, Price, Vintage)) \n",
    "    #conn.commit()\n",
    "    num_records += 1\n",
    "\n",
    "conn.commit()\n",
    "print('\\n{} Records transferred.'.format(num_records))\n"
   ]
  },
  {
   "cell_type": "code",
   "execution_count": 18,
   "metadata": {},
   "outputs": [
    {
     "name": "stdout",
     "output_type": "stream",
     "text": [
      "   COUNT(*)\n",
      "0     24997 \n",
      "\n"
     ]
    }
   ],
   "source": [
    "# Run SQLite queries using Pandas.\n",
    "\n",
    "# Calculate the total number of rows in the FactWine table.\n",
    "df_count_query = pd.read_sql_query(\"SELECT COUNT(*) FROM FactWine;\", conn)\n",
    "print(df_count_query.head(), '\\n')"
   ]
  },
  {
   "cell_type": "code",
   "execution_count": 19,
   "metadata": {},
   "outputs": [],
   "source": [
    "# Close the cursor and database connection.\n",
    "cur.close()\n",
    "conn.close()\n"
   ]
  }
 ],
 "metadata": {
  "kernelspec": {
   "display_name": "Python 3",
   "language": "python",
   "name": "python3"
  },
  "language_info": {
   "codemirror_mode": {
    "name": "ipython",
    "version": 3
   },
   "file_extension": ".py",
   "mimetype": "text/x-python",
   "name": "python",
   "nbconvert_exporter": "python",
   "pygments_lexer": "ipython3",
   "version": "3.8.5"
  }
 },
 "nbformat": 4,
 "nbformat_minor": 4
}
