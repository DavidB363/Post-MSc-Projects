{
 "cells": [
  {
   "cell_type": "code",
   "execution_count": 1,
   "metadata": {},
   "outputs": [],
   "source": [
    "# Generate the coordinate file to be used by program 'planet'.\n"
   ]
  },
  {
   "cell_type": "code",
   "execution_count": 2,
   "metadata": {},
   "outputs": [
    {
     "name": "stdout",
     "output_type": "stream",
     "text": [
      "[2555.27, 6247.21, 5552.94]\n"
     ]
    }
   ],
   "source": [
    "# Set the variable num_stations to any value you like.\n",
    "# Note that the run time for the program goes up exponentially \n",
    "# with num_stations.\n",
    "# E.g.\n",
    "# numstations = 10 : 2 seconds\n",
    "# numstations = 11 : 27 seconds\n",
    "# numstations = 12 : 180 seconds\n",
    "\n",
    "\n",
    "num_stations = 6 # The number of teleportation stations.\n",
    "import random\n",
    "\n",
    "random.seed(169)\n",
    "\n",
    "def generate_rand_coords():\n",
    "    rand_coord = []\n",
    "    for i in range(3): # x, y and z coordinates.\n",
    "        #rand_coord.append(random.randint(1,10)) # Test code!\n",
    "        \n",
    "        # Note: The original question specified random numbers between -10000.00 and 10000.00.\n",
    "        # Generate a random number between -10000.00 and 10000.00.\n",
    "        #rand1 = random.random()\n",
    "        #rand2 = int(2*1000000*(rand1-0.5))\n",
    "        #rand3 = rand2/100\n",
    "        #rand_coord.append(rand3)\n",
    "        \n",
    "        \n",
    "        # NOTE: changing the random numbers to be between 0 and 10000.00 makes for more interesting results!!!\n",
    "        # Generate a random number between 0.00 and 10000.00.\n",
    "        rand1 = random.random()\n",
    "        rand2 = int(1000000*(rand1))\n",
    "        rand3 = rand2/100\n",
    "        rand_coord.append(rand3)\n",
    "        \n",
    "        \n",
    "    return(rand_coord)\n",
    "        \n",
    "random_coords = generate_rand_coords()\n",
    "print(random_coords)\n",
    "        "
   ]
  },
  {
   "cell_type": "code",
   "execution_count": 3,
   "metadata": {},
   "outputs": [
    {
     "name": "stdout",
     "output_type": "stream",
     "text": [
      "[[0.0, 0.0, 0.0], [1228.82, 7900.78, 3448.16], [7513.57, 2693.08, 5659.55], [8283.84, 6026.05, 1282.68], [6979.48, 2293.86, 1409.24], [7885.8, 2070.16, 3012.24]]\n"
     ]
    }
   ],
   "source": [
    "# Generate coordinates for all the stations except the first. \n",
    "# The first station - index 0 - (Earth) has coordinates (0.0, 0.0, 0.0).\n",
    "\n",
    "coord_list = [[0.0, 0.0, 0.0]]\n",
    "for i in range(1,num_stations):\n",
    "    rand_coords = generate_rand_coords()\n",
    "    coord_list.append(rand_coords)\n",
    "    \n",
    "print(coord_list)"
   ]
  },
  {
   "cell_type": "code",
   "execution_count": 4,
   "metadata": {},
   "outputs": [],
   "source": [
    "\n",
    "\n",
    "f = open('input.txt', 'w+') # Write and read to file 'f'.\n",
    "\n",
    "def write_coords_to_file(index):\n",
    "    for i in range(3):\n",
    "        f.write(str(coord_list[index][i])+'\\n')  \n",
    "\n",
    "# Write the coordinates for the last station (Zearth).\n",
    "write_coords_to_file(num_stations-1)\n",
    "\n",
    "# Write the number of stations.\n",
    "f.write(str(num_stations)+'\\n')\n",
    "\n",
    "# Write the coordinates from the first to the last station.\n",
    "for i in range(num_stations):\n",
    "    write_coords_to_file(i)\n",
    "    \n",
    "f.close()"
   ]
  },
  {
   "cell_type": "code",
   "execution_count": null,
   "metadata": {},
   "outputs": [],
   "source": []
  }
 ],
 "metadata": {
  "kernelspec": {
   "display_name": "Python 3",
   "language": "python",
   "name": "python3"
  },
  "language_info": {
   "codemirror_mode": {
    "name": "ipython",
    "version": 3
   },
   "file_extension": ".py",
   "mimetype": "text/x-python",
   "name": "python",
   "nbconvert_exporter": "python",
   "pygments_lexer": "ipython3",
   "version": "3.8.5"
  }
 },
 "nbformat": 4,
 "nbformat_minor": 4
}
