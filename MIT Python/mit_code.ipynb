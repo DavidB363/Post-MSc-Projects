{
 "cells": [
  {
   "cell_type": "code",
   "execution_count": 12,
   "metadata": {},
   "outputs": [
    {
     "data": {
      "text/plain": [
       "44123599918129761328184070469116708144736288090920570303775527162217560718317595612454571830598957302231540454477753581254621931131469148013721048087096474091343480638022841343916021420122902171449517120635369030002141373767462922576438549465743559201"
      ]
     },
     "execution_count": 12,
     "metadata": {},
     "output_type": "execute_result"
    }
   ],
   "source": [
    "# Memoisation.\n",
    "\n",
    "def fast_fib(n, memo ={}):\n",
    "    if n == 0 or n == 1:\n",
    "        return 1\n",
    "    try:\n",
    "        return memo[n]\n",
    "    except:\n",
    "        result = fast_fib(n-1, memo) + fast_fib(n-2, memo)\n",
    "        memo[n] = result\n",
    "        return result\n",
    "    \n",
    "fib(1200)"
   ]
  },
  {
   "cell_type": "code",
   "execution_count": 13,
   "metadata": {},
   "outputs": [],
   "source": [
    "my_dict = {1:20, 2:40, 3:60}\n",
    "\n",
    "i = 4\n",
    "if i in my_dict.keys():\n",
    "    print(my_dict[i])"
   ]
  },
  {
   "cell_type": "code",
   "execution_count": 15,
   "metadata": {},
   "outputs": [
    {
     "data": {
      "text/plain": [
       "44123599918129761328184070469116708144736288090920570303775527162217560718317595612454571830598957302231540454477753581254621931131469148013721048087096474091343480638022841343916021420122902171449517120635369030002141373767462922576438549465743559201"
      ]
     },
     "execution_count": 15,
     "metadata": {},
     "output_type": "execute_result"
    }
   ],
   "source": [
    "# Memoisation. My vesrion!\n",
    "\n",
    "def fast_fib(n, memo ={}):\n",
    "    if n == 0 or n == 1:\n",
    "        return 1\n",
    "    if n in memo.keys():\n",
    "        return memo[n]\n",
    "    else:\n",
    "        result = fast_fib(n-1, memo) + fast_fib(n-2, memo)\n",
    "        memo[n] = result\n",
    "        return result\n",
    "\n",
    "fib(1200)"
   ]
  },
  {
   "cell_type": "code",
   "execution_count": 2,
   "metadata": {},
   "outputs": [
    {
     "name": "stdout",
     "output_type": "stream",
     "text": [
      "[0, 1, 2, 3]\n"
     ]
    }
   ],
   "source": [
    "x = list(range(4))\n",
    "print(x)"
   ]
  },
  {
   "cell_type": "code",
   "execution_count": 5,
   "metadata": {},
   "outputs": [
    {
     "name": "stdout",
     "output_type": "stream",
     "text": [
      "[1, 2, 3, 4] [] []\n",
      "\n",
      "\n"
     ]
    }
   ],
   "source": [
    "# Towers of Hanoi.\n",
    "\n",
    "# Global variables.\n",
    "stack = [[],[],[]]\n",
    "num_disks = 4\n",
    "num_moves = 0\n",
    "\n",
    "def initialise_stack(n = 0):\n",
    "    global stack\n",
    "    stack = [list(range(1,n+1)),[],[]]\n",
    "    \n",
    "def print_config():\n",
    "        print(stack[0], stack[1], stack[2])\n",
    "        print('\\n')\n",
    "    \n",
    "initialise_stack(num_disks) # Put all the disks on peg 0.\n",
    "print_config()\n",
    "\n",
    "    "
   ]
  },
  {
   "cell_type": "code",
   "execution_count": 6,
   "metadata": {},
   "outputs": [
    {
     "name": "stdout",
     "output_type": "stream",
     "text": [
      "[1, 2, 3, 4] [] []\n",
      "\n",
      "\n",
      "[2, 3, 4] [1] []\n",
      "\n",
      "\n",
      "[3, 4] [1] [2]\n",
      "\n",
      "\n",
      "[3, 4] [] [1, 2]\n",
      "\n",
      "\n",
      "[4] [3] [1, 2]\n",
      "\n",
      "\n",
      "[1, 4] [3] [2]\n",
      "\n",
      "\n",
      "[1, 4] [2, 3] []\n",
      "\n",
      "\n",
      "[4] [1, 2, 3] []\n",
      "\n",
      "\n",
      "[] [1, 2, 3] [4]\n",
      "\n",
      "\n",
      "[] [2, 3] [1, 4]\n",
      "\n",
      "\n",
      "[2] [3] [1, 4]\n",
      "\n",
      "\n",
      "[1, 2] [3] [4]\n",
      "\n",
      "\n",
      "[1, 2] [] [3, 4]\n",
      "\n",
      "\n",
      "[2] [1] [3, 4]\n",
      "\n",
      "\n",
      "[] [1] [2, 3, 4]\n",
      "\n",
      "\n",
      "[] [] [1, 2, 3, 4]\n",
      "\n",
      "\n",
      "number of moves = 15\n"
     ]
    }
   ],
   "source": [
    "def move (n, start_peg = 0, inter_peg = 1, end_peg = 2):\n",
    "    global num_moves\n",
    "    if n == 1:\n",
    "        disk_to_move = stack[start_peg].pop(0)\n",
    "        stack[end_peg].insert(0, disk_to_move)\n",
    "        num_moves += 1\n",
    "        print_config()\n",
    "        \n",
    "    else:\n",
    "        move(n-1, start_peg, end_peg, inter_peg)\n",
    "        disk_to_move = stack[start_peg].pop(0)\n",
    "        stack[end_peg].insert(0, disk_to_move)\n",
    "        num_moves += 1\n",
    "        print_config()\n",
    "        move(n-1, inter_peg, start_peg, end_peg)\n",
    "        \n",
    "print_config() \n",
    "move(num_disks)  \n",
    "print('number of moves =', num_moves )\n"
   ]
  },
  {
   "cell_type": "code",
   "execution_count": 17,
   "metadata": {},
   "outputs": [
    {
     "name": "stdout",
     "output_type": "stream",
     "text": [
      "[]\n",
      "<class 'list'>\n",
      "5\n",
      "<class 'int'>\n",
      "[5]\n"
     ]
    }
   ],
   "source": [
    "t = [5]\n",
    "u = []\n",
    "x = t.pop(0)\n",
    "print(t)\n",
    "print(type(t))\n",
    "print(x)\n",
    "print(type(x))\n",
    "u.append(x)\n",
    "print(u)"
   ]
  },
  {
   "cell_type": "code",
   "execution_count": 29,
   "metadata": {},
   "outputs": [
    {
     "name": "stdout",
     "output_type": "stream",
     "text": [
      "[11]\n"
     ]
    }
   ],
   "source": [
    "# list.insert(index, element) \n",
    "\n",
    "t = []\n",
    "t.insert(0,11)\n",
    "print(t)"
   ]
  },
  {
   "cell_type": "code",
   "execution_count": 56,
   "metadata": {},
   "outputs": [
    {
     "data": {
      "text/plain": [
       "32768"
      ]
     },
     "execution_count": 56,
     "metadata": {},
     "output_type": "execute_result"
    }
   ],
   "source": [
    "2**15"
   ]
  },
  {
   "cell_type": "code",
   "execution_count": 57,
   "metadata": {},
   "outputs": [
    {
     "data": {
      "text/plain": [
       "33554432"
      ]
     },
     "execution_count": 57,
     "metadata": {},
     "output_type": "execute_result"
    }
   ],
   "source": [
    "2**25"
   ]
  },
  {
   "cell_type": "code",
   "execution_count": 68,
   "metadata": {},
   "outputs": [
    {
     "data": {
      "text/plain": [
       "64"
      ]
     },
     "execution_count": 68,
     "metadata": {},
     "output_type": "execute_result"
    }
   ],
   "source": [
    "2**6"
   ]
  },
  {
   "cell_type": "code",
   "execution_count": null,
   "metadata": {},
   "outputs": [],
   "source": []
  }
 ],
 "metadata": {
  "kernelspec": {
   "display_name": "Python 3",
   "language": "python",
   "name": "python3"
  },
  "language_info": {
   "codemirror_mode": {
    "name": "ipython",
    "version": 3
   },
   "file_extension": ".py",
   "mimetype": "text/x-python",
   "name": "python",
   "nbconvert_exporter": "python",
   "pygments_lexer": "ipython3",
   "version": "3.7.4"
  }
 },
 "nbformat": 4,
 "nbformat_minor": 2
}
