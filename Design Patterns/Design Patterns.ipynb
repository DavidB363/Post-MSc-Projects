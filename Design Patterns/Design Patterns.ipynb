{
 "cells": [
  {
   "cell_type": "markdown",
   "metadata": {},
   "source": [
    "# Design Patterns"
   ]
  },
  {
   "cell_type": "code",
   "execution_count": 1,
   "metadata": {},
   "outputs": [],
   "source": [
    "# A software design pattern is a general reusable solution\n",
    "# to a commonly occuring problem."
   ]
  },
  {
   "cell_type": "code",
   "execution_count": 2,
   "metadata": {},
   "outputs": [],
   "source": [
    "# Types of design patterns:\n",
    "# 1. Creational.\n",
    "# 2. Structural.\n",
    "# 3. Behavioural."
   ]
  },
  {
   "cell_type": "code",
   "execution_count": 3,
   "metadata": {},
   "outputs": [],
   "source": [
    "# Types Creational Design Patterns.\n",
    "# (Creation of objects)\n",
    "#\n",
    "# Singleton.\n",
    "# Factory.\n",
    "# Builder.\n",
    "# Prototype."
   ]
  },
  {
   "cell_type": "code",
   "execution_count": 4,
   "metadata": {},
   "outputs": [],
   "source": [
    "# Types Structural Design Patterns.\n",
    "# (Simplify the structure by identifying relationships between objects)\n",
    "#\n",
    "# Adaptor.\n",
    "# Decorator.\n",
    "# Facade.\n",
    "# Proxy."
   ]
  },
  {
   "cell_type": "code",
   "execution_count": 5,
   "metadata": {},
   "outputs": [],
   "source": [
    "# Types Behavioural Design Patterns.\n",
    "# (How objects behave)\n",
    "#\n",
    "# Chain of responsibilty.\n",
    "# Strategy.\n",
    "# Observer.\n",
    "# State.\n",
    "# Template.\n",
    "# Flyweight."
   ]
  },
  {
   "cell_type": "code",
   "execution_count": 6,
   "metadata": {},
   "outputs": [],
   "source": [
    "# The rest of this notebook is based on the Youtube video by Ariel Ortiz:\n",
    "# 'Design Patterns in Python for the Untrained Eye'.\n",
    "# Material for tutorial at : bit.ly/2V819eq"
   ]
  },
  {
   "cell_type": "markdown",
   "metadata": {},
   "source": [
    "# Design Principles"
   ]
  },
  {
   "cell_type": "code",
   "execution_count": 7,
   "metadata": {},
   "outputs": [],
   "source": [
    "# 1. Separate out the things that change from those that stay the same.\n",
    "# 2. Program to an interface, not an implementation.\n",
    "# 3. Prefer composition over inheritance.\n",
    "# 4. Delegation."
   ]
  },
  {
   "cell_type": "code",
   "execution_count": 8,
   "metadata": {},
   "outputs": [],
   "source": [
    "# Anatomy of a design pattern.\n",
    "#\n",
    "# 1. Intent.\n",
    "# 2. Motivation.\n",
    "# 3. Structure.\n",
    "# 4. Implementation."
   ]
  },
  {
   "cell_type": "markdown",
   "metadata": {},
   "source": [
    "# Singleton Design Pattern"
   ]
  },
  {
   "cell_type": "code",
   "execution_count": 9,
   "metadata": {},
   "outputs": [],
   "source": [
    "# Singleton is a creation design pattern that ensures a class\n",
    "# has only one instance, while providing a global access\n",
    "# point to this instance."
   ]
  },
  {
   "cell_type": "code",
   "execution_count": 10,
   "metadata": {},
   "outputs": [],
   "source": [
    "# Example: Tigger.\n",
    "\n",
    "# The code in this cell could be saved in a module called tigger.py\n",
    "class _Tigger: # Class Tigger is made private by a leading underscore character.\n",
    "\n",
    "    def __str__(self):\n",
    "        return \"I'm the only one!\"\n",
    "\n",
    "    def roar(self):\n",
    "        return 'Grrr!'\n",
    "    \n",
    "_instance = None # private module-scoped variable.\n",
    "\n",
    "def Tigger():\n",
    "    global _instance\n",
    "    if _instance is None:\n",
    "        _instance = _Tigger()\n",
    "    return _instance\n",
    "        "
   ]
  },
  {
   "cell_type": "code",
   "execution_count": 11,
   "metadata": {},
   "outputs": [
    {
     "name": "stdout",
     "output_type": "stream",
     "text": [
      "ID(a) = 1849711133936\n",
      "ID(b) = 1849711133936\n",
      "Are they the same object? True\n"
     ]
    }
   ],
   "source": [
    "# Could import Tigger from tigger.py using the command:\n",
    "# from tigger import Tigger\n",
    "\n",
    "a = Tigger() # Note that the function Tigger is being called, not class _Tigger.\n",
    "b = Tigger()\n",
    "\n",
    "print(f'ID(a) = {id(a)}') # Print the unique id of object a.\n",
    "print(f'ID(b) = {id(b)}') # Print the unique id of object b.\n",
    "print(f'Are they the same object? {a is b}')"
   ]
  },
  {
   "cell_type": "code",
   "execution_count": 12,
   "metadata": {},
   "outputs": [
    {
     "data": {
      "text/plain": [
       "<__main__._Tigger at 0x1aeab6004f0>"
      ]
     },
     "execution_count": 12,
     "metadata": {},
     "output_type": "execute_result"
    }
   ],
   "source": [
    "a"
   ]
  },
  {
   "cell_type": "code",
   "execution_count": 13,
   "metadata": {},
   "outputs": [
    {
     "data": {
      "text/plain": [
       "<__main__._Tigger at 0x1aeab6004f0>"
      ]
     },
     "execution_count": 13,
     "metadata": {},
     "output_type": "execute_result"
    }
   ],
   "source": [
    "b"
   ]
  },
  {
   "cell_type": "code",
   "execution_count": 14,
   "metadata": {},
   "outputs": [
    {
     "name": "stdout",
     "output_type": "stream",
     "text": [
      "I'm the only one!\n",
      "Grrr!\n",
      "I'm the only one!\n",
      "Grrr!\n"
     ]
    }
   ],
   "source": [
    "print(a)\n",
    "print(a.roar())\n",
    "print(b)\n",
    "print(b.roar())"
   ]
  },
  {
   "cell_type": "markdown",
   "metadata": {},
   "source": [
    "# Template Method Design Pattern"
   ]
  },
  {
   "cell_type": "code",
   "execution_count": 15,
   "metadata": {},
   "outputs": [],
   "source": [
    "#  The template method is a behavioural design pattern that defines\n",
    "# the skeleton of an algorithm in the base class, but lets derived\n",
    "# classes override specific stepes of the algorithm without changing its\n",
    "# structure."
   ]
  },
  {
   "cell_type": "code",
   "execution_count": 16,
   "metadata": {},
   "outputs": [],
   "source": [
    "# Example: An average calculator.\n",
    "\n",
    "from abc import ABC # ABC is a Python Abstract Base class.\n",
    "from abc import abstractmethod # An abstractmethod is a method that \n",
    "                                # must be implemented in the derived classes.\n",
    "\n",
    "class AverageCalculator(ABC): \n",
    "\n",
    "    def average(self): \n",
    "        try:\n",
    "            num_items = 0\n",
    "            total_sum = 0\n",
    "            while self.has_next():\n",
    "                total_sum += self.next_item()\n",
    "                num_items += 1\n",
    "            if num_items == 0:\n",
    "                raise RuntimeError(\"Can't compute the average of zero items.\")\n",
    "            return total_sum / num_items\n",
    "        finally:\n",
    "            self.dispose()\n",
    "\n",
    "    @abstractmethod\n",
    "    def has_next(self): \n",
    "        pass\n",
    "\n",
    "    @abstractmethod\n",
    "    def next_item(self): \n",
    "        pass\n",
    "    \n",
    "    # Note that dispose() is not an abstractmethod.\n",
    "    def dispose(self): \n",
    "        pass\n",
    "    "
   ]
  },
  {
   "cell_type": "code",
   "execution_count": 17,
   "metadata": {},
   "outputs": [],
   "source": [
    "# Create a derived class FileAverageCalculator to calculate\n",
    "# the average of the elements in a file.\n",
    "\n",
    "class FileAverageCalculator(AverageCalculator):\n",
    "\n",
    "    def __init__(self, file): \n",
    "        self.file = file\n",
    "        self.last_line = self.file.readline() \n",
    "\n",
    "    def has_next(self):\n",
    "        return self.last_line != '' \n",
    "\n",
    "    def next_item(self):\n",
    "        result = float(self.last_line)\n",
    "        self.last_line = self.file.readline() \n",
    "        return result\n",
    "\n",
    "    def dispose(self):\n",
    "        self.file.close()"
   ]
  },
  {
   "cell_type": "code",
   "execution_count": 18,
   "metadata": {},
   "outputs": [],
   "source": [
    "# A data.txt file exists with the following data:\n",
    "# 4\n",
    "# 8\n",
    "# 15\n",
    "# 16\n",
    "# 23\n",
    "# 42\n"
   ]
  },
  {
   "cell_type": "code",
   "execution_count": 19,
   "metadata": {},
   "outputs": [
    {
     "name": "stdout",
     "output_type": "stream",
     "text": [
      "18.0\n"
     ]
    }
   ],
   "source": [
    "\n",
    "# Calculate the average of the elements of data.txt.\n",
    "fac = FileAverageCalculator(open('data.txt'))\n",
    "print(fac.average()) # Call the template method."
   ]
  },
  {
   "cell_type": "code",
   "execution_count": 20,
   "metadata": {},
   "outputs": [],
   "source": [
    "# Create a derived class MemoryAverageCalculator to calculate\n",
    "# the average of the elements in a list.\n",
    "\n",
    "class MemoryAverageCalculator(AverageCalculator):\n",
    "    \n",
    "    def __init__(self, lst): \n",
    "        self.lst = lst\n",
    "        self.index = 0\n",
    "\n",
    "    def has_next(self):\n",
    "        return self.index < len(self.lst) \n",
    "\n",
    "    def next_item(self):    \n",
    "        result = float(self.lst[self.index])\n",
    "        self.index += 1           \n",
    "        return result\n"
   ]
  },
  {
   "cell_type": "code",
   "execution_count": 21,
   "metadata": {},
   "outputs": [
    {
     "name": "stdout",
     "output_type": "stream",
     "text": [
      "3.9\n"
     ]
    }
   ],
   "source": [
    "\n",
    "mac = MemoryAverageCalculator([3, 1, 4, 1, 5, 9, 2, 6, 5, 3])\n",
    "print(mac.average()) # Call the template method."
   ]
  },
  {
   "cell_type": "markdown",
   "metadata": {},
   "source": [
    "# Adapter Design Pattern"
   ]
  },
  {
   "cell_type": "code",
   "execution_count": 22,
   "metadata": {},
   "outputs": [],
   "source": [
    "# Adapter is a structural design pattern that converts the interface of a class \n",
    "# into another interface that clients expect. \n",
    "# Adapter lets classes work together that couldn’t otherwise \n",
    "# because of incompatible interfaces.\n",
    "# (Also known as a 'Wrapper'.)"
   ]
  },
  {
   "cell_type": "code",
   "execution_count": 23,
   "metadata": {},
   "outputs": [],
   "source": [
    "# Example: An average calculator that takes a generator as input.\n",
    "# Although the Template Method could be used, an Adapter is\n",
    "# produced.\n",
    "# Note : reading the next line of a file uses readline()\n",
    "#      : getting the next generated number uses next()\n",
    "# Therefore files and generators share similarities, so that\n",
    "# an Adapter can be used."
   ]
  },
  {
   "cell_type": "code",
   "execution_count": 24,
   "metadata": {},
   "outputs": [
    {
     "name": "stdout",
     "output_type": "stream",
     "text": [
      "1\n",
      "2\n",
      "4\n",
      "[8, 16, 32, 64, 128, 256, 512]\n"
     ]
    }
   ],
   "source": [
    "# Example of a generator.\n",
    "\n",
    "g = (2 ** i for i in range(10))\n",
    "\n",
    "# Elements of g are produced on demand, not all at once!\n",
    "\n",
    "print(next(g)) # Get first power of 2.\n",
    "print(next(g)) # Get second power of 2.\n",
    "print(next(g)) # Get third power of 2.\n",
    "print(list(g)) # Get, as a list, the remaining seven powers of 2."
   ]
  },
  {
   "cell_type": "code",
   "execution_count": 25,
   "metadata": {},
   "outputs": [],
   "source": [
    "class GeneratorAdapter:\n",
    "\n",
    "    def __init__(self, adaptee): # adaptee is a generator object.\n",
    "        self.adaptee = adaptee\n",
    "\n",
    "    def readline(self):\n",
    "        try:\n",
    "            return next(self.adaptee) \n",
    "        except StopIteration:\n",
    "            return '' # Returning an empty string emulates file behaviour.\n",
    "\n",
    "    def close(self): \n",
    "        pass # There is no need to free memory resources when using generators."
   ]
  },
  {
   "cell_type": "code",
   "execution_count": 26,
   "metadata": {},
   "outputs": [
    {
     "name": "stdout",
     "output_type": "stream",
     "text": [
      "50.551279\n"
     ]
    }
   ],
   "source": [
    "# Create a generator that generates one million random numbers between 1 and 100.\n",
    "from random import randint\n",
    "\n",
    "g = (randint(1, 100) for i in range(1000000)) \n",
    "fac = FileAverageCalculator(GeneratorAdapter(g)) # Use the file class with the adapted generator.\n",
    "print(fac.average()) # Call the template method. # Use the file method."
   ]
  },
  {
   "cell_type": "code",
   "execution_count": 27,
   "metadata": {},
   "outputs": [],
   "source": [
    "# Exercise. Poultry."
   ]
  },
  {
   "cell_type": "code",
   "execution_count": 28,
   "metadata": {},
   "outputs": [],
   "source": [
    "class Duck:\n",
    "\n",
    "    def quack(self):\n",
    "      print('Quack')\n",
    "\n",
    "    def fly(self):\n",
    "        print(\"I'm flying\")\n",
    "\n",
    "\n",
    "class Turkey:\n",
    "\n",
    "    def gobble(self):\n",
    "        print('Gobble gobble')\n",
    "\n",
    "    def fly(self):\n",
    "        print(\"I'm flying a short distance\")"
   ]
  },
  {
   "cell_type": "code",
   "execution_count": 29,
   "metadata": {},
   "outputs": [],
   "source": [
    "class TurkeyAdapter:\n",
    "    def __init__(self, adaptee):\n",
    "        self.adaptee = adaptee\n",
    "        \n",
    "    def quack(self):\n",
    "        self.adaptee.gobble()\n",
    "            \n",
    "    def fly(self):\n",
    "        for i in range(5):\n",
    "            self.adaptee.fly()\n",
    "    "
   ]
  },
  {
   "cell_type": "code",
   "execution_count": 30,
   "metadata": {},
   "outputs": [
    {
     "name": "stdout",
     "output_type": "stream",
     "text": [
      "The Turkey says...\n",
      "Gobble gobble\n",
      "I'm flying a short distance\n",
      "\n",
      "The Duck says...\n",
      "Quack\n",
      "I'm flying\n",
      "\n",
      "The TurkeyAdapter says...\n",
      "Gobble gobble\n",
      "I'm flying a short distance\n",
      "I'm flying a short distance\n",
      "I'm flying a short distance\n",
      "I'm flying a short distance\n",
      "I'm flying a short distance\n"
     ]
    }
   ],
   "source": [
    "def duck_interaction(duck):\n",
    "    duck.quack()\n",
    "    duck.fly()\n",
    "\n",
    "\n",
    "duck = Duck()\n",
    "turkey = Turkey()\n",
    "turkey_adapter = TurkeyAdapter(turkey)\n",
    "\n",
    "print('The Turkey says...')\n",
    "turkey.gobble()\n",
    "turkey.fly()\n",
    "\n",
    "print('\\nThe Duck says...')\n",
    "duck_interaction(duck)\n",
    "\n",
    "print('\\nThe TurkeyAdapter says...')\n",
    "duck_interaction(turkey_adapter)"
   ]
  },
  {
   "cell_type": "markdown",
   "metadata": {},
   "source": [
    "# Observer Design Pattern"
   ]
  },
  {
   "cell_type": "code",
   "execution_count": 31,
   "metadata": {},
   "outputs": [],
   "source": [
    "# Observer is a behavioural design pattern that defines a one-to-many\n",
    "# dependency between objects so that when one object changes state, \n",
    "# all its dependents are notified and updated automatically."
   ]
  },
  {
   "cell_type": "code",
   "execution_count": 32,
   "metadata": {},
   "outputs": [],
   "source": [
    "# The cases when certain objects need to be informed about the changes occured in other objects are frequent. \n",
    "# To have a good design means to decouple as much as possible and to reduce the dependencies. \n",
    "# The Observer design pattern can be used whenever a subject (a publisher object) has to be observed by one or \n",
    "# more observers (the subscriber objects)."
   ]
  },
  {
   "cell_type": "code",
   "execution_count": 33,
   "metadata": {},
   "outputs": [],
   "source": [
    "# First, we’ll define the Observer and Observable classes. \n",
    "# These classes provide us the support we require to implement\n",
    "# the pattern in most typical cases:"
   ]
  },
  {
   "cell_type": "code",
   "execution_count": 34,
   "metadata": {},
   "outputs": [],
   "source": [
    "from abc import ABC, abstractmethod\n",
    "\n",
    "\n",
    "class Observer(ABC):\n",
    "\n",
    "    @abstractmethod\n",
    "    def update(self, observable, *args):\n",
    "        pass\n",
    "\n",
    "\n",
    "class Observable:\n",
    "\n",
    "    def __init__(self):\n",
    "        self.__observers = []\n",
    "\n",
    "    def add_observer(self, observer):\n",
    "        self.__observers.append(observer)\n",
    "\n",
    "    def delete_observer(self, observer):\n",
    "        self.__observers.remove(observer)\n",
    "\n",
    "    def notify_observers(self, *args):\n",
    "        for observer in self.__observers:\n",
    "            observer.update(self, *args)"
   ]
  },
  {
   "cell_type": "code",
   "execution_count": 35,
   "metadata": {},
   "outputs": [],
   "source": [
    "# The following code shows how to use these classes. \n",
    "# An Employee instance is an observable object (publisher). \n",
    "# Every time its salary is modified all its registered observer objects (subscribers) get notified. \n",
    "# We provide two concrete observer classes for our demo:\n",
    "\n",
    "# Payroll: A class responsible for paying the salary to an employee.\n",
    "\n",
    "# TaxMan: A class responsible for collecting taxes from the employee."
   ]
  },
  {
   "cell_type": "code",
   "execution_count": 36,
   "metadata": {},
   "outputs": [],
   "source": [
    "class Employee(Observable): \n",
    "\n",
    "    def __init__(self, name, salary):\n",
    "        super().__init__() \n",
    "        self._name = name\n",
    "        self._salary = salary\n",
    "\n",
    "    @property\n",
    "    def name(self):\n",
    "        return self._name\n",
    "\n",
    "    @property\n",
    "    def salary(self):\n",
    "        return self._salary\n",
    "\n",
    "    @salary.setter\n",
    "    def salary(self, new_salary):\n",
    "        self._salary = new_salary\n",
    "        self.notify_observers(new_salary) \n",
    "\n",
    "\n",
    "class Payroll(Observer): \n",
    "\n",
    "    def update(self, changed_employee, new_salary):\n",
    "        print(f'Cut a new check for {changed_employee.name}! '\n",
    "            f'Her/his salary is now {new_salary}!')\n",
    "\n",
    "\n",
    "class TaxMan(Observer): \n",
    "\n",
    "    def update(self, changed_employee, new_salary):\n",
    "        print(f'Send {changed_employee.name} a new tax bill!')"
   ]
  },
  {
   "cell_type": "code",
   "execution_count": 37,
   "metadata": {},
   "outputs": [
    {
     "name": "stdout",
     "output_type": "stream",
     "text": [
      "Update 1\n",
      "Cut a new check for Amy Fowler Fawcett! Her/his salary is now 60000!\n",
      "Send Amy Fowler Fawcett a new tax bill!\n",
      "\n",
      "Update 2\n",
      "Cut a new check for Amy Fowler Fawcett! Her/his salary is now 65000!\n"
     ]
    }
   ],
   "source": [
    "e = Employee('Amy Fowler Fawcett', 50000)\n",
    "p = Payroll()\n",
    "t = TaxMan()\n",
    "\n",
    "e.add_observer(p)\n",
    "e.add_observer(t)\n",
    "\n",
    "print('Update 1')\n",
    "e.salary = 60000\n",
    "\n",
    "e.delete_observer(t)\n",
    "\n",
    "print('\\nUpdate 2')\n",
    "e.salary = 65000"
   ]
  },
  {
   "cell_type": "code",
   "execution_count": null,
   "metadata": {},
   "outputs": [],
   "source": []
  }
 ],
 "metadata": {
  "kernelspec": {
   "display_name": "Python 3",
   "language": "python",
   "name": "python3"
  },
  "language_info": {
   "codemirror_mode": {
    "name": "ipython",
    "version": 3
   },
   "file_extension": ".py",
   "mimetype": "text/x-python",
   "name": "python",
   "nbconvert_exporter": "python",
   "pygments_lexer": "ipython3",
   "version": "3.8.5"
  }
 },
 "nbformat": 4,
 "nbformat_minor": 4
}
