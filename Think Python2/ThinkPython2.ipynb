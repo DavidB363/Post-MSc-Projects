{
 "cells": [
  {
   "cell_type": "markdown",
   "metadata": {},
   "source": [
    "# Think Python 2 code. \n",
    "# David Brookes October 2020."
   ]
  },
  {
   "cell_type": "code",
   "execution_count": 20,
   "metadata": {},
   "outputs": [],
   "source": [
    "# Please reference the book below for more details.\n",
    "#\n",
    "# Think Python\n",
    "# How to Think Like a Computer Scientist\n",
    "# 2nd Edition, Version 2.4.0\n",
    "# Allen Downey\n",
    "# Green Tea Press\n",
    "# Needham, Massachusetts"
   ]
  },
  {
   "cell_type": "markdown",
   "metadata": {},
   "source": [
    "# Chapter 1\n",
    "# Programming"
   ]
  },
  {
   "cell_type": "code",
   "execution_count": 1,
   "metadata": {},
   "outputs": [
    {
     "name": "stdout",
     "output_type": "stream",
     "text": [
      "Hello\n"
     ]
    }
   ],
   "source": [
    "# Printing.\n",
    "print('Hello')"
   ]
  },
  {
   "cell_type": "code",
   "execution_count": 2,
   "metadata": {},
   "outputs": [
    {
     "name": "stdout",
     "output_type": "stream",
     "text": [
      "2\n",
      "8\n",
      "42\n",
      "42.0\n",
      "4.2\n"
     ]
    }
   ],
   "source": [
    "# Simple mathematical operations.\n",
    "print(1+1) \n",
    "print(10-2)\n",
    "print(6*7)\n",
    "print(6.0*7)\n",
    "print(21/5)"
   ]
  },
  {
   "cell_type": "code",
   "execution_count": 3,
   "metadata": {},
   "outputs": [
    {
     "name": "stdout",
     "output_type": "stream",
     "text": [
      "<class 'int'>\n",
      "<class 'float'>\n",
      "<class 'str'>\n"
     ]
    }
   ],
   "source": [
    "# print the type of a value.\n",
    "print(type(2))\n",
    "print(type(2.0))\n",
    "print(type('Hello'))"
   ]
  },
  {
   "cell_type": "code",
   "execution_count": 4,
   "metadata": {},
   "outputs": [
    {
     "name": "stdout",
     "output_type": "stream",
     "text": [
      "<class 'str'>\n",
      "<class 'str'>\n"
     ]
    }
   ],
   "source": [
    "print(type('2'))\n",
    "print(type('2.0'))"
   ]
  },
  {
   "cell_type": "markdown",
   "metadata": {},
   "source": [
    "# Chapter 2\n",
    "# Variables, expressions and statements"
   ]
  },
  {
   "cell_type": "code",
   "execution_count": 5,
   "metadata": {},
   "outputs": [
    {
     "name": "stdout",
     "output_type": "stream",
     "text": [
      "1\n",
      "67.2\n",
      "Hello\n"
     ]
    }
   ],
   "source": [
    "# Variables.\n",
    "x = 1\n",
    "y = 67.2\n",
    "z = 'Hello'\n",
    "print(x)\n",
    "print(y)\n",
    "print(z)"
   ]
  },
  {
   "cell_type": "code",
   "execution_count": 46,
   "metadata": {},
   "outputs": [],
   "source": [
    "# Keywords (appear in green).\n",
    "False\n",
    "class\n",
    "not \n",
    "return\n",
    "# ...and so on."
   ]
  },
  {
   "cell_type": "code",
   "execution_count": 47,
   "metadata": {},
   "outputs": [
    {
     "name": "stdout",
     "output_type": "stream",
     "text": [
      "9\n"
     ]
    }
   ],
   "source": [
    "# Expressions.\n",
    "x = 6\n",
    "print(x+3)"
   ]
  },
  {
   "cell_type": "code",
   "execution_count": 48,
   "metadata": {},
   "outputs": [
    {
     "name": "stdout",
     "output_type": "stream",
     "text": [
      "9\n",
      "18\n",
      "8\n"
     ]
    }
   ],
   "source": [
    "# Order of operations (PEDMAS).\n",
    "x= 1+2**3\n",
    "y = 2*3**2\n",
    "z = (1+1)**(5-2)\n",
    "print(x)\n",
    "print(y)\n",
    "print(z)"
   ]
  },
  {
   "cell_type": "code",
   "execution_count": 49,
   "metadata": {},
   "outputs": [
    {
     "name": "stdout",
     "output_type": "stream",
     "text": [
      "7.0\n",
      "5\n",
      "8\n"
     ]
    }
   ],
   "source": [
    "x = 5+4/2\n",
    "y=2*3-1\n",
    "print(x)\n",
    "print(y)\n",
    "print(z)"
   ]
  },
  {
   "cell_type": "code",
   "execution_count": 50,
   "metadata": {},
   "outputs": [
    {
     "name": "stdout",
     "output_type": "stream",
     "text": [
      "firstsecond\n",
      "firstfirstfirstfirst\n"
     ]
    }
   ],
   "source": [
    "# String operations.\n",
    "string1 = 'first'\n",
    "string2 = 'second'\n",
    "\n",
    "string3 = string1 + string2\n",
    "string4 = string1*4\n",
    "print(string3)\n",
    "print(string4)"
   ]
  },
  {
   "cell_type": "code",
   "execution_count": 52,
   "metadata": {},
   "outputs": [
    {
     "name": "stdout",
     "output_type": "stream",
     "text": [
      "1\n",
      "1\n"
     ]
    }
   ],
   "source": [
    "x=y=1\n",
    "print(x)\n",
    "print(y)"
   ]
  },
  {
   "cell_type": "markdown",
   "metadata": {},
   "source": [
    "# Chapter 3\n",
    "# Functions"
   ]
  },
  {
   "cell_type": "code",
   "execution_count": 53,
   "metadata": {},
   "outputs": [
    {
     "name": "stdout",
     "output_type": "stream",
     "text": [
      "2\n",
      "2\n",
      "-2\n",
      "-2\n"
     ]
    }
   ],
   "source": [
    "print(int(2.333))\n",
    "print(int(2.666))\n",
    "print(int(-2.333))\n",
    "print(int(-2.666))"
   ]
  },
  {
   "cell_type": "code",
   "execution_count": 8,
   "metadata": {},
   "outputs": [
    {
     "name": "stdout",
     "output_type": "stream",
     "text": [
      "32.0\n",
      "3.142\n"
     ]
    }
   ],
   "source": [
    "print(float(32))\n",
    "print(float('3.142'))"
   ]
  },
  {
   "cell_type": "code",
   "execution_count": 54,
   "metadata": {},
   "outputs": [
    {
     "name": "stdout",
     "output_type": "stream",
     "text": [
      "32\n",
      "3.142\n"
     ]
    }
   ],
   "source": [
    "print(str(32))\n",
    "print(str(3.142))"
   ]
  },
  {
   "cell_type": "code",
   "execution_count": 55,
   "metadata": {},
   "outputs": [
    {
     "name": "stdout",
     "output_type": "stream",
     "text": [
      "1.4142135623730951\n",
      "3.141592653589793\n",
      "2.718281828459045\n"
     ]
    }
   ],
   "source": [
    "import math\n",
    "\n",
    "print(math.sqrt(2))\n",
    "print(math.pi)\n",
    "print(math.e)"
   ]
  },
  {
   "cell_type": "code",
   "execution_count": 56,
   "metadata": {},
   "outputs": [
    {
     "name": "stdout",
     "output_type": "stream",
     "text": [
      "This is my function.\n"
     ]
    }
   ],
   "source": [
    "def myfunction():\n",
    "    print('This is my function.')\n",
    "    \n",
    "myfunction()"
   ]
  },
  {
   "cell_type": "code",
   "execution_count": 57,
   "metadata": {},
   "outputs": [
    {
     "name": "stdout",
     "output_type": "stream",
     "text": [
      "This is my function that I call Joey.\n"
     ]
    }
   ],
   "source": [
    "def myfunction(myargument):\n",
    "    print('This is my function that I call ' + myargument + '.')\n",
    "    \n",
    "myfunction('Joey')"
   ]
  },
  {
   "cell_type": "code",
   "execution_count": 58,
   "metadata": {},
   "outputs": [
    {
     "name": "stdout",
     "output_type": "stream",
     "text": [
      "Bing tiddle tiddle bang. Bing tiddle tiddle bang. \n",
      "Benny Hill\n"
     ]
    }
   ],
   "source": [
    "import traceback\n",
    "\n",
    "def twice(word):\n",
    "    #traceback.print_stack()\n",
    "    return(word*2)\n",
    "\n",
    "def cat_twice(part1, part2):\n",
    "    cat = part1 + part2\n",
    "    print(twice(cat))\n",
    "\n",
    "line1 = 'Bing tiddle '\n",
    "line2 = 'tiddle bang. '\n",
    "\n",
    "cat = 'Benny Hill'\n",
    "\n",
    "cat_twice(line1, line2)\n",
    "print(cat)"
   ]
  },
  {
   "cell_type": "code",
   "execution_count": 59,
   "metadata": {},
   "outputs": [
    {
     "name": "stdout",
     "output_type": "stream",
     "text": [
      "17.64\n",
      "<class 'float'>\n",
      "9\n",
      "None\n",
      "<class 'NoneType'>\n"
     ]
    }
   ],
   "source": [
    "# Fruitful function.\n",
    "def my_square(myarg):\n",
    "    return (myarg**2)\n",
    "\n",
    "# Void function.\n",
    "def print_my_square(myarg):\n",
    "    print(myarg**2)\n",
    "    \n",
    "x = my_square(4.2)\n",
    "print(x)\n",
    "print(type(x))\n",
    "y = print_my_square(3)\n",
    "print(y)\n",
    "print(type(y))"
   ]
  },
  {
   "cell_type": "code",
   "execution_count": 60,
   "metadata": {},
   "outputs": [
    {
     "name": "stdout",
     "output_type": "stream",
     "text": [
      "                                                                 Kojak\n"
     ]
    }
   ],
   "source": [
    "def right_justify(word):\n",
    "    column = 70\n",
    "    word_length = len(word)\n",
    "    new_word = ' '*(column-word_length) + word\n",
    "    return(new_word)\n",
    "\n",
    "print(right_justify('Kojak'))"
   ]
  },
  {
   "cell_type": "markdown",
   "metadata": {},
   "source": [
    "# Chapter 4\n",
    "# Case Study: Turtle Design."
   ]
  },
  {
   "cell_type": "code",
   "execution_count": 61,
   "metadata": {},
   "outputs": [
    {
     "name": "stdout",
     "output_type": "stream",
     "text": [
      "0\n",
      "1\n",
      "2\n",
      "3\n",
      "4\n"
     ]
    }
   ],
   "source": [
    "# Need more in this section!\n",
    "\n",
    "#import turtle\n",
    "#bob = turtle.Turtle()\n",
    "\n",
    "# Iteration using a for loop.\n",
    "\n",
    "for i in range(5):\n",
    "    print(i)"
   ]
  },
  {
   "cell_type": "markdown",
   "metadata": {},
   "source": [
    "# Chapter 5\n",
    "# Conditionals and Recursion"
   ]
  },
  {
   "cell_type": "code",
   "execution_count": 62,
   "metadata": {},
   "outputs": [
    {
     "name": "stdout",
     "output_type": "stream",
     "text": [
      "1\n",
      "45\n"
     ]
    }
   ],
   "source": [
    "# Floor division and modulus.\n",
    "\n",
    "minutes = 105\n",
    "hours = minutes // 60\n",
    "print(hours)\n",
    "\n",
    "remainder = minutes % 60\n",
    "print(remainder)"
   ]
  },
  {
   "cell_type": "code",
   "execution_count": 18,
   "metadata": {},
   "outputs": [
    {
     "name": "stdout",
     "output_type": "stream",
     "text": [
      "False\n",
      "True\n",
      "False\n",
      "True\n",
      "False\n",
      "True\n"
     ]
    }
   ],
   "source": [
    "# Boolean expressions. Relational operators.\n",
    "x = 5\n",
    "y = 6\n",
    "\n",
    "print(x==y)\n",
    "print(x!=y)\n",
    "print(x>y)\n",
    "print(x<y)\n",
    "print(x>=y)\n",
    "print(x<=y)"
   ]
  },
  {
   "cell_type": "code",
   "execution_count": 19,
   "metadata": {},
   "outputs": [
    {
     "name": "stdout",
     "output_type": "stream",
     "text": [
      "True\n",
      "True\n",
      "False\n",
      "True\n"
     ]
    }
   ],
   "source": [
    "# Logical operators.\n",
    "x = 4\n",
    "y = 7\n",
    "print((x>0) and (y<10))\n",
    "print((x>0) or (y<5))\n",
    "print(not(x < y))\n",
    "\n",
    "# Note nonzero numbers are interpreted as 'True' in Python.\n",
    "\n",
    "print(42 and True)"
   ]
  },
  {
   "cell_type": "code",
   "execution_count": 20,
   "metadata": {},
   "outputs": [
    {
     "name": "stdout",
     "output_type": "stream",
     "text": [
      "x is positive\n"
     ]
    }
   ],
   "source": [
    "# Conditional execution.\n",
    "x = 2\n",
    "if x>0:\n",
    "    print('x is positive')\n",
    "    \n",
    "# 'pass' is used as a place holder. There must be one statement in the body of the if statement.\n",
    "x = -3\n",
    "if x<0:\n",
    "    pass # TODO: need to handle negative values!"
   ]
  },
  {
   "cell_type": "code",
   "execution_count": 21,
   "metadata": {},
   "outputs": [
    {
     "name": "stdout",
     "output_type": "stream",
     "text": [
      "x<=4\n"
     ]
    }
   ],
   "source": [
    "# Alternative execution.\n",
    "x=4\n",
    "if x>4:\n",
    "    print('x>4')\n",
    "else:\n",
    "    print('x<=4')      "
   ]
  },
  {
   "cell_type": "code",
   "execution_count": 22,
   "metadata": {},
   "outputs": [
    {
     "name": "stdout",
     "output_type": "stream",
     "text": [
      "x and y are equal\n"
     ]
    }
   ],
   "source": [
    "# Chained conditionals.\n",
    "x = 3\n",
    "y = 3\n",
    "\n",
    "if x < y:\n",
    "    print('x is less than y')\n",
    "elif x > y:\n",
    "    print('x is greater than y')\n",
    "else:\n",
    "    print('x and y are equal')"
   ]
  },
  {
   "cell_type": "code",
   "execution_count": 23,
   "metadata": {},
   "outputs": [
    {
     "name": "stdout",
     "output_type": "stream",
     "text": [
      "x and y are equal\n"
     ]
    }
   ],
   "source": [
    "# Nested conditionals.\n",
    "\n",
    "x = 3\n",
    "y = 3\n",
    "\n",
    "if x == y:\n",
    "    print('x and y are equal')\n",
    "else:\n",
    "    if x < y:\n",
    "        print('x is less than y')\n",
    "    else:\n",
    "        print('x is greater than y')"
   ]
  },
  {
   "cell_type": "code",
   "execution_count": 24,
   "metadata": {},
   "outputs": [
    {
     "name": "stdout",
     "output_type": "stream",
     "text": [
      "x is a positive single-digit number.\n",
      "x is a positive single-digit number.\n"
     ]
    }
   ],
   "source": [
    "# Coding shortcut.\n",
    "\n",
    "x = 5\n",
    "\n",
    "if 0 < x and x < 10:\n",
    "    print('x is a positive single-digit number.')\n",
    "    \n",
    "if 0 < x < 10:\n",
    "    print('x is a positive single-digit number.')"
   ]
  },
  {
   "cell_type": "code",
   "execution_count": 25,
   "metadata": {},
   "outputs": [
    {
     "name": "stdout",
     "output_type": "stream",
     "text": [
      "5\n",
      "4\n",
      "3\n",
      "2\n",
      "1\n",
      "Blastoff!\n"
     ]
    }
   ],
   "source": [
    "# Recursion.\n",
    "\n",
    "# Countdown example.\n",
    "def countdown(n):\n",
    "    if n <= 0:\n",
    "        print('Blastoff!')\n",
    "    else:\n",
    "        print(n)\n",
    "        countdown(n-1)\n",
    "\n",
    "countdown(5)"
   ]
  },
  {
   "cell_type": "code",
   "execution_count": 26,
   "metadata": {},
   "outputs": [
    {
     "name": "stdout",
     "output_type": "stream",
     "text": [
      "15\n"
     ]
    }
   ],
   "source": [
    "# Calculate 5+4+3+2+1.\n",
    "\n",
    "def recurse(n, s):\n",
    "    if n == 0:\n",
    "        print(s)\n",
    "    else:\n",
    "        recurse(n-1, n+s)\n",
    "        \n",
    "recurse(5, 0)"
   ]
  },
  {
   "cell_type": "code",
   "execution_count": 5,
   "metadata": {},
   "outputs": [
    {
     "name": "stdout",
     "output_type": "stream",
     "text": [
      "[1, 2, 3, 4, 5]\n",
      "[5, 4, 3, 2, 1]\n"
     ]
    }
   ],
   "source": [
    "# Recursive function to reverse a list.\n",
    "\n",
    "def reverse_list(p):\n",
    "    length = len(p)\n",
    "    if length == 0 or length == 1:\n",
    "        return p\n",
    "    else:\n",
    "        head = p[:1] # This is a list object.\n",
    "        tail = p[1:] # This is a list object.\n",
    "        rev = reverse_list(tail)\n",
    "        rev.extend(head)\n",
    "        return rev        \n",
    "    \n",
    "my_list = [1, 2, 3, 4 , 5]\n",
    "my_list_reversed = reverse_list(my_list)\n",
    "print(my_list)\n",
    "print(my_list_reversed)"
   ]
  },
  {
   "cell_type": "code",
   "execution_count": 27,
   "metadata": {},
   "outputs": [
    {
     "name": "stdout",
     "output_type": "stream",
     "text": [
      "What...is your name?\n",
      "David\n",
      "Good day David\n"
     ]
    }
   ],
   "source": [
    "# Keyboard input.\n",
    "name = input('What...is your name?\\n')\n",
    "    \n",
    "print('Good day', name)"
   ]
  },
  {
   "cell_type": "markdown",
   "metadata": {},
   "source": [
    "# Chapter 6 \n",
    "# Fruitful functions."
   ]
  },
  {
   "cell_type": "code",
   "execution_count": 28,
   "metadata": {},
   "outputs": [
    {
     "name": "stdout",
     "output_type": "stream",
     "text": [
      "1.4142135623730951\n",
      "1.4142135623730951\n"
     ]
    }
   ],
   "source": [
    "\n",
    "import math\n",
    "x = 2\n",
    "y = math.sqrt(2)\n",
    "print(y)\n",
    "\n",
    "# Alternatively the code below works, but it is considered bad practice.\n",
    "# It is important to know which module the function belongs to.\n",
    "from math import sqrt\n",
    "x = 2\n",
    "y = sqrt(2)\n",
    "print(y)"
   ]
  },
  {
   "cell_type": "code",
   "execution_count": 29,
   "metadata": {},
   "outputs": [
    {
     "name": "stdout",
     "output_type": "stream",
     "text": [
      "78.53981633974483\n"
     ]
    }
   ],
   "source": [
    "\n",
    "def area(radius):\n",
    "    a = math.pi * radius**2\n",
    "    return a\n",
    "\n",
    "print(area(5))"
   ]
  },
  {
   "cell_type": "code",
   "execution_count": 30,
   "metadata": {},
   "outputs": [
    {
     "name": "stdout",
     "output_type": "stream",
     "text": [
      "6\n",
      "None\n"
     ]
    }
   ],
   "source": [
    "def absolute_value(x):\n",
    "    if x < 0:\n",
    "        return -x\n",
    "    else:\n",
    "        return x\n",
    "\n",
    "print(absolute_value(-6))\n",
    "\n",
    "def absolute_value_ERROR(x): # x = 0 not processed correctly.\n",
    "    if x < 0:\n",
    "        return -x\n",
    "    elif x > 0:\n",
    "        return x\n",
    "    \n",
    "print(absolute_value_ERROR(0))"
   ]
  },
  {
   "cell_type": "code",
   "execution_count": 63,
   "metadata": {},
   "outputs": [
    {
     "data": {
      "text/plain": [
       "False"
      ]
     },
     "execution_count": 63,
     "metadata": {},
     "output_type": "execute_result"
    }
   ],
   "source": [
    "# Boolean functions.\n",
    "\n",
    "def is_divisible(x, y):\n",
    "    if x % y == 0:\n",
    "        return True\n",
    "    else:\n",
    "        return False\n",
    "\n",
    "is_divisible(6, 4)"
   ]
  },
  {
   "cell_type": "code",
   "execution_count": 115,
   "metadata": {},
   "outputs": [
    {
     "name": "stdout",
     "output_type": "stream",
     "text": [
      "21\n"
     ]
    }
   ],
   "source": [
    "# Fibonacci numbers. Inefficient algorithm.\n",
    "\n",
    "def fibonacci(n):\n",
    "    if n == 0:\n",
    "        return 0\n",
    "    elif n == 1:\n",
    "        return 1\n",
    "    else:\n",
    "        return fibonacci(n-1) + fibonacci(n-2)\n",
    "\n",
    "print(fibonacci(8))"
   ]
  },
  {
   "cell_type": "code",
   "execution_count": 33,
   "metadata": {},
   "outputs": [
    {
     "name": "stdout",
     "output_type": "stream",
     "text": [
      "120\n",
      "Factorial is only defined for integers.\n",
      "None\n",
      "Factorial is not defined for negative integers.\n",
      "None\n",
      "Factorial is only defined for integers.\n",
      "None\n"
     ]
    }
   ],
   "source": [
    "# Type checking.\n",
    "\n",
    "def factorial(n):\n",
    "    if not isinstance(n, int):\n",
    "        print('Factorial is only defined for integers.')\n",
    "        return None\n",
    "    elif n < 0:\n",
    "        print('Factorial is not defined for negative integers.')\n",
    "        return None\n",
    "    elif n == 0:\n",
    "        return 1\n",
    "    else:\n",
    "        return n * factorial(n-1)\n",
    "\n",
    "print(factorial(5))\n",
    "print(factorial(5.5))\n",
    "print(factorial(-4))\n",
    "print(factorial(-3.5))"
   ]
  },
  {
   "cell_type": "code",
   "execution_count": 34,
   "metadata": {},
   "outputs": [
    {
     "data": {
      "text/plain": [
       "125"
      ]
     },
     "execution_count": 34,
     "metadata": {},
     "output_type": "execute_result"
    }
   ],
   "source": [
    "# Ackerman function.\n",
    "\n",
    "def ack(m, n):\n",
    "    if m == 0:\n",
    "        return n+1\n",
    "    elif m > 0 and n == 0:\n",
    "        return ack(m-1, 1)\n",
    "    elif m > 0 and n > 0:\n",
    "        return ack(m-1, ack(m, n-1))\n",
    "    else:\n",
    "        print('Error ocurred!')\n",
    "        \n",
    "ack(3, 4)\n",
    "    "
   ]
  },
  {
   "cell_type": "code",
   "execution_count": 35,
   "metadata": {},
   "outputs": [
    {
     "name": "stdout",
     "output_type": "stream",
     "text": [
      "True\n"
     ]
    }
   ],
   "source": [
    "# Palindrome exercise.\n",
    "\n",
    "def first(word):\n",
    "    return word[0]\n",
    "\n",
    "def last(word):\n",
    "    return word[-1]\n",
    "\n",
    "def middle(word):\n",
    "    return word[1:-1]\n",
    "\n",
    "def palindrome(word):\n",
    "    if len(word) == 0 or len(word) == 1:\n",
    "        return True\n",
    "    else:\n",
    "        if first(word) != last(word):\n",
    "            return False\n",
    "        else:\n",
    "            return palindrome(middle(word))\n",
    "    \n",
    "myword = 'ebdbe'\n",
    "print(palindrome(myword))"
   ]
  },
  {
   "cell_type": "markdown",
   "metadata": {},
   "source": [
    "# Chapter 7\n",
    "# Iteration."
   ]
  },
  {
   "cell_type": "code",
   "execution_count": 36,
   "metadata": {},
   "outputs": [
    {
     "name": "stdout",
     "output_type": "stream",
     "text": [
      "5\n",
      "4\n",
      "3\n",
      "2\n",
      "1\n",
      "Blastoff!\n"
     ]
    }
   ],
   "source": [
    "# Countdown example using 'while'.\n",
    "\n",
    "def countdown(n):\n",
    "    while n > 0:\n",
    "        print(n)\n",
    "        n = n - 1\n",
    "    print('Blastoff!')\n",
    "    \n",
    "countdown(5)"
   ]
  },
  {
   "cell_type": "code",
   "execution_count": 37,
   "metadata": {},
   "outputs": [
    {
     "name": "stdout",
     "output_type": "stream",
     "text": [
      "3\n",
      "10\n",
      "5\n",
      "16\n",
      "8\n",
      "4\n",
      "2\n"
     ]
    }
   ],
   "source": [
    "# This sequence may or may not terminate!\n",
    "# See Collatz conjecture.\n",
    "\n",
    "def sequence(n):\n",
    "    while n != 1:\n",
    "        #print(n)\n",
    "        print(int(n))\n",
    "        if n % 2 == 0: # n is even\n",
    "            n = n / 2\n",
    "        else: # n is odd\n",
    "            n = n*3 + 1\n",
    "        \n",
    "sequence(3)"
   ]
  },
  {
   "cell_type": "code",
   "execution_count": 38,
   "metadata": {},
   "outputs": [
    {
     "name": "stdout",
     "output_type": "stream",
     "text": [
      "> Hey\n",
      "> done\n",
      "Done!\n"
     ]
    }
   ],
   "source": [
    "# Using 'break' to get out of a loop.\n",
    "\n",
    "while True:\n",
    "    line = input('> ')\n",
    "    if line == 'done':\n",
    "        break\n",
    "        print(line)\n",
    "print('Done!')"
   ]
  },
  {
   "cell_type": "code",
   "execution_count": 15,
   "metadata": {},
   "outputs": [
    {
     "name": "stdout",
     "output_type": "stream",
     "text": [
      "['fish', 'and', 'chips']\n",
      "['chips', 'and', 'fish']\n"
     ]
    }
   ],
   "source": [
    "# Iterative function to reverse a list.\n",
    "\n",
    "def reverse_list(p):\n",
    "    length = len(p)\n",
    "    rev =[]\n",
    "    if length > 0:\n",
    "        for index in range(length):\n",
    "            rev.append(p[length - index - 1])\n",
    "    return rev\n",
    "            \n",
    "my_list = ['fish', 'and', 'chips'] \n",
    "print(my_list)\n",
    "\n",
    "my_list_reversed = reverse_list(my_list)\n",
    "print(my_list_reversed)"
   ]
  },
  {
   "cell_type": "markdown",
   "metadata": {},
   "source": [
    "# Chapter 8\n",
    "# Strings."
   ]
  },
  {
   "cell_type": "code",
   "execution_count": 39,
   "metadata": {},
   "outputs": [
    {
     "name": "stdout",
     "output_type": "stream",
     "text": [
      "b\n",
      "a\n",
      "n\n",
      "a\n",
      "6\n"
     ]
    }
   ],
   "source": [
    "# A string is a sequence of characters.\n",
    "\n",
    "# Positive indices.\n",
    "\n",
    "fruit = 'banana'\n",
    "print(fruit[0])\n",
    "print(fruit[1])\n",
    "print(fruit[2])\n",
    "# ...\n",
    "print(fruit[5])\n",
    "print(len('banana'))"
   ]
  },
  {
   "cell_type": "code",
   "execution_count": 40,
   "metadata": {},
   "outputs": [
    {
     "name": "stdout",
     "output_type": "stream",
     "text": [
      "a\n",
      "n\n",
      "a\n",
      "n\n",
      "a\n",
      "b\n"
     ]
    }
   ],
   "source": [
    "# Negative indices.\n",
    "\n",
    "fruit = 'banana'\n",
    "print(fruit[-1])\n",
    "print(fruit[-2])\n",
    "print(fruit[-3])\n",
    "print(fruit[-4])\n",
    "print(fruit[-5])\n",
    "print(fruit[-6])"
   ]
  },
  {
   "cell_type": "code",
   "execution_count": 41,
   "metadata": {},
   "outputs": [
    {
     "name": "stdout",
     "output_type": "stream",
     "text": [
      "b\n",
      "a\n",
      "n\n",
      "a\n",
      "n\n",
      "a\n"
     ]
    }
   ],
   "source": [
    "fruit = 'banana'\n",
    "length = len('banana')\n",
    "\n",
    "index = 0\n",
    "while index < len(fruit):\n",
    "    letter = fruit[index]\n",
    "    print(letter)\n",
    "    index = index + 1"
   ]
  },
  {
   "cell_type": "code",
   "execution_count": 42,
   "metadata": {},
   "outputs": [
    {
     "name": "stdout",
     "output_type": "stream",
     "text": [
      "b\n",
      "a\n",
      "n\n",
      "a\n",
      "n\n",
      "a\n"
     ]
    }
   ],
   "source": [
    "# More condensed code.\n",
    "\n",
    "fruit = 'banana'\n",
    "for letter in fruit:\n",
    "    print(letter)"
   ]
  },
  {
   "cell_type": "code",
   "execution_count": 43,
   "metadata": {},
   "outputs": [
    {
     "name": "stdout",
     "output_type": "stream",
     "text": [
      "Data Sc\n",
      "ta Scien\n",
      "Data Science\n",
      "Data\n",
      "Data Science\n",
      "\n",
      "Data Scienc\n",
      "Data Scien\n",
      "Data Science\n"
     ]
    }
   ],
   "source": [
    "# String slices.\n",
    "\n",
    "s = 'Data Science'\n",
    "print(s[0:7])  # Note: indices 0,1,2,3,4,5 & 6 - not 7!\n",
    "print(s[2:10]) # Note: indices 2,3,4,5,6,7,8 & 9 - not 10!\n",
    "print(s[0:len(s)])\n",
    "print(s[:4])\n",
    "print(s[:12])\n",
    "print(s[:0])\n",
    "print(s[:-1])\n",
    "print(s[:-2])\n",
    "print(s[:26])"
   ]
  },
  {
   "cell_type": "code",
   "execution_count": 44,
   "metadata": {},
   "outputs": [
    {
     "name": "stdout",
     "output_type": "stream",
     "text": [
      "ta Science\n",
      "e\n",
      "\n",
      "Data Science\n",
      "e\n",
      "ce\n"
     ]
    }
   ],
   "source": [
    "print(s[2:])\n",
    "print(s[11:])\n",
    "print(s[26:])\n",
    "print(s[0:])\n",
    "print(s[-1:])\n",
    "print(s[-2:])"
   ]
  },
  {
   "cell_type": "code",
   "execution_count": 1,
   "metadata": {},
   "outputs": [
    {
     "name": "stdout",
     "output_type": "stream",
     "text": [
      "Something went wrong!\n"
     ]
    }
   ],
   "source": [
    "# Strings are immutable!\n",
    "\n",
    "greeting = 'Hello, world!'\n",
    "\n",
    "try:\n",
    "    greeting[0] = 'J' # ERROR!\n",
    "except:\n",
    "    print('Something went wrong!')\n",
    "    \n",
    "        "
   ]
  },
  {
   "cell_type": "code",
   "execution_count": 64,
   "metadata": {},
   "outputs": [
    {
     "data": {
      "text/plain": [
       "'Jello, world!'"
      ]
     },
     "execution_count": 64,
     "metadata": {},
     "output_type": "execute_result"
    }
   ],
   "source": [
    "# Need to make a copy of the string.\n",
    "\n",
    "greeting = 'Hello, world!'\n",
    "new_greeting = 'J' + greeting[1:]\n",
    "new_greeting"
   ]
  },
  {
   "cell_type": "code",
   "execution_count": 65,
   "metadata": {},
   "outputs": [
    {
     "name": "stdout",
     "output_type": "stream",
     "text": [
      "1\n",
      "0\n",
      "2\n",
      "-1\n"
     ]
    }
   ],
   "source": [
    "# Word search.\n",
    "\n",
    "def find(word, letter):\n",
    "    index = 0\n",
    "    while index < len(word):\n",
    "        if word[index] == letter:\n",
    "            return index\n",
    "        index = index + 1\n",
    "    return -1\n",
    "\n",
    "print(find('banana','a'))\n",
    "print(find('banana','b'))\n",
    "print(find('banana','n'))\n",
    "print(find('banana','z'))"
   ]
  },
  {
   "cell_type": "code",
   "execution_count": 66,
   "metadata": {},
   "outputs": [
    {
     "name": "stdout",
     "output_type": "stream",
     "text": [
      "3\n",
      "1\n",
      "2\n",
      "0\n"
     ]
    }
   ],
   "source": [
    "# Looping and counting.\n",
    "\n",
    "def count(word, search_letter):\n",
    "    count = 0\n",
    "    for letter in word:\n",
    "        if letter == search_letter:\n",
    "            count = count + 1\n",
    "    print(count)\n",
    "    \n",
    "count('banana','a')\n",
    "count('banana','b')\n",
    "count('banana','n')\n",
    "count('banana','z')      "
   ]
  },
  {
   "cell_type": "code",
   "execution_count": 67,
   "metadata": {},
   "outputs": [
    {
     "data": {
      "text/plain": [
       "'BANANA'"
      ]
     },
     "execution_count": 67,
     "metadata": {},
     "output_type": "execute_result"
    }
   ],
   "source": [
    "# String methods.\n",
    "# Note: methods are like function, but with a different syntax.\n",
    "\n",
    "word = 'banana'\n",
    "new_word = word.upper()\n",
    "new_word"
   ]
  },
  {
   "cell_type": "code",
   "execution_count": 68,
   "metadata": {},
   "outputs": [
    {
     "data": {
      "text/plain": [
       "1"
      ]
     },
     "execution_count": 68,
     "metadata": {},
     "output_type": "execute_result"
    }
   ],
   "source": [
    "word = 'banana'\n",
    "index = word.find('a')\n",
    "index"
   ]
  },
  {
   "cell_type": "code",
   "execution_count": 69,
   "metadata": {},
   "outputs": [
    {
     "name": "stdout",
     "output_type": "stream",
     "text": [
      "True\n",
      "True\n",
      "False\n",
      "False\n"
     ]
    }
   ],
   "source": [
    "# The 'in' operator.\n",
    "\n",
    "print('an' in 'banana')\n",
    "print('anan' in 'banana')\n",
    "print('baa' in 'banana')\n",
    "print('seed' in 'banana')"
   ]
  },
  {
   "cell_type": "code",
   "execution_count": 70,
   "metadata": {},
   "outputs": [
    {
     "name": "stdout",
     "output_type": "stream",
     "text": [
      "Words DON'T match.\n",
      "apple comes before banana\n"
     ]
    }
   ],
   "source": [
    "# String comparison.\n",
    "\n",
    "word1 = 'apple'\n",
    "word2 = 'banana'\n",
    "\n",
    "if (word1 == word2):\n",
    "    print('Words match.')\n",
    "else:\n",
    "    print('Words DON\\'T match.') # Note the use of \\.\n",
    "        \n",
    "if (word1 < word2):\n",
    "    print(word1, 'comes before', word2)\n",
    "else:\n",
    "    print((word1, 'comes after', word2)) "
   ]
  },
  {
   "cell_type": "code",
   "execution_count": 71,
   "metadata": {},
   "outputs": [
    {
     "name": "stdout",
     "output_type": "stream",
     "text": [
      "False\n",
      "True\n",
      "False\n",
      "True\n",
      "True\n",
      "False\n"
     ]
    }
   ],
   "source": [
    "\n",
    "\n",
    "def is_reverse(word1, word2):\n",
    "    if len(word1) != len(word2):\n",
    "        return False\n",
    "    i = 0\n",
    "    j = len(word2)-1\n",
    "    while j >= 0:\n",
    "        if word1[i] != word2[j]:\n",
    "            return False\n",
    "        i = i+1\n",
    "        j = j-1\n",
    "    return True\n",
    "\n",
    "print(is_reverse('baaa','caab'))\n",
    "print(is_reverse('ba','ab'))\n",
    "print(is_reverse('ba','aba'))\n",
    "print(is_reverse('a','a'))\n",
    "print(is_reverse('',''))\n",
    "print(is_reverse('',' '))"
   ]
  },
  {
   "cell_type": "markdown",
   "metadata": {},
   "source": [
    "# Chapter 9\n",
    "# Case Study: Word Play."
   ]
  },
  {
   "cell_type": "code",
   "execution_count": 72,
   "metadata": {},
   "outputs": [
    {
     "name": "stdout",
     "output_type": "stream",
     "text": [
      "aa\n",
      "aah\n"
     ]
    }
   ],
   "source": [
    "# Load in a file containing words that are valid for crossword puzzles.\n",
    "filename = 'D:\\My Documents\\Python Code\\Think Python 2 Code\\words.txt'\n",
    "\n",
    "fin = open(filename)\n",
    "\n",
    "line = fin.readline()\n",
    "word = line.strip() # Strip the newline character.\n",
    "print(word)\n",
    "line = fin.readline()\n",
    "word = line.strip() # Strip the newline character.\n",
    "print(word)\n",
    "# ..."
   ]
  },
  {
   "cell_type": "code",
   "execution_count": 73,
   "metadata": {},
   "outputs": [
    {
     "name": "stdout",
     "output_type": "stream",
     "text": [
      "aahed\n",
      "aahing\n",
      "aahs\n",
      "aal\n",
      "aalii\n"
     ]
    }
   ],
   "source": [
    "wordcount = 0\n",
    "for line in fin: # The fin object appears to consist of line objects.\n",
    "    word = line.strip()\n",
    "    print(word)\n",
    "    wordcount = wordcount + 1\n",
    "    if wordcount == 5:\n",
    "        break"
   ]
  },
  {
   "cell_type": "code",
   "execution_count": 74,
   "metadata": {},
   "outputs": [
    {
     "name": "stdout",
     "output_type": "stream",
     "text": [
      "True\n",
      "False\n"
     ]
    }
   ],
   "source": [
    "# Checking to see if a word is arranged alphabetically.\n",
    "# Using a for loop.\n",
    "\n",
    "def is_abecedarian(word):\n",
    "    previous = word[0]\n",
    "    for c in word:\n",
    "        if c < previous:\n",
    "            return False\n",
    "        previous = c\n",
    "    return True\n",
    "\n",
    "print(is_abecedarian('been'))\n",
    "print(is_abecedarian('sleep'))"
   ]
  },
  {
   "cell_type": "code",
   "execution_count": 75,
   "metadata": {},
   "outputs": [
    {
     "name": "stdout",
     "output_type": "stream",
     "text": [
      "True\n",
      "False\n"
     ]
    }
   ],
   "source": [
    "# Using recursion.\n",
    "\n",
    "def is_abecedarian(word):\n",
    "    if len(word) <= 1:\n",
    "        return True\n",
    "    if word[0] > word[1]:\n",
    "        return False\n",
    "    return is_abecedarian(word[1:])\n",
    "\n",
    "print(is_abecedarian('been'))\n",
    "print(is_abecedarian('sleep'))"
   ]
  },
  {
   "cell_type": "code",
   "execution_count": 76,
   "metadata": {},
   "outputs": [
    {
     "name": "stdout",
     "output_type": "stream",
     "text": [
      "True\n",
      "False\n"
     ]
    }
   ],
   "source": [
    "# Using a while loop.\n",
    "\n",
    "def is_abecedarian(word):\n",
    "    i = 0\n",
    "    while i < len(word)-1:\n",
    "        if word[i+1] < word[i]:\n",
    "            return False\n",
    "        i = i+1\n",
    "    return True\n",
    "\n",
    "print(is_abecedarian('been'))\n",
    "print(is_abecedarian('sleep'))"
   ]
  },
  {
   "cell_type": "markdown",
   "metadata": {},
   "source": [
    "# Chapter 10\n",
    "# Lists."
   ]
  },
  {
   "cell_type": "code",
   "execution_count": 77,
   "metadata": {},
   "outputs": [
    {
     "name": "stdout",
     "output_type": "stream",
     "text": [
      "[2, 4, 6, 8]\n",
      "[]\n",
      "['happy', 'go', 'lucky']\n",
      "[42, 'word1', [45.0, 'word2']]\n"
     ]
    }
   ],
   "source": [
    "# A list is a sequence of values that can be of any type.\n",
    "\n",
    "my_integers = [2, 4, 6, 8]\n",
    "my_empty_list = []\n",
    "my_strings = ['happy', 'go', 'lucky']\n",
    "my_mixed_type =[42, 'word1', [45.0, 'word2']]\n",
    "\n",
    "print(my_integers)\n",
    "print(my_empty_list)\n",
    "print(my_strings)\n",
    "print(my_mixed_type)"
   ]
  },
  {
   "cell_type": "code",
   "execution_count": 78,
   "metadata": {},
   "outputs": [
    {
     "name": "stdout",
     "output_type": "stream",
     "text": [
      "[6.9, 99.6]\n"
     ]
    }
   ],
   "source": [
    "# Lists are mutable.\n",
    "\n",
    "my_float = [22.4, 99.6]\n",
    "my_float[0] = 6.9\n",
    "print(my_float)"
   ]
  },
  {
   "cell_type": "code",
   "execution_count": 79,
   "metadata": {},
   "outputs": [
    {
     "name": "stdout",
     "output_type": "stream",
     "text": [
      "True\n",
      "False\n",
      "Cheddar\n",
      "Edam\n",
      "Gouda\n",
      "2\n",
      "4.6\n",
      "38\n"
     ]
    }
   ],
   "source": [
    "# The 'in' operator.\n",
    "\n",
    "cheeses = ['Cheddar', 'Edam', 'Gouda']\n",
    "\n",
    "print('Edam' in cheeses)\n",
    "print('Brie' in cheeses)\n",
    "\n",
    "for cheese in cheeses:\n",
    "    print(cheese)\n",
    "    \n",
    "my_numbers = [1, 2.3, 19]\n",
    "for i in range(len(my_numbers)):\n",
    "    my_numbers[i] = my_numbers[i]*2\n",
    "    print(my_numbers[i])\n",
    "    \n",
    "for x in []:\n",
    "    print('This never happens.')"
   ]
  },
  {
   "cell_type": "code",
   "execution_count": 80,
   "metadata": {},
   "outputs": [
    {
     "name": "stdout",
     "output_type": "stream",
     "text": [
      "[1, 2, 3, 4, 5, 6]\n",
      "[0, 0, 0, 0]\n",
      "[7, 8, 2, 7, 8, 2, 7, 8, 2, 7, 8, 2]\n"
     ]
    }
   ],
   "source": [
    "# List operators.\n",
    "\n",
    "a = [1, 2, 3]\n",
    "b = [4, 5, 6]\n",
    "c = a + b\n",
    "print(c)\n",
    "\n",
    "d = [0]*4\n",
    "e = [7,8,2]*4\n",
    "print(d)\n",
    "print(e)"
   ]
  },
  {
   "cell_type": "code",
   "execution_count": 81,
   "metadata": {},
   "outputs": [
    {
     "name": "stdout",
     "output_type": "stream",
     "text": [
      "['b', 'c']\n",
      "['a', 'b', 'c', 'd']\n",
      "['d', 'e', 'f']\n",
      "['a', 'b', 'c', 'd', 'e', 'f']\n",
      "['a', 'b', 'c', 'd', 'e', 'f']\n"
     ]
    }
   ],
   "source": [
    "# List slices.\n",
    "\n",
    "t = ['a', 'b', 'c', 'd', 'e', 'f']\n",
    "print(t[1:3])\n",
    "print(t[:4])\n",
    "print(t[3:])\n",
    "print(t[:])\n",
    "print(t)"
   ]
  },
  {
   "cell_type": "code",
   "execution_count": 82,
   "metadata": {},
   "outputs": [
    {
     "name": "stdout",
     "output_type": "stream",
     "text": [
      "['a', 'x', 'y', 'd', 'e', 'f']\n"
     ]
    }
   ],
   "source": [
    "t = ['a', 'b', 'c', 'd', 'e', 'f']\n",
    "t[1:3] = ['x', 'y']\n",
    "print(t)"
   ]
  },
  {
   "cell_type": "code",
   "execution_count": 83,
   "metadata": {},
   "outputs": [
    {
     "name": "stdout",
     "output_type": "stream",
     "text": [
      "['a', 'b', 'c', 'd']\n",
      "['a', 'b', 'c', 'd', 'e']\n",
      "['a', 'b', 'c', 'd', 'e']\n",
      "None\n"
     ]
    }
   ],
   "source": [
    "# List methods.\n",
    "\n",
    "# Append an element to a list.\n",
    "t = ['a', 'b', 'c']\n",
    "t.append('d')\n",
    "print(t)\n",
    "\n",
    "# Extend a list by appending the elements of another list.\n",
    "t1 = ['a', 'b', 'c']\n",
    "t2 = ['d', 'e']\n",
    "t1.extend(t2)\n",
    "print(t1)\n",
    "\n",
    "# Sort 'in order'.\n",
    "t = ['d', 'c', 'e', 'b', 'a']\n",
    "x = t.sort()\n",
    "print(t)\n",
    "print(x)\n",
    "\n",
    "# Note: Most list methods are void and return 'None'."
   ]
  },
  {
   "cell_type": "code",
   "execution_count": 84,
   "metadata": {},
   "outputs": [
    {
     "name": "stdout",
     "output_type": "stream",
     "text": [
      "6\n",
      "6\n"
     ]
    }
   ],
   "source": [
    "# Map, filter and reduce.\n",
    "\n",
    "# Reduce.\n",
    "def add_all(t):\n",
    "    total = 0 # Accumulator.\n",
    "    for x in t:\n",
    "        total += x # Note: this is short for 'total = total + x'.\n",
    "    return total\n",
    "\n",
    "u = [1, 2, 3]\n",
    "print(add_all(u))\n",
    "\n",
    "# Can also use the Python function 'sum'.\n",
    "my_sum = sum(u) # The elements of u are 'reduced' to a single value.\n",
    "print(my_sum)"
   ]
  },
  {
   "cell_type": "code",
   "execution_count": 85,
   "metadata": {},
   "outputs": [
    {
     "data": {
      "text/plain": [
       "['A', 'B', 'C', 'D', 'E', 'F']"
      ]
     },
     "execution_count": 85,
     "metadata": {},
     "output_type": "execute_result"
    }
   ],
   "source": [
    "# Map.\n",
    "def capitalize_all(t):\n",
    "    result = [] # Accumulator.\n",
    "    for s in t:\n",
    "        result.append(s.capitalize()) # capitalize() is a string method.\n",
    "    return result\n",
    "\n",
    "u = ['a', 'b', 'c', 'd', 'e', 'f']\n",
    "capitalize_all(u)\n",
    "# Note: capitalize_all() is a map.\n"
   ]
  },
  {
   "cell_type": "code",
   "execution_count": 86,
   "metadata": {},
   "outputs": [
    {
     "name": "stdout",
     "output_type": "stream",
     "text": [
      "['HARRY', 'SALLY']\n"
     ]
    }
   ],
   "source": [
    "# Filter.\n",
    "def only_upper(t):\n",
    "    res = []\n",
    "    for s in t:\n",
    "        if s.isupper():\n",
    "            res.append(s)\n",
    "    return res\n",
    "    \n",
    "u = ['When', 'HARRY', 'met', 'SALLY','']\n",
    "print(only_upper(u))\n",
    "# Note: only_upper() is a filter."
   ]
  },
  {
   "cell_type": "code",
   "execution_count": 87,
   "metadata": {},
   "outputs": [
    {
     "name": "stdout",
     "output_type": "stream",
     "text": [
      "['a', 'c']\n",
      "b\n",
      "['a', 'b']\n",
      "['a', 'c']\n",
      "['a', 'f']\n"
     ]
    }
   ],
   "source": [
    "# Deleting elements.\n",
    "t = ['a', 'b', 'c']\n",
    "x = t.pop(1)\n",
    "print(t)\n",
    "print(x)\n",
    "\n",
    "# If the removed value is not need then use the 'del' operator.\n",
    "t = ['a', 'b', 'c']\n",
    "del(t[2])\n",
    "print(t)\n",
    "\n",
    "# If the value to be removed is known, then use the 'remove' method.\n",
    "t = ['a', 'b', 'c']\n",
    "t.remove('b')\n",
    "print(t)\n",
    "\n",
    "t = ['a', 'b', 'c', 'd', 'e', 'f']\n",
    "del t[1:5]\n",
    "print(t)"
   ]
  },
  {
   "cell_type": "code",
   "execution_count": 88,
   "metadata": {},
   "outputs": [
    {
     "name": "stdout",
     "output_type": "stream",
     "text": [
      "False\n",
      "['h', 'e', 'l', 'l', 'o']\n",
      "True\n"
     ]
    }
   ],
   "source": [
    "# Lists and strings.\n",
    "\n",
    "s = 'hello'\n",
    "t = ['h', 'e', 'l', 'l', 'o']\n",
    "print(s == t)\n",
    "\n",
    "# Split a string into letters.\n",
    "u = list(s)\n",
    "print(u)\n",
    "print(t == u)"
   ]
  },
  {
   "cell_type": "code",
   "execution_count": 89,
   "metadata": {},
   "outputs": [
    {
     "name": "stdout",
     "output_type": "stream",
     "text": [
      "['pining', 'for', 'the', 'fjords']\n"
     ]
    }
   ],
   "source": [
    "# Split a string into words.\n",
    "s = 'pining for the fjords'\n",
    "t = s.split()\n",
    "print(t)"
   ]
  },
  {
   "cell_type": "code",
   "execution_count": 90,
   "metadata": {},
   "outputs": [
    {
     "name": "stdout",
     "output_type": "stream",
     "text": [
      "pining for the fjords\n",
      "piningforthefjords\n"
     ]
    }
   ],
   "source": [
    "# Joining words to form a string.\n",
    "t = ['pining', 'for', 'the', 'fjords']\n",
    "delimiter = ' '\n",
    "s = delimiter.join(t)\n",
    "print(s)\n",
    "\n",
    "delimiter = '' # Empty string.\n",
    "s = delimiter.join(t)\n",
    "print(s)\n"
   ]
  },
  {
   "cell_type": "code",
   "execution_count": 91,
   "metadata": {},
   "outputs": [
    {
     "data": {
      "text/plain": [
       "True"
      ]
     },
     "execution_count": 91,
     "metadata": {},
     "output_type": "execute_result"
    }
   ],
   "source": [
    "# Objects and values.\n",
    "\n",
    "string_a = 'banana'\n",
    "string_b = 'banana'\n",
    "\n",
    "string_a is string_b\n",
    "# Note: a and b both refer to the same object."
   ]
  },
  {
   "cell_type": "code",
   "execution_count": 33,
   "metadata": {},
   "outputs": [
    {
     "name": "stdout",
     "output_type": "stream",
     "text": [
      "False\n",
      "[9, 2, 3]\n",
      "[1, 2, 3]\n"
     ]
    }
   ],
   "source": [
    "list_a = [1, 2, 3]\n",
    "list_b = [1, 2, 3]\n",
    "\n",
    "print(list_a is list_b)\n",
    "# Note: a and b both refer to different object.\n",
    "list_a[0] = 9\n",
    "print(list_a)\n",
    "print(list_b)"
   ]
  },
  {
   "cell_type": "code",
   "execution_count": 1,
   "metadata": {},
   "outputs": [
    {
     "name": "stdout",
     "output_type": "stream",
     "text": [
      "True\n",
      "[9, 2, 3]\n",
      "[9, 2, 3]\n"
     ]
    }
   ],
   "source": [
    "# Aliasing.\n",
    "list_a = [1, 2, 3]\n",
    "list_b = list_a\n",
    "print(list_b is list_a)\n",
    "\n",
    "list_a[0] = 9 # Hence b[0] = 0 also.\n",
    "print(list_a)\n",
    "print(list_b)\n",
    "\n",
    "# Note: Try to avoid aliasing with mutable objects!"
   ]
  },
  {
   "cell_type": "code",
   "execution_count": 94,
   "metadata": {},
   "outputs": [
    {
     "data": {
      "text/plain": [
       "['b', 'c']"
      ]
     },
     "execution_count": 94,
     "metadata": {},
     "output_type": "execute_result"
    }
   ],
   "source": [
    "# List arguments.\n",
    "def delete_head(t): # ''letters' and 't' are aliases.\n",
    "    del t[0]\n",
    "\n",
    "letters = ['a', 'b', 'c']\n",
    "delete_head(letters)\n",
    "letters"
   ]
  },
  {
   "cell_type": "code",
   "execution_count": 95,
   "metadata": {},
   "outputs": [
    {
     "name": "stdout",
     "output_type": "stream",
     "text": [
      "[1, 2, 3]\n",
      "None\n",
      "[1, 2, 3]\n",
      "[1, 2, 3, 4]\n",
      "[5, 6, 7]\n",
      "['b', 'c']\n"
     ]
    }
   ],
   "source": [
    "# Operations on a list can; modify the list or create new lists.\n",
    "# e.g. append() modifies a list.\n",
    "t1 = [1, 2]\n",
    "t2 = t1.append(3)\n",
    "print(t1)\n",
    "print(t2)\n",
    "\n",
    "# The + operator creates a new list.\n",
    "t3 = t1 + [4]\n",
    "print(t1)\n",
    "print(t3)\n",
    "\n",
    "# Incorrect code here.\n",
    "def bad_delete_head(t):\n",
    "    t = t[1:] # WRONG!\n",
    "\n",
    "t4 = [5, 6, 7]\n",
    "bad_delete_head(t4)\n",
    "print(t4)\n",
    "\n",
    "# Note: The slice operator creates a new list and the assignment makes t refer to it, but that doesn’t\n",
    "# affect the caller.\n",
    "\n",
    "# Correct code here.\n",
    "def tail(t):\n",
    "    return t[1:]\n",
    "# This function leaves the original list unmodified. Here’s how it is used:\n",
    "\n",
    "letters = ['a', 'b', 'c']\n",
    "rest = tail(letters)\n",
    "print(rest)"
   ]
  },
  {
   "cell_type": "markdown",
   "metadata": {},
   "source": [
    "# Chapter 11\n",
    "# Dictionaries."
   ]
  },
  {
   "cell_type": "code",
   "execution_count": 96,
   "metadata": {},
   "outputs": [
    {
     "name": "stdout",
     "output_type": "stream",
     "text": [
      "{}\n",
      "{'one': 'uno', 'two': 'dos', 'three': 'tres'}\n",
      "dos\n",
      "3\n",
      "True\n",
      "False\n"
     ]
    }
   ],
   "source": [
    "# A dictinary is a mapping.\n",
    "\n",
    "eng2sp = dict()\n",
    "print(eng2sp) # {} is the empty dictionary.\n",
    "\n",
    "eng2sp = {'one': 'uno', 'two': 'dos', 'three': 'tres'} # Note: 'key:value' pairs.\n",
    "print(eng2sp)\n",
    "print(eng2sp['two'])\n",
    "# print(eng2sp['four']) # Error generated, 'four' not in dictionary.\n",
    "print(len(eng2sp))\n",
    "print('two' in eng2sp)\n",
    "print('four' in eng2sp)"
   ]
  },
  {
   "cell_type": "code",
   "execution_count": 97,
   "metadata": {},
   "outputs": [
    {
     "name": "stdout",
     "output_type": "stream",
     "text": [
      "dict_values(['uno', 'dos', 'tres'])\n",
      "<class 'dict_values'>\n",
      "True\n"
     ]
    }
   ],
   "source": [
    "# To see whether something appears as a value in a dictionary, you can use the method\n",
    "# values, which returns a collection of values, and then use the in operator:\n",
    "\n",
    "eng2sp = {'one': 'uno', 'two': 'dos', 'three': 'tres'}\n",
    "vals = eng2sp.values()\n",
    "print(vals)\n",
    "print(type(vals))\n",
    "print('uno' in vals)\n"
   ]
  },
  {
   "cell_type": "code",
   "execution_count": 98,
   "metadata": {},
   "outputs": [],
   "source": [
    "# Note: The in operator uses different algorithms for lists and dictionaries.\n",
    "# For lists, as the list gets longer,the search time gets longer in direct proportion.\n",
    "# Python dictionaries use a data structure called a hashtable that has a remarkable property:\n",
    "# the in operator takes about the same amount of time no matter how many items are in the\n",
    "# dictionary."
   ]
  },
  {
   "cell_type": "code",
   "execution_count": 99,
   "metadata": {},
   "outputs": [
    {
     "name": "stdout",
     "output_type": "stream",
     "text": [
      "{6: 2, 7: 3, 8: 2, 0: 1}\n",
      "{'s': 3, 'u': 2, 'p': 2, 'e': 2, 'r': 2, 'c': 3, 'a': 3, 'l': 4, 'i': 7, 'f': 1, 'g': 1, 't': 1, 'x': 1, 'd': 1, 'o': 2}\n"
     ]
    }
   ],
   "source": [
    "def histogram(s):\n",
    "    d = dict()\n",
    "    for c in s:\n",
    "        if c not in d:\n",
    "            d[c] = 1\n",
    "        else:\n",
    "            d[c] += 1\n",
    "    return d\n",
    "\n",
    "count = histogram([6, 7, 7, 8, 7, 6, 0, 8])\n",
    "print(count)\n",
    "count = histogram('supercalifragilisticexplialidocious')\n",
    "print(count)"
   ]
  },
  {
   "cell_type": "code",
   "execution_count": 100,
   "metadata": {},
   "outputs": [
    {
     "name": "stdout",
     "output_type": "stream",
     "text": [
      "10\n",
      "0\n"
     ]
    }
   ],
   "source": [
    "# The 'get' method: get takes a key and a default value.\n",
    "# If the key appears in the dictionary, get returns the corresponding value; otherwise it returns the\n",
    "# default value.\n",
    "\n",
    "abc ={'a': 10, 'b': 20, 'c':30}\n",
    "\n",
    "x = abc.get('a', 0)\n",
    "y = abc.get('z', 0)\n",
    "\n",
    "print(x)\n",
    "print(y)"
   ]
  },
  {
   "cell_type": "code",
   "execution_count": 4,
   "metadata": {},
   "outputs": [
    {
     "name": "stdout",
     "output_type": "stream",
     "text": [
      "{6: 2, 7: 3, 8: 2, 0: 1}\n",
      "{'s': 3, 'u': 2, 'p': 2, 'e': 2, 'r': 2, 'c': 3, 'a': 3, 'l': 4, 'i': 7, 'f': 1, 'g': 1, 't': 1, 'x': 1, 'd': 1, 'o': 2}\n"
     ]
    }
   ],
   "source": [
    "# The histogram function may therefore be written more concisely.\n",
    "def histogram(s):\n",
    "    d = dict()\n",
    "    for c in s:\n",
    "        d[c] = d.get(c, 0)+1\n",
    "    return d\n",
    "\n",
    "count = histogram([6, 7, 7, 8, 7, 6, 0, 8])\n",
    "print(count)\n",
    "count = histogram('supercalifragilisticexplialidocious')\n",
    "print(count)"
   ]
  },
  {
   "cell_type": "code",
   "execution_count": 5,
   "metadata": {},
   "outputs": [
    {
     "name": "stdout",
     "output_type": "stream",
     "text": [
      "{'p': 1, 'a': 1, 'r': 2, 'o': 1, 't': 1}\n",
      "p 1\n",
      "a 1\n",
      "r 2\n",
      "o 1\n",
      "t 1\n",
      "['a', 'o', 'p', 'r', 't']\n",
      "a 1\n",
      "o 1\n",
      "p 1\n",
      "r 2\n",
      "t 1\n"
     ]
    }
   ],
   "source": [
    "# Looping and dictionaries.\n",
    "def print_hist(h):\n",
    "    for c in h:\n",
    "        print(c, h[c])\n",
    "\n",
    "h = histogram('parrot')\n",
    "print(h)\n",
    "print_hist(h)\n",
    "\n",
    "# Print out a sorted histogram.\n",
    "sorted_h = sorted(h)\n",
    "print(sorted_h)\n",
    "for key in sorted(h):\n",
    "    print(key, h[key])\n"
   ]
  },
  {
   "cell_type": "code",
   "execution_count": 6,
   "metadata": {},
   "outputs": [
    {
     "name": "stdout",
     "output_type": "stream",
     "text": [
      "{'p': 1, 'a': 1, 'r': 2, 'o': 1, 't': 1}\n",
      "r\n"
     ]
    },
    {
     "ename": "LookupError",
     "evalue": "Value does not appear in the dictionary.",
     "output_type": "error",
     "traceback": [
      "\u001b[1;31m---------------------------------------------------------------------------\u001b[0m",
      "\u001b[1;31mLookupError\u001b[0m                               Traceback (most recent call last)",
      "\u001b[1;32m<ipython-input-6-339631d8f50e>\u001b[0m in \u001b[0;36m<module>\u001b[1;34m\u001b[0m\n\u001b[0;32m     10\u001b[0m \u001b[0mkey\u001b[0m \u001b[1;33m=\u001b[0m \u001b[0mreverse_lookup\u001b[0m\u001b[1;33m(\u001b[0m\u001b[0mh\u001b[0m\u001b[1;33m,\u001b[0m \u001b[1;36m2\u001b[0m\u001b[1;33m)\u001b[0m\u001b[1;33m\u001b[0m\u001b[1;33m\u001b[0m\u001b[0m\n\u001b[0;32m     11\u001b[0m \u001b[0mprint\u001b[0m\u001b[1;33m(\u001b[0m\u001b[0mkey\u001b[0m\u001b[1;33m)\u001b[0m\u001b[1;33m\u001b[0m\u001b[1;33m\u001b[0m\u001b[0m\n\u001b[1;32m---> 12\u001b[1;33m \u001b[0mkey\u001b[0m \u001b[1;33m=\u001b[0m \u001b[0mreverse_lookup\u001b[0m\u001b[1;33m(\u001b[0m\u001b[0mh\u001b[0m\u001b[1;33m,\u001b[0m \u001b[1;36m17\u001b[0m\u001b[1;33m)\u001b[0m\u001b[1;33m\u001b[0m\u001b[1;33m\u001b[0m\u001b[0m\n\u001b[0m\u001b[0;32m     13\u001b[0m \u001b[0mprint\u001b[0m\u001b[1;33m(\u001b[0m\u001b[0mkey\u001b[0m\u001b[1;33m)\u001b[0m\u001b[1;33m\u001b[0m\u001b[1;33m\u001b[0m\u001b[0m\n",
      "\u001b[1;32m<ipython-input-6-339631d8f50e>\u001b[0m in \u001b[0;36mreverse_lookup\u001b[1;34m(d, v)\u001b[0m\n\u001b[0;32m      4\u001b[0m         \u001b[1;32mif\u001b[0m \u001b[0md\u001b[0m\u001b[1;33m[\u001b[0m\u001b[0mk\u001b[0m\u001b[1;33m]\u001b[0m \u001b[1;33m==\u001b[0m \u001b[0mv\u001b[0m\u001b[1;33m:\u001b[0m\u001b[1;33m\u001b[0m\u001b[1;33m\u001b[0m\u001b[0m\n\u001b[0;32m      5\u001b[0m             \u001b[1;32mreturn\u001b[0m \u001b[0mk\u001b[0m\u001b[1;33m\u001b[0m\u001b[1;33m\u001b[0m\u001b[0m\n\u001b[1;32m----> 6\u001b[1;33m     \u001b[1;32mraise\u001b[0m \u001b[0mLookupError\u001b[0m\u001b[1;33m(\u001b[0m\u001b[1;34m'Value does not appear in the dictionary.'\u001b[0m\u001b[1;33m)\u001b[0m \u001b[1;31m# Raise an exception.\u001b[0m\u001b[1;33m\u001b[0m\u001b[1;33m\u001b[0m\u001b[0m\n\u001b[0m\u001b[0;32m      7\u001b[0m \u001b[1;33m\u001b[0m\u001b[0m\n\u001b[0;32m      8\u001b[0m \u001b[0mh\u001b[0m \u001b[1;33m=\u001b[0m \u001b[0mhistogram\u001b[0m\u001b[1;33m(\u001b[0m\u001b[1;34m'parrot'\u001b[0m\u001b[1;33m)\u001b[0m\u001b[1;33m\u001b[0m\u001b[1;33m\u001b[0m\u001b[0m\n",
      "\u001b[1;31mLookupError\u001b[0m: Value does not appear in the dictionary."
     ]
    }
   ],
   "source": [
    "# Reverse lookup: Given a value v, what is key k? This is much slower than forward lookup.\n",
    "def reverse_lookup(d, v):\n",
    "    for k in d:\n",
    "        if d[k] == v:\n",
    "            return k\n",
    "    raise LookupError('Value does not appear in the dictionary.') # Raise an exception.\n",
    "\n",
    "h = histogram('parrot')\n",
    "print(h)\n",
    "key = reverse_lookup(h, 2)\n",
    "print(key)\n",
    "key = reverse_lookup(h, 17)\n",
    "print(key)"
   ]
  },
  {
   "cell_type": "code",
   "execution_count": 120,
   "metadata": {},
   "outputs": [
    {
     "name": "stdout",
     "output_type": "stream",
     "text": [
      "{'s': 3, 'u': 2, 'p': 2, 'e': 2, 'r': 2, 'c': 3, 'a': 3, 'l': 4, 'i': 7, 'f': 1, 'g': 1, 't': 1, 'x': 1, 'd': 1, 'o': 2}\n",
      "{3: ['s', 'c', 'a'], 2: ['u', 'p', 'e', 'r', 'o'], 4: ['l'], 7: ['i'], 1: ['f', 'g', 't', 'x', 'd']}\n"
     ]
    }
   ],
   "source": [
    "# Dictionaries and lists.\n",
    "\n",
    "# Here is a function that inverts a dictionary:\n",
    "def invert_dict(d):\n",
    "    inverse = dict()\n",
    "    for key in d:\n",
    "        val = d[key]\n",
    "        if val not in inverse:\n",
    "            inverse[val] = [key]\n",
    "        else:\n",
    "            inverse[val].append(key)\n",
    "    return inverse\n",
    "\n",
    "hist = histogram('supercalifragilisticexplialidocious')\n",
    "print(hist)\n",
    "\n",
    "inverse = invert_dict(hist)\n",
    "print(inverse)\n",
    "\n",
    "# Note: Lists can be values in a dictionary, but they cannot be keys.\n",
    "# Reason: keys must be hashable, and so must be immutable. (Lists are mutable)."
   ]
  },
  {
   "cell_type": "code",
   "execution_count": 34,
   "metadata": {},
   "outputs": [
    {
     "name": "stdout",
     "output_type": "stream",
     "text": [
      "70330367711422815821835254877183549770181269836358732742604905087154537118196933579742249494562611733487750449241765991088186363265450223647106012053374121273867339111198139373125598767690091902245245323403501\n"
     ]
    }
   ],
   "source": [
    "# A more efficient version of the function fibonacci() using a dictionary.\n",
    "\n",
    "known = {0:0, 1:1}\n",
    "def fibonacci(n):\n",
    "    if n in known:\n",
    "        return known[n]\n",
    "    res = fibonacci(n-1) + fibonacci(n-2)\n",
    "    known[n] = res\n",
    "    return res\n",
    "\n",
    "print(fibonacci(1001))\n"
   ]
  },
  {
   "cell_type": "code",
   "execution_count": 2,
   "metadata": {},
   "outputs": [
    {
     "name": "stdout",
     "output_type": "stream",
     "text": [
      "This code does not change the global variable.\n"
     ]
    }
   ],
   "source": [
    "# Global variables.\n",
    "\n",
    "global_count = 0\n",
    "\n",
    "def increment_WRONG():\n",
    "    global_count = global_count + 1 # A new local variable global_count is created here.\n",
    "       \n",
    "try:\n",
    "    increment_WRONG()\n",
    "    print(global_count)\n",
    "except:\n",
    "    print('This code does not change the global variable.')\n"
   ]
  },
  {
   "cell_type": "code",
   "execution_count": 124,
   "metadata": {},
   "outputs": [
    {
     "name": "stdout",
     "output_type": "stream",
     "text": [
      "1\n"
     ]
    }
   ],
   "source": [
    "global_count = 0\n",
    "   \n",
    "def increment_RIGHT():\n",
    "    global global_count # Use the global version of the variable, not a new locally created one.\n",
    "    global_count = global_count + 1\n",
    "\n",
    "increment_RIGHT()\n",
    "print(global_count)"
   ]
  },
  {
   "cell_type": "code",
   "execution_count": 130,
   "metadata": {},
   "outputs": [
    {
     "name": "stdout",
     "output_type": "stream",
     "text": [
      "[1, 2, 3]\n",
      "[6, 2, 3]\n",
      "[-1, 2, 3]\n"
     ]
    }
   ],
   "source": [
    "# List global variables.\n",
    "\n",
    "global_list = [1, 2, 3]\n",
    "print(global_list)\n",
    "\n",
    "def change_list1():\n",
    "    global global_list\n",
    "    global_list[0] = 6\n",
    "    \n",
    "# Shorter version. No need to declare a mutable object.\n",
    "def change_list2():\n",
    "    global_list[0] = -1\n",
    "    \n",
    "change_list1()\n",
    "print(global_list)\n",
    "\n",
    "change_list2()\n",
    "print(global_list)"
   ]
  },
  {
   "cell_type": "markdown",
   "metadata": {},
   "source": [
    "# Chapter 12\n",
    "# Tuples."
   ]
  },
  {
   "cell_type": "code",
   "execution_count": 143,
   "metadata": {},
   "outputs": [
    {
     "name": "stdout",
     "output_type": "stream",
     "text": [
      "('a', 'b', 'c', 'd', 'e')\n",
      "<class 'tuple'>\n",
      "('a', 'b', 'c', 'd', 'e')\n",
      "<class 'tuple'>\n",
      "('a',)\n",
      "<class 'tuple'>\n",
      "('a',)\n",
      "<class 'tuple'>\n"
     ]
    }
   ],
   "source": [
    "# Tuples are immutable.\n",
    "t = 'a', 'b', 'c', 'd', 'e'\n",
    "print(t)\n",
    "print(type(t))\n",
    "\n",
    "# Although it is not necessary, it is common to enclose tuples in parentheses:\n",
    "t = ('a', 'b', 'c', 'd', 'e')\n",
    "print(t)\n",
    "print(type(t))\n",
    "\n",
    "# To create a tuple with a single element, include a final comma:\n",
    "t = 'a',\n",
    "print(t)\n",
    "print(type(t))\n",
    "\n",
    "t = ('a',)\n",
    "print(t)\n",
    "print(type(t))"
   ]
  },
  {
   "cell_type": "code",
   "execution_count": 147,
   "metadata": {},
   "outputs": [
    {
     "name": "stdout",
     "output_type": "stream",
     "text": [
      "()\n",
      "<class 'tuple'>\n",
      "('E', 's', 's', 'e', 'x')\n",
      "<class 'tuple'>\n",
      "(1, 2, 3, 4)\n",
      "<class 'tuple'>\n",
      "('a', 'b', 'c', 'd')\n",
      "<class 'tuple'>\n"
     ]
    }
   ],
   "source": [
    "# The tuple() function.\n",
    "# Create the empty tuple.\n",
    "\n",
    "t = tuple()\n",
    "print(t)\n",
    "print(type(t))\n",
    "\n",
    "t = tuple('Essex') # String as argument.\n",
    "print(t)\n",
    "print(type(t))\n",
    "\n",
    "t = tuple([1, 2, 3, 4]) # List as argument.\n",
    "print(t)\n",
    "print(type(t))\n",
    "\n",
    "t = tuple(('a', 'b', 'c', 'd')) # Tuple as argument.\n",
    "print(t)\n",
    "print(type(t))"
   ]
  },
  {
   "cell_type": "code",
   "execution_count": 148,
   "metadata": {},
   "outputs": [
    {
     "data": {
      "text/plain": [
       "('A', 'b', 'c', 'd', 'e')"
      ]
     },
     "execution_count": 148,
     "metadata": {},
     "output_type": "execute_result"
    }
   ],
   "source": [
    "# Creating a new tuple with the same name. \n",
    "\n",
    "t = ('a', 'b', 'c', 'd', 'e')\n",
    "t = ('A',) + t[1:]\n",
    "t"
   ]
  },
  {
   "cell_type": "code",
   "execution_count": 153,
   "metadata": {},
   "outputs": [
    {
     "name": "stdout",
     "output_type": "stream",
     "text": [
      "('f', 'g', 'h', 'i', 'j')\n",
      "<class 'tuple'>\n",
      "('a', 'b', 'c', 'd', 'e')\n",
      "<class 'tuple'>\n"
     ]
    }
   ],
   "source": [
    "# Tuple assignment.\n",
    "a = ('a', 'b', 'c', 'd', 'e')\n",
    "b = ('f', 'g', 'h', 'i', 'j')\n",
    "# Efficient way to swap a and b.\n",
    "a, b = b, a\n",
    "\n",
    "print(a)\n",
    "print(type(a))\n",
    "print(b)\n",
    "print(type(b))"
   ]
  },
  {
   "cell_type": "code",
   "execution_count": 157,
   "metadata": {},
   "outputs": [
    {
     "name": "stdout",
     "output_type": "stream",
     "text": [
      "(2, 1)\n",
      "2\n",
      "1\n"
     ]
    }
   ],
   "source": [
    "# Function returning a tuple (multiple values).\n",
    "\n",
    "def my_divmod(x, y):\n",
    "    return x//y, x%y\n",
    "\n",
    "t = my_divmod(7, 3)\n",
    "print(t)\n",
    "\n",
    "f, g = my_divmod(7, 3)\n",
    "print(f)\n",
    "print(g)"
   ]
  },
  {
   "cell_type": "code",
   "execution_count": 3,
   "metadata": {},
   "outputs": [
    {
     "name": "stdout",
     "output_type": "stream",
     "text": [
      "(1, 2.0, '3')\n"
     ]
    }
   ],
   "source": [
    "# Variable length argument tuples. Use '*'.\n",
    "\n",
    "def printall(*args): # '*' gathers arguments into a tuple.\n",
    "    print(args)\n",
    "\n",
    "printall(1, 2.0, '3')"
   ]
  },
  {
   "cell_type": "code",
   "execution_count": 2,
   "metadata": {},
   "outputs": [
    {
     "name": "stdout",
     "output_type": "stream",
     "text": [
      "2\n"
     ]
    },
    {
     "data": {
      "text/plain": [
       "(1, 2)"
      ]
     },
     "execution_count": 2,
     "metadata": {},
     "output_type": "execute_result"
    }
   ],
   "source": [
    "def my_divmod(x, y):\n",
    "    return x//y, x%y\n",
    "\n",
    "t = (6, 4)\n",
    "\n",
    "print(len(t))\n",
    "\n",
    "my_divmod(*t) # '*' is a scatter operator.\n"
   ]
  },
  {
   "cell_type": "code",
   "execution_count": 5,
   "metadata": {},
   "outputs": [
    {
     "name": "stdout",
     "output_type": "stream",
     "text": [
      "7\n"
     ]
    }
   ],
   "source": [
    "# Function max() can take a variable number of arguments\n",
    "\n",
    "print(max(3,4,7,5))\n"
   ]
  },
  {
   "cell_type": "code",
   "execution_count": 10,
   "metadata": {},
   "outputs": [
    {
     "name": "stdout",
     "output_type": "stream",
     "text": [
      "6\n",
      "13\n",
      "23\n",
      "38\n"
     ]
    }
   ],
   "source": [
    "# Function sum_all() can take a variable number of arguments.\n",
    "# Note that this is a recursive function.\n",
    "\n",
    "def sum_all(*args):\n",
    "    if len(args) == 1:\n",
    "        return args[0]\n",
    "    else:\n",
    "        return args[0] + sum_all(*args[1:])\n",
    "\n",
    "print(sum_all(6))\n",
    "print(sum_all(6,7))\n",
    "print(sum_all(6,7,10))\n",
    "print(sum_all(6,7,10,15))\n",
    "\n"
   ]
  },
  {
   "cell_type": "code",
   "execution_count": 2,
   "metadata": {},
   "outputs": [
    {
     "name": "stdout",
     "output_type": "stream",
     "text": [
      "600\n",
      "15\n"
     ]
    }
   ],
   "source": [
    "# Alternatively, can use the Python function sum().\n",
    "\n",
    "def sum_all2(*args):\n",
    "    return sum(args)\n",
    "\n",
    "print(sum_all2(100, 200, 300))\n",
    "\n",
    "# Note the Python function sum() can accept a tuple as an argument.\n",
    "t = (4, 5, 6)\n",
    "print(sum(t))"
   ]
  },
  {
   "cell_type": "code",
   "execution_count": 14,
   "metadata": {},
   "outputs": [
    {
     "name": "stdout",
     "output_type": "stream",
     "text": [
      "<zip object at 0x000001E09F357908>\n",
      "<class 'zip'>\n",
      "('a', 0)\n",
      "('b', 1)\n",
      "('c', 2)\n",
      "[('a', 0), ('b', 1), ('c', 2)]\n",
      "('b', 1)\n"
     ]
    }
   ],
   "source": [
    "# Lists and tuples.\n",
    "\n",
    "s = 'abc'\n",
    "t = [0, 1, 2]\n",
    "z = zip(s, t)\n",
    "print(z) # A zip object is a kind of iterator.\n",
    "print(type(z)) # zip objects cannot be indexed, e.g. z[0] gives an ERROR.\n",
    "\n",
    "for pair in zip(s, t):\n",
    "        print(pair)\n",
    "        \n",
    "zip_to_list = list(z) # A list of tuples.\n",
    "print(zip_to_list)\n",
    "print(zip_to_list[1])"
   ]
  },
  {
   "cell_type": "code",
   "execution_count": 15,
   "metadata": {},
   "outputs": [
    {
     "name": "stdout",
     "output_type": "stream",
     "text": [
      "0 a\n",
      "1 b\n",
      "2 c\n"
     ]
    }
   ],
   "source": [
    "t = [('a', 0), ('b', 1), ('c', 2)]\n",
    "for letter, number in t: # Uses tuple assignment.\n",
    "    print(number, letter)"
   ]
  },
  {
   "cell_type": "code",
   "execution_count": 1,
   "metadata": {},
   "outputs": [
    {
     "name": "stdout",
     "output_type": "stream",
     "text": [
      "True\n",
      "False\n"
     ]
    }
   ],
   "source": [
    "# Traversing two sequences at the same time.\n",
    "\n",
    "def has_match(t1, t2):\n",
    "    for x, y in zip(t1, t2):\n",
    "        if x == y:\n",
    "            return True\n",
    "    return False\n",
    "\n",
    "x = (1,2,3,4)\n",
    "y = (9,4,3,8)\n",
    "print(has_match(x, y))\n",
    "\n",
    "x = (1,2,3,4)\n",
    "y = (9,10,11,12)\n",
    "print(has_match(x, y))"
   ]
  },
  {
   "cell_type": "code",
   "execution_count": 23,
   "metadata": {},
   "outputs": [
    {
     "name": "stdout",
     "output_type": "stream",
     "text": [
      "0 a\n",
      "1 b\n",
      "2 c\n",
      "<class 'enumerate'>\n",
      "<class 'type'>\n",
      "(0, 'a')\n",
      "(1, 'b')\n",
      "(2, 'c')\n"
     ]
    }
   ],
   "source": [
    "# The 'enumerate' function.\n",
    "\n",
    "for index, element in enumerate('abc'):\n",
    "    print(index, element)\n",
    "    \n",
    "print(enumerate)\n",
    "print(type(enumerate))\n",
    "\n",
    "for t in enumerate('abc'):\n",
    "    print(t)"
   ]
  },
  {
   "cell_type": "code",
   "execution_count": 28,
   "metadata": {},
   "outputs": [
    {
     "name": "stdout",
     "output_type": "stream",
     "text": [
      "dict_items([('a', 0), ('b', 1), ('c', 2)])\n",
      "a 0\n",
      "b 1\n",
      "c 2\n",
      "('a', 0)\n",
      "('b', 1)\n",
      "('c', 2)\n"
     ]
    }
   ],
   "source": [
    "# Dictionaries and tuples.\n",
    "\n",
    "# Dictionary items() method.\n",
    "d = {'a':0, 'b':1, 'c':2}\n",
    "t = d.items() # 'dict_items' object produced.\n",
    "print(t)\n",
    "\n",
    "for key, value in d.items():\n",
    "    print(key, value)\n",
    "    \n",
    "for tup in d.items():\n",
    "    print(tup)\n"
   ]
  },
  {
   "cell_type": "code",
   "execution_count": 31,
   "metadata": {},
   "outputs": [
    {
     "name": "stdout",
     "output_type": "stream",
     "text": [
      "{'a': 0, 'c': 2, 'b': 1}\n"
     ]
    }
   ],
   "source": [
    "# Lists of tuples can be converted to a dictionary.\n",
    "\n",
    "t = [('a', 0), ('c', 2), ('b', 1)]\n",
    "d = dict(t)\n",
    "print(d)"
   ]
  },
  {
   "cell_type": "code",
   "execution_count": 32,
   "metadata": {},
   "outputs": [
    {
     "name": "stdout",
     "output_type": "stream",
     "text": [
      "{'a': 0, 'b': 1, 'c': 2}\n"
     ]
    }
   ],
   "source": [
    "# Combining 'dict and 'zip' to create a dictionary.\n",
    "\n",
    "d = dict(zip('abc', range(3)))\n",
    "print(d)"
   ]
  },
  {
   "cell_type": "code",
   "execution_count": 25,
   "metadata": {},
   "outputs": [
    {
     "name": "stdout",
     "output_type": "stream",
     "text": [
      "David Brookes 1234\n",
      "Moses Simon 5678\n",
      "Sushila Kumari 9012\n",
      "Dilpa Rao 8888\n"
     ]
    }
   ],
   "source": [
    "# Using tuples as keys in dictionaries.\n",
    "\n",
    "directory = dict()\n",
    "\n",
    "directory['Brookes', 'David'] = 1234\n",
    "directory['Simon', 'Moses'] = 5678\n",
    "directory['Kumari', 'Sushila'] = 9012\n",
    "directory['Rao', 'Dilpa'] = 8888\n",
    "\n",
    "for last, first in directory:\n",
    "    print(first, last, directory[last,first])"
   ]
  },
  {
   "cell_type": "markdown",
   "metadata": {},
   "source": [
    "# Chapter 13\n",
    "# Case study: data structure selection."
   ]
  },
  {
   "cell_type": "code",
   "execution_count": null,
   "metadata": {},
   "outputs": [],
   "source": [
    "# Need something in this section!"
   ]
  },
  {
   "cell_type": "markdown",
   "metadata": {},
   "source": [
    "# Chapter 14\n",
    "# Files."
   ]
  },
  {
   "cell_type": "code",
   "execution_count": 1,
   "metadata": {},
   "outputs": [
    {
     "name": "stdout",
     "output_type": "stream",
     "text": [
      "C:\\Users\\David Brookes\\Notebooks\\ThinkPython2 Code\n",
      "D:\\My Documents\\Python Code\\Think Python 2 Code\n"
     ]
    }
   ],
   "source": [
    "# Print current working directory (folder).\n",
    "import os\n",
    "\n",
    "curr_dir=os.getcwd()\n",
    "print(curr_dir)\n",
    "\n",
    "# Change working directory.\n",
    "# Note: 'r' allows backslashes (and forward slashes) in the file path name.\n",
    "\n",
    "curr_dir = os.chdir(r\"D:\\My Documents\\Python Code\\Think Python 2 Code\")\n",
    "curr_dir=os.getcwd()\n",
    "print(curr_dir)"
   ]
  },
  {
   "cell_type": "code",
   "execution_count": 2,
   "metadata": {},
   "outputs": [],
   "source": [
    "# Reading and writing files.\n",
    "\n",
    "# To write a file, to open it with mode 'w' as a second parameter:\n",
    "f = open('myfile.txt', 'w')\n",
    "\n",
    "# If the file already exists, opening it in write mode clears out the old data and starts fresh,\n",
    "# so be careful! If the file doesn’t exist, a new one is created.\n",
    "\n",
    "line1 = \"This is the first line,\\n\"\n",
    "f.write(line1) # argument must be a string.\n",
    "\n",
    "line2 = \"and this is the second line.\\n\"\n",
    "f.write(line2)\n",
    "\n",
    "# Close the file after writing to it.\n",
    "f.close()\n"
   ]
  },
  {
   "cell_type": "code",
   "execution_count": 3,
   "metadata": {},
   "outputs": [
    {
     "name": "stdout",
     "output_type": "stream",
     "text": [
      "This is the first line,\n",
      "and this is the second line.\n"
     ]
    }
   ],
   "source": [
    "f = open('myfile.txt', 'r')\n",
    "\n",
    "line = f.readline()\n",
    "word = line.strip() # Strip the newline character.\n",
    "print(word)\n",
    "line = f.readline()\n",
    "word = line.strip() # Strip the newline character.\n",
    "print(word)"
   ]
  },
  {
   "cell_type": "code",
   "execution_count": 4,
   "metadata": {},
   "outputs": [
    {
     "name": "stdout",
     "output_type": "stream",
     "text": [
      "I have 5 chickens\n",
      "I have 5 chickens, pi is 3.142, and I like eating pasta.\n"
     ]
    }
   ],
   "source": [
    "# Format operator %.\n",
    "\n",
    "print('I have %d chickens' % 5) # Integer.\n",
    "\n",
    "print('I have %d chickens, pi is %g, and I like eating %s.' % (5, 3.142, 'pasta')) \n",
    "# Integer, float, string.\n",
    "# Note these must be combined into a tuple."
   ]
  },
  {
   "cell_type": "code",
   "execution_count": 7,
   "metadata": {},
   "outputs": [
    {
     "name": "stdout",
     "output_type": "stream",
     "text": [
      "D:\\My Documents\\Python Code\n",
      "D:\\My Documents\\Python Code\\Empty_File.docx\n",
      "D:\\My Documents\\Python Code\\Think Python 2 Code\\myfile.txt\n",
      "D:\\My Documents\\Python Code\\Think Python 2 Code\\ThinkPython2.ipynb\n",
      "D:\\My Documents\\Python Code\\Think Python 2 Code\\ThinkPython2.py\n",
      "D:\\My Documents\\Python Code\\Think Python 2 Code\\words.txt\n"
     ]
    }
   ],
   "source": [
    "# Filenames and paths.\n",
    "\n",
    "import os\n",
    "\n",
    "curr_dir=os.getcwd()\n",
    "print(curr_dir)\n",
    "\n",
    "# Change working directory.\n",
    "# Note: 'r' allows backslashes (and forward slashes) in the file path name.\n",
    "\n",
    "curr_dir = os.chdir(r\"D:\\My Documents\\Python Code\")\n",
    "curr_dir=os.getcwd()\n",
    "\n",
    "# Function to print out files and folders (directories) recursively.\n",
    "\n",
    "def my_walk(dirname):\n",
    "    for name in os.listdir(dirname):\n",
    "        path = os.path.join(dirname, name)\n",
    "        if os.path.isfile(path):\n",
    "            print(path)\n",
    "        else:\n",
    "            my_walk(path)\n",
    "            \n",
    "my_walk(curr_dir)\n"
   ]
  },
  {
   "cell_type": "code",
   "execution_count": 9,
   "metadata": {},
   "outputs": [
    {
     "name": "stdout",
     "output_type": "stream",
     "text": [
      "Something went wrong.\n"
     ]
    }
   ],
   "source": [
    "# Catching exceptions (errors).\n",
    "\n",
    "try:\n",
    "    fin = open('bad_file') # 'badfile' does not exist.\n",
    "except:\n",
    "    print('Something went wrong.')\n",
    "    \n",
    "# Note: this is not the best use of 'try ' and 'except'."
   ]
  },
  {
   "cell_type": "code",
   "execution_count": 11,
   "metadata": {},
   "outputs": [
    {
     "data": {
      "text/plain": [
       "b'value1.'"
      ]
     },
     "execution_count": 11,
     "metadata": {},
     "output_type": "execute_result"
    }
   ],
   "source": [
    "# Databases.\n",
    "# These are like dictionaries, but data is stored permanently (like a file).\n",
    "\n",
    "import dbm\n",
    "db = dbm.open('captions', 'c') # 'c' means create the database if it does not exist already.\n",
    "\n",
    "db['key1.png'] = 'value1.'\n",
    "\n",
    "db['key1.png'] # Note below output: 'b' means a byte object.\n"
   ]
  },
  {
   "cell_type": "code",
   "execution_count": 12,
   "metadata": {},
   "outputs": [
    {
     "name": "stdout",
     "output_type": "stream",
     "text": [
      "b'cleese.png' b'Photo of John Cleese.'\n",
      "b'key1.png' b'value1.'\n",
      "b'key2.png' b'value2.'\n",
      "b'key3.png' b'value3.'\n"
     ]
    }
   ],
   "source": [
    "db['key2.png'] = 'value2.'\n",
    "db['key3.png'] = 'value3.'\n",
    "\n",
    "for key in db:\n",
    "    print(key, db[key])\n",
    "    \n",
    "db.close() # Close the file after use.\n"
   ]
  },
  {
   "cell_type": "code",
   "execution_count": 14,
   "metadata": {},
   "outputs": [
    {
     "data": {
      "text/plain": [
       "b'\\x80\\x03]q\\x00(K\\x01K\\x02K\\x03e.'"
      ]
     },
     "execution_count": 14,
     "metadata": {},
     "output_type": "execute_result"
    }
   ],
   "source": [
    "# Pickling.\n",
    "# A limitation of 'dbm' is that the keys and values have to be strings or bytes. If you try to use\n",
    "# any other type, you get an error.\n",
    "\n",
    "# pickle.dumps takes an object as a parameter and returns a string representation (dumps is\n",
    "# short for “dump string”).\n",
    "\n",
    "import pickle\n",
    "t = [1, 2, 3]\n",
    "pickle.dumps(t)"
   ]
  },
  {
   "cell_type": "code",
   "execution_count": 17,
   "metadata": {},
   "outputs": [
    {
     "name": "stdout",
     "output_type": "stream",
     "text": [
      "[1, 2, 3]\n",
      "True\n",
      "False\n"
     ]
    }
   ],
   "source": [
    "# pickle.loads (“load string”) reconstitutes the object.\n",
    "\n",
    "t1 = [1, 2, 3]\n",
    "s = pickle.dumps(t1)\n",
    "t2 = pickle.loads(s)\n",
    "print(t2)\n",
    "# Although the new object has the same value as the old, it is not (in general) the same object:\n",
    "print(t1 == t2)\n",
    "print(t1 is t2)"
   ]
  },
  {
   "cell_type": "code",
   "execution_count": 13,
   "metadata": {},
   "outputs": [
    {
     "name": "stdout",
     "output_type": "stream",
     "text": [
      "\n"
     ]
    }
   ],
   "source": [
    "# Pipes.\n",
    "# Most operating systems provide a command-line interface, also known as a shell.\n",
    "# Any program that you can launch from the shell can also be launched from Python using\n",
    "# a pipe object, which represents a running program.\n",
    "# For example, the Unix command ls -l normally displays the contents of the current directory in long\n",
    "# format. You can launch ls with os.popen.\n",
    "import os\n",
    "\n",
    "cmd = 'ls -l'\n",
    "fp = os.popen(cmd) # Return object behaves like and open file.\n",
    "res = fp.read() # Reads the whole of the file.\n",
    "print(res)"
   ]
  },
  {
   "cell_type": "code",
   "execution_count": 1,
   "metadata": {},
   "outputs": [
    {
     "name": "stdout",
     "output_type": "stream",
     "text": [
      "C:\\Users\\David Brookes\\Notebooks\\ThinkPython2 Code\n",
      "['.ipynb_checkpoints', 'captions.bak', 'captions.dat', 'captions.dir', 'my_square.ipynb', 'ThinkPython2.ipynb']\n",
      "D:\\My Documents\\Python Code\\Think Python 2 Code\n",
      "\n",
      "1\n"
     ]
    }
   ],
   "source": [
    "\n",
    "import os\n",
    "\n",
    "# Listing the contents in a directory using 'os'\n",
    "cwd = os.getcwd()\n",
    "print(cwd)\n",
    "print(os.listdir(cwd))\n",
    "curr_dir = os.chdir(r\"D:\\My Documents\\Python Code\\Think Python 2 Code\")\n",
    "curr_dir=os.getcwd()\n",
    "print(curr_dir)\n",
    "\n",
    "# I'm not sure about pipes!!! \n",
    "cmd = 'ls -l'\n",
    "fp = os.popen(cmd) # Return object behaves like an open file.\n",
    "text = fp.read()\n",
    "print(text)\n",
    "stat = fp.close()\n",
    "print(stat) # 'None' means it has worked, otherwise it hasn't! "
   ]
  },
  {
   "cell_type": "code",
   "execution_count": 3,
   "metadata": {},
   "outputs": [
    {
     "name": "stdout",
     "output_type": "stream",
     "text": [
      "D:\\My Documents\\Python Code\\Think Python 2 Code\n",
      "<module 'my_square' from 'D:\\\\My Documents\\\\Python Code\\\\Think Python 2 Code\\\\my_square.py'>\n",
      "my_square\n",
      "9\n"
     ]
    }
   ],
   "source": [
    "# Writing modules.\n",
    "# Note: my_square.py includes a function called number_squared() in the \n",
    "# current working directory (folder). The code is shown directly below:\n",
    "# \n",
    "#!/usr/bin/env python\n",
    "# coding: utf-8\n",
    "# My_square function Python file.\n",
    "#\n",
    "# def number_squared(x):\n",
    "#    return (x*x)\n",
    "\n",
    "import my_square\n",
    "\n",
    "curr_dir = os.chdir(r\"D:\\My Documents\\Python Code\\Think Python 2 Code\")\n",
    "curr_dir=os.getcwd()\n",
    "print(curr_dir)\n",
    "\n",
    "print(my_square)\n",
    "print(my_square.__name__)\n",
    "\n",
    "y = my_square.number_squared(3)\n",
    "print(y)"
   ]
  },
  {
   "cell_type": "markdown",
   "metadata": {},
   "source": [
    "# Chapter 15\n",
    "# Classes and Objects."
   ]
  },
  {
   "cell_type": "code",
   "execution_count": 1,
   "metadata": {},
   "outputs": [],
   "source": [
    "# Programmer defined types (classes).\n",
    "# Note: this section uses ideas from later chapters! (e.g the use of the method __init__()).\n",
    "\n",
    "from math import sqrt \n",
    "\n",
    "class Point:\n",
    "    \"\"\"Represents a point\"\"\"\n",
    "    def __init__(self, x=0, y=0): # x=0 and y=0 are default values.\n",
    "        self.x = x\n",
    "        self.y = y\n",
    "    \n",
    "class Rectangle:\n",
    "    \"\"\"Represents a rectangle.\n",
    "    attributes:width, height, corner. \"\"\"\n",
    "    def __init__(self, width, height, corner):\n",
    "        self.width = width\n",
    "        self.height = height\n",
    "        self.corner = corner\n",
    "        \n",
    "def print_point(p):\n",
    "    print('(',p.x,',',p.y,')')"
   ]
  },
  {
   "cell_type": "code",
   "execution_count": 3,
   "metadata": {},
   "outputs": [
    {
     "name": "stdout",
     "output_type": "stream",
     "text": [
      "( 3.124 , 2.718 )\n",
      "( 3 , 2 )\n",
      "( 0 , 0 )\n"
     ]
    }
   ],
   "source": [
    "blank1 = Point(3.124, 2.718)\n",
    "# blank1 object created. An object is an instance of a class.\n",
    "# blank1.x = 3.124\n",
    "# blank1.y = 2.718\n",
    "\n",
    "blank2 = Point(3, 2)\n",
    "# blank2.x = 3\n",
    "# blank2.y = 2\n",
    "\n",
    "blank3 = Point()\n",
    "\n",
    "print_point(blank1)\n",
    "print_point(blank2)\n",
    "print_point(blank3)"
   ]
  },
  {
   "cell_type": "code",
   "execution_count": 4,
   "metadata": {},
   "outputs": [
    {
     "data": {
      "text/plain": [
       "0.7286288492778749"
      ]
     },
     "execution_count": 4,
     "metadata": {},
     "output_type": "execute_result"
    }
   ],
   "source": [
    "def dist(p1,p2):\n",
    "    return sqrt((p1.x - p2.x)**2+(p1.y - p2.y)**2)\n",
    "\n",
    "distance = dist(blank1, blank2)\n",
    "distance"
   ]
  },
  {
   "cell_type": "code",
   "execution_count": 5,
   "metadata": {},
   "outputs": [
    {
     "name": "stdout",
     "output_type": "stream",
     "text": [
      "( 122.0 , 163.0 )\n"
     ]
    }
   ],
   "source": [
    "# Create a Rectangle object.\n",
    "\n",
    "rect1 = Rectangle(44, 26, Point(100, 150))\n",
    "\n",
    "def find_centre(rect): # Takes in a Rectangle object and returns a Point object.\n",
    "    p = Point(rect.corner.x + 0.5*rect.width, rect.corner.y + 0.5*rect.height)\n",
    "    return(p)\n",
    "\n",
    "# Find the centre of the Rectangle object.\n",
    "centre_of_rect = find_centre(rect1)\n",
    "print_point(centre_of_rect)"
   ]
  },
  {
   "cell_type": "code",
   "execution_count": 13,
   "metadata": {},
   "outputs": [
    {
     "name": "stdout",
     "output_type": "stream",
     "text": [
      "100\n",
      "150\n",
      "175 275\n",
      "200 300\n"
     ]
    }
   ],
   "source": [
    "# Objects are mutable.\n",
    "\n",
    "box = Rectangle(100, 200, Point(10,10))\n",
    "\n",
    "print(box.width)\n",
    "box.width = box.width + 50\n",
    "print(box.width)\n",
    "\n",
    "# Function to modify a Rectangle object.\n",
    "def grow_rectangle(rect, dwidth, dheight):\n",
    "    rect.width += dwidth\n",
    "    rect.height += dheight\n",
    "    \n",
    "grow_rectangle(box, 25, 75)   \n",
    "print(box.width, box.height)\n",
    "grow_rectangle(box, 25, 25)   \n",
    "print(box.width, box.height)\n",
    "\n",
    "# Inside the function grow_rectangle(), 'rect' is an alias for 'box', so when the function\n",
    "# modifies 'rect', box changes."
   ]
  },
  {
   "cell_type": "code",
   "execution_count": 16,
   "metadata": {},
   "outputs": [
    {
     "name": "stdout",
     "output_type": "stream",
     "text": [
      "( 3.0 , 4.0 )\n",
      "( 3.0 , 4.0 )\n",
      "False\n",
      "False\n"
     ]
    }
   ],
   "source": [
    "# Copying.\n",
    "# Aliasing can make a program difficult to read because changes in one place might have\n",
    "# unexpected effects in another place.\n",
    "# Copying an object is often an alternative to aliasing.\n",
    "\n",
    "p1 = Point()\n",
    "p1.x = 3.0\n",
    "p1.y = 4.0\n",
    "\n",
    "import copy\n",
    "p2 = copy.copy(p1)\n",
    "# p1 and p2 contain the same data, but they are not the same Point.\n",
    "\n",
    "print_point(p1)\n",
    "print_point(p2)\n",
    "\n",
    "print(p1 is p2)\n",
    "print(p1 == p2) # Surprising this is False! So watch out for this.\n"
   ]
  },
  {
   "cell_type": "code",
   "execution_count": 18,
   "metadata": {},
   "outputs": [
    {
     "name": "stdout",
     "output_type": "stream",
     "text": [
      "False\n",
      "True\n"
     ]
    }
   ],
   "source": [
    "# Using copy.copy to duplicate a Rectangle, you will find that it copies the Rectangle\n",
    "# object but not the embedded Point.\n",
    "# This operation is called a shallow copy because it copies the object and any references\n",
    "# it contains, but not the embedded objects.\n",
    "\n",
    "box2 = copy.copy(box)\n",
    "print(box2 is box)\n",
    "print(box2.corner is box.corner)"
   ]
  },
  {
   "cell_type": "code",
   "execution_count": 19,
   "metadata": {},
   "outputs": [
    {
     "data": {
      "text/plain": [
       "False"
      ]
     },
     "execution_count": 19,
     "metadata": {},
     "output_type": "execute_result"
    }
   ],
   "source": [
    "# The copy module provides a method named deepcopy that copies not only the\n",
    "# object but also the objects it refers to, and the objects they refer to, and so on.\n",
    "\n",
    "box3 = copy.deepcopy(box)\n",
    "print(box3 is box)\n",
    "print(box3.corner is box.corner)\n",
    "\n",
    "# box3 and box are completely separate objects."
   ]
  },
  {
   "cell_type": "code",
   "execution_count": 24,
   "metadata": {},
   "outputs": [
    {
     "name": "stdout",
     "output_type": "stream",
     "text": [
      "<class '__main__.Point'>\n",
      "True\n",
      "True\n",
      "False\n"
     ]
    }
   ],
   "source": [
    "p = Point()\n",
    "p.x = 3\n",
    "p.y = 4\n",
    "\n",
    "# p.z\n",
    "# AttributeError: Point instance has no attribute 'z'.\n",
    "\n",
    "# If you are not sure what type an object is, you can ask:\n",
    "print(type(p))\n",
    "\n",
    "# You can also use isinstance to check whether an object is an instance of a class:\n",
    "print(isinstance(p, Point))\n",
    "# If you are not sure whether an object has a particular attribute, you can use the built-in\n",
    "# function hasattr:\n",
    "print(hasattr(p, 'x'))\n",
    "print(hasattr(p, 'z'))\n"
   ]
  },
  {
   "cell_type": "code",
   "execution_count": 30,
   "metadata": {},
   "outputs": [
    {
     "name": "stdout",
     "output_type": "stream",
     "text": [
      "3\n",
      "0\n"
     ]
    }
   ],
   "source": [
    "# Can use 'try' and 'except'.\n",
    "p = Point()\n",
    "p.x = 3\n",
    "p.y = 4\n",
    "\n",
    "try:\n",
    "    value = p.x\n",
    "except AttributeError:\n",
    "    value  = 0\n",
    "    \n",
    "print(value )\n",
    "\n",
    "try:\n",
    "    value = p.z\n",
    "except AttributeError:\n",
    "    value  = 0\n",
    "    \n",
    "print(value )"
   ]
  },
  {
   "cell_type": "markdown",
   "metadata": {},
   "source": [
    "# Chapter 16\n",
    "# Classes and Functions"
   ]
  },
  {
   "cell_type": "code",
   "execution_count": 4,
   "metadata": {},
   "outputs": [
    {
     "name": "stdout",
     "output_type": "stream",
     "text": [
      "11 : 59 : 30\n"
     ]
    }
   ],
   "source": [
    "# Time class.\n",
    "\n",
    "class Time:\n",
    "    \"\"\"Represents the time of day.\n",
    "    attributes: hour, minute, second\n",
    "    \"\"\"\n",
    "# We can create a new Time object and assign attributes for hours, minutes, and seconds:\n",
    "time = Time()\n",
    "time.hour = 11\n",
    "time.minute = 59\n",
    "time.second = 30\n",
    "    \n",
    "def print_time(t):\n",
    "    print(t.hour, ':', t.minute,':',t.second)\n",
    "    \n",
    "print_time(time)"
   ]
  },
  {
   "cell_type": "code",
   "execution_count": 5,
   "metadata": {},
   "outputs": [
    {
     "name": "stdout",
     "output_type": "stream",
     "text": [
      "10 : 80 : 0\n"
     ]
    }
   ],
   "source": [
    "# Pure functions.\n",
    "\n",
    "def add_time(t1, t2):\n",
    "    sum = Time()\n",
    "    sum.hour = t1.hour + t2.hour\n",
    "    sum.minute = t1.minute + t2.minute\n",
    "    sum.second = t1.second + t2.second\n",
    "    return sum\n",
    "\n",
    "# This is called a pure function because it does not modify any of the objects passed to it \n",
    "# as arguments.\n",
    "\n",
    "start = Time()\n",
    "start.hour = 9\n",
    "start.minute = 45\n",
    "start.second = 0\n",
    "\n",
    "duration = Time()\n",
    "duration.hour = 1\n",
    "duration.minute = 35\n",
    "duration.second = 0\n",
    "\n",
    "done = add_time(start, duration)\n",
    "print_time(done) # Note 80 minutes generated."
   ]
  },
  {
   "cell_type": "code",
   "execution_count": 6,
   "metadata": {},
   "outputs": [
    {
     "name": "stdout",
     "output_type": "stream",
     "text": [
      "11 : 20 : 0\n"
     ]
    }
   ],
   "source": [
    "# Improved version - but getting a bit long!\n",
    "\n",
    "def add_time2(t1, t2):\n",
    "    sum = Time()\n",
    "    sum.hour = t1.hour + t2.hour\n",
    "    sum.minute = t1.minute + t2.minute\n",
    "    sum.second = t1.second + t2.second\n",
    "    if sum.second >= 60:\n",
    "        sum.second -= 60\n",
    "        sum.minute += 1\n",
    "    if sum.minute >= 60:\n",
    "        sum.minute -= 60\n",
    "        sum.hour += 1\n",
    "    return sum\n",
    "\n",
    "done = add_time2(start, duration)\n",
    "print_time(done)"
   ]
  },
  {
   "cell_type": "code",
   "execution_count": 8,
   "metadata": {},
   "outputs": [
    {
     "name": "stdout",
     "output_type": "stream",
     "text": [
      "11 : 59 : 55\n",
      "12 : 0 : 20\n"
     ]
    }
   ],
   "source": [
    "# Modifiers.\n",
    "\n",
    "def increment(time, seconds):\n",
    "    time.second += seconds\n",
    "    if time.second >= 60:\n",
    "        time.second -= 60\n",
    "        time.minute += 1\n",
    "    if time.minute >= 60:\n",
    "        time.minute -= 60\n",
    "        time.hour += 1\n",
    "\n",
    "print_time(time)\n",
    "increment(time, 25) # Note that 'time' is modified.\n",
    "print_time(time)\n",
    "\n",
    "# In general, it is recommended that you write pure functions whenever it is reasonable and resort\n",
    "# to modifiers only if there is a compelling advantage. This approach might be called a\n",
    "# functional programming style.\n"
   ]
  },
  {
   "cell_type": "markdown",
   "metadata": {},
   "source": [
    "# Chapter 17\n",
    "# Classes and Methods."
   ]
  },
  {
   "cell_type": "code",
   "execution_count": null,
   "metadata": {},
   "outputs": [],
   "source": [
    "# Object-oriented features\n",
    "# Python is an object-oriented programming language:\n",
    "# • Programs include class and method definitions.\n",
    "# • Most of the computation is expressed in terms of operations on objects.\n",
    "# • Objects often represent things in the real world, and methods often correspond to the\n",
    "# ways things in the real world interact.\n",
    "\n",
    "# Methods.\n",
    "# A method is a function that is associated with a particular class.\n",
    "# Methods are semantically the same as functions, but there are two syntactic differences:\n",
    "# • Methods are defined inside a class definition in order to make the relationship between the class \n",
    "# and the method explicit.\n",
    "# • The syntax for invoking a method is different from the syntax for calling a function.\n"
   ]
  },
  {
   "cell_type": "code",
   "execution_count": 3,
   "metadata": {},
   "outputs": [
    {
     "name": "stdout",
     "output_type": "stream",
     "text": [
      "09:45:00\n",
      "09:45:00\n"
     ]
    }
   ],
   "source": [
    "# Printing objects.\n",
    "\n",
    "class Time:\n",
    "    def print_time(self): # Note that print_time() is a method.\n",
    "                          # By convention, the first parameter of a method is called 'self'.\n",
    "        print('%.2d:%.2d:%.2d' % (self.hour, self.minute, self.second))\n",
    "        \n",
    "start = Time()\n",
    "start.hour = 9\n",
    "start.minute = 45\n",
    "start.second = 00\n",
    "\n",
    "# Two ways to print the time.\n",
    "\n",
    "Time.print_time(start)\n",
    "\n",
    "start.print_time() # This is the more common way."
   ]
  },
  {
   "cell_type": "code",
   "execution_count": 20,
   "metadata": {},
   "outputs": [
    {
     "name": "stdout",
     "output_type": "stream",
     "text": [
      "5.0\n",
      "4.78539444560216\n",
      "True\n"
     ]
    }
   ],
   "source": [
    "# The __init__() method. This sets the parameters of the object.\n",
    "# Also 'self' and 'other' used below.\n",
    "\n",
    "import math\n",
    "\n",
    "class my_point:\n",
    "    def __init__(self, x=0, y=0):\n",
    "        self.x = x\n",
    "        self.y = y\n",
    "    def dist_from_origin(self):\n",
    "        return (math.sqrt(self.x**2 + self.y**2))\n",
    "    def greater_dist_from_origin(self, other):\n",
    "        return (self.dist_from_origin() > other.dist_from_origin())\n",
    "    def __str__(self): # See below.\n",
    "        return '%.2g : %.2g' % (self.x, self.y)\n",
    "    \n",
    "point1 = my_point(3, 4)\n",
    "print(point1.dist_from_origin())\n",
    "point2 = my_point(2.1, 4.3)\n",
    "print(point2.dist_from_origin())\n",
    "\n",
    "print(point1.greater_dist_from_origin(point2))"
   ]
  },
  {
   "cell_type": "code",
   "execution_count": 21,
   "metadata": {},
   "outputs": [
    {
     "name": "stdout",
     "output_type": "stream",
     "text": [
      "3 : 4\n",
      "2.1 : 4.3\n"
     ]
    }
   ],
   "source": [
    "# The __str__() method. This returns a string representation of the object.\n",
    "# This is useful for debugging.\n",
    "print(point1.__str__())\n",
    "print(point2.__str__())\n"
   ]
  },
  {
   "cell_type": "code",
   "execution_count": 24,
   "metadata": {},
   "outputs": [
    {
     "name": "stdout",
     "output_type": "stream",
     "text": [
      "7.8 : 5.6\n",
      "7.8 : 5.6\n"
     ]
    }
   ],
   "source": [
    "# Operator overloading.\n",
    "# For example, __add__() method allows the '+' operator to be overloaded.\n",
    "\n",
    "class my_point:\n",
    "    def __init__(self, x=0, y=0):\n",
    "        self.x = x\n",
    "        self.y = y\n",
    "    def dist_from_origin(self):\n",
    "        return (math.sqrt(self.x**2 + self.y**2))\n",
    "    def greater_dist_from_origin(self, other):\n",
    "        return (self.dist_from_origin() > other.dist_from_origin())\n",
    "    def __str__(self): # See below.\n",
    "        return '%.2g : %.2g' % (self.x, self.y)\n",
    "    def __add__(self, other): # This is basically vector addition. \n",
    "        yet_another = my_point() # This creates a new point (it does not modify).\n",
    "        yet_another.x = self.x + other.x\n",
    "        yet_another.y = self.y + other.y\n",
    "        return (yet_another)\n",
    "    \n",
    "point1 = my_point(5.5, 4.5)\n",
    "point2 = my_point(2.3, 1.1)\n",
    "\n",
    "point3 = point1.__add__(point2) # Can use the __add__() method...\n",
    "point4 = point1 + point2 # ...but can use the '+' operator instead.\n",
    "\n",
    "print(point3.__str__())\n",
    "print(point4.__str__())\n"
   ]
  },
  {
   "cell_type": "code",
   "execution_count": 6,
   "metadata": {},
   "outputs": [
    {
     "name": "stdout",
     "output_type": "stream",
     "text": [
      "7.5 : 5.5\n",
      "16 : 4.5\n"
     ]
    }
   ],
   "source": [
    "# Type-based dispatch.\n",
    "# The method __add_() is modified to allow for different types of object.\n",
    "\n",
    "class my_point:\n",
    "    def __init__(self, x=0, y=0):\n",
    "        self.x = x\n",
    "        self.y = y\n",
    "    def dist_from_origin(self):\n",
    "        return (math.sqrt(self.x**2 + self.y**2))\n",
    "    def greater_dist_from_origin(self, other):\n",
    "        return (self.dist_from_origin() > other.dist_from_origin())\n",
    "    def __str__(self): # See below.\n",
    "        return '%.2g : %.2g' % (self.x, self.y)  \n",
    "    def add_point_dx(self, delta_x): \n",
    "        new_point = my_point()\n",
    "        new_point.x = self.x + delta_x\n",
    "        new_point.y = self.y\n",
    "        return(new_point)\n",
    "    def __add__(self, other): # This is basically vector addition. \n",
    "        if isinstance(other, my_point): # If 'other' is a 'my_point' object...\n",
    "            yet_another = my_point() # This creates a new point (it does not modify).\n",
    "            yet_another.x = self.x + other.x\n",
    "            yet_another.y = self.y + other.y\n",
    "        else: # It is assumed that 'other' is a number.\n",
    "            yet_another = my_point()\n",
    "            yet_another = self.add_point_dx(other)\n",
    "        return (yet_another)\n",
    "    def __radd__(self, other): # Note: __radd__() stands for “right-side add”.\n",
    "        return self.__add__(other)\n",
    "    \n",
    "point1 = my_point(5.5, 4.5)\n",
    "point2 = my_point(2.0, 1.0)\n",
    "\n",
    "point3 = point1 + point2 # Vector addition.\n",
    "point4 = point1 + 10.0 # Adds 10.0 to the x coordinate of point1 to create point4.\n",
    "\n",
    "print(point3.__str__())\n",
    "print(point4.__str__())"
   ]
  },
  {
   "cell_type": "code",
   "execution_count": 58,
   "metadata": {},
   "outputs": [
    {
     "name": "stdout",
     "output_type": "stream",
     "text": [
      "{'a': 3, 's': 2, 'p': 1, 'r': 1, 'g': 1, 'u': 1}\n",
      "{3: 1, 4: 2, 5: 2, 6: 1}\n",
      "{'s': 3, 'u': 1, 'p': 1, 'e': 2, 'n': 1}\n"
     ]
    }
   ],
   "source": [
    "# Polymorphism.\n",
    "# Functions that work with several types are called polymorphic. \n",
    "# Polymorphism can facilitate code reuse.\n",
    "\n",
    "def histogram(s):\n",
    "    d = dict()\n",
    "    for c in s:\n",
    "        if c not in d:\n",
    "            d[c] = 1\n",
    "        else:\n",
    "            d[c] = d[c]+1\n",
    "    return d\n",
    "\n",
    "my_string = 'asparagus'\n",
    "my_tuple = (3, 4, 5, 6, 5, 4)\n",
    "my_list = ['s','u','s','p','e','n','s','e']\n",
    "\n",
    "print(histogram(my_string))\n",
    "print(histogram(my_tuple))\n",
    "print(histogram(my_list))\n"
   ]
  },
  {
   "cell_type": "code",
   "execution_count": 59,
   "metadata": {},
   "outputs": [
    {
     "name": "stdout",
     "output_type": "stream",
     "text": [
      "12 : 18\n"
     ]
    }
   ],
   "source": [
    "# The built-in function 'sum', which adds the elements of a\n",
    "# sequence, works as long as the elements of the sequence support addition.\n",
    "\n",
    "point1 = my_point(1, 2)\n",
    "point2 = my_point(5, 6)\n",
    "point3 = my_point(6, 10)\n",
    "\n",
    "print(sum((point1, point2, point3)))"
   ]
  },
  {
   "cell_type": "code",
   "execution_count": 61,
   "metadata": {},
   "outputs": [
    {
     "name": "stdout",
     "output_type": "stream",
     "text": [
      "{'x': 9, 'y': 10}\n",
      "x 16\n",
      "y 32\n"
     ]
    }
   ],
   "source": [
    "# Another way to access attributes is the built-in function vars(), which takes an object and\n",
    "# returns a dictionary that maps from attribute names (as strings) to their values.\n",
    "\n",
    "point1 = my_point(9, 10)\n",
    "\n",
    "print(vars(point1))\n",
    "\n",
    "# This function is useful for purposes of debugging.\n",
    "def print_attributes(obj):\n",
    "    for attr in vars(obj):\n",
    "        print(attr, getattr(obj, attr))\n",
    "        \n",
    "# print_attributes() traverses the dictionary and prints each attribute name and its corresponding value.\n",
    "# The built-in function getattr() takes an object and an attribute name (as a string) and returns\n",
    "# the attribute’s value.\n",
    "\n",
    "point1 = my_point(16, 32)\n",
    "print_attributes(point1)"
   ]
  },
  {
   "cell_type": "code",
   "execution_count": null,
   "metadata": {},
   "outputs": [],
   "source": [
    "# Important note on Interface and implementation.\n",
    "# One of the goals of object-oriented design is to make software more maintainable, which\n",
    "# means that you can keep the program working when other parts of the system change, and\n",
    "# modify the program to meet new requirements.\n",
    "# A design principle that helps achieve that goal is to keep interfaces separate from implementations. \n",
    "# For objects, that means that the methods a class provides should not depend\n",
    "# on how the attributes are represented.\n"
   ]
  },
  {
   "cell_type": "markdown",
   "metadata": {},
   "source": [
    "# Chapter 18\n",
    "# Inheritance."
   ]
  },
  {
   "cell_type": "code",
   "execution_count": null,
   "metadata": {},
   "outputs": [],
   "source": [
    "# Inheritance is the ability to define a new class that is a modified version of an existing class."
   ]
  },
  {
   "cell_type": "code",
   "execution_count": 1,
   "metadata": {},
   "outputs": [],
   "source": [
    "# Examples using playing cards.\n",
    "# Suits and ranks encoded as integers.\n",
    "# Suits:   Clubs -> 0, Diamonds -> 1, Hearts -> 2, Spades -> 3.\n",
    "# Ranks:   Ace -> 1, 2 ->2, 3 -> 3,..., 10 -> 10, Jack -> 11, Queen -> 12, King -> 13.\n",
    "\n",
    "class Card:\n",
    "    \"\"\"Represents a standard playing card.\"\"\"\n",
    "    # suit_names and rank_names are class attributes.\n",
    "    \n",
    "    suit_names = ['Clubs', 'Diamonds', 'Hearts', 'Spades'] \n",
    "    rank_names = [None, 'Ace', '2', '3', '4', '5', '6', '7', '8', '9', '10', 'Jack', 'Queen', 'King']\n",
    "    \n",
    "    def __init__(self, suit=0, rank=2): # Default card is the 2 of Clubs.\n",
    "        self.suit = suit\n",
    "        self.rank = rank\n",
    "        \n",
    "    def __str__(self):\n",
    "        return '%s of %s' % (Card.rank_names[self.rank], Card.suit_names[self.suit])\n",
    "    \n",
    "    def __lt__(self, other): # The method __lt__() allows the '<' operator to be overloaded.\n",
    "        # It is assumed that 'suits are more important than rank', hence the code below.\n",
    "        # Check the suits.\n",
    "        if self.suit < other.suit: return True\n",
    "        if self.suit > other.suit: return False\n",
    "        # Suits are the same... check ranks.\n",
    "        return self.rank < other.rank\n",
    "\n",
    "    \n"
   ]
  },
  {
   "cell_type": "code",
   "execution_count": 2,
   "metadata": {},
   "outputs": [
    {
     "name": "stdout",
     "output_type": "stream",
     "text": [
      "Jack of Hearts\n"
     ]
    }
   ],
   "source": [
    "# Printing cards.\n",
    "\n",
    "card1 = Card(2, 11)\n",
    "print(card1)"
   ]
  },
  {
   "cell_type": "code",
   "execution_count": 4,
   "metadata": {},
   "outputs": [
    {
     "name": "stdout",
     "output_type": "stream",
     "text": [
      "Jack of Hearts\n",
      "Jack of Hearts\n",
      "4 of Diamonds\n",
      "True\n",
      "False\n"
     ]
    }
   ],
   "source": [
    "# Comparing cards.\n",
    "card1 = Card(2, 11)\n",
    "print(card1)\n",
    "card2 = Card(2, 12)\n",
    "print(card1)\n",
    "card3 = Card(1, 4)\n",
    "print(card3)\n",
    "\n",
    "print(card1 < card2)\n",
    "print(card1 < card3)\n"
   ]
  },
  {
   "cell_type": "code",
   "execution_count": 56,
   "metadata": {},
   "outputs": [],
   "source": [
    "# Define the class Deck.\n",
    "\n",
    "import random # Used for shuffling the deck.\n",
    "\n",
    "class Deck:\n",
    "    def __init__(self):\n",
    "        self.cards = [] # Attribute 'cards' is created. Initially an empty list.\n",
    "        for suit in range(4):\n",
    "            for rank in range(1, 14):\n",
    "                card = Card(suit, rank)\n",
    "                self.cards.append(card)\n",
    "                \n",
    "    def __str__(self):\n",
    "        res = []\n",
    "        for card in self.cards:\n",
    "            res.append(str(card)) # Create a list of strings.\n",
    "        # return '\\n'.join(res) # Return one string.\n",
    "        return ' : '.join(res) # Return one string. (This takes up less space in the output!).\n",
    "    \n",
    "    def pop_card(self): # Remove the last card in the deck.\n",
    "        return self.cards.pop()\n",
    "        \n",
    "    def add_card(self, card): # Add a card to the deck.\n",
    "        self.cards.append(card)\n",
    "        \n",
    "    def shuffle(self):\n",
    "        random.shuffle(self.cards)\n",
    "        \n",
    "    def sort(self): # Note that the __lt__() method from the class Card is being used here.\n",
    "        self.cards.sort()\n",
    "\n",
    "    def move_cards(self, hand, num):\n",
    "        for i in range(num):\n",
    "            hand.add_card(self.pop_card()) # Move acrd from the Deck to the Hand."
   ]
  },
  {
   "cell_type": "code",
   "execution_count": 39,
   "metadata": {},
   "outputs": [
    {
     "name": "stdout",
     "output_type": "stream",
     "text": [
      "Ace of Clubs : 2 of Clubs : 3 of Clubs : 4 of Clubs : 5 of Clubs : 6 of Clubs : 7 of Clubs : 8 of Clubs : 9 of Clubs : 10 of Clubs : Jack of Clubs : Queen of Clubs : King of Clubs : Ace of Diamonds : 2 of Diamonds : 3 of Diamonds : 4 of Diamonds : 5 of Diamonds : 6 of Diamonds : 7 of Diamonds : 8 of Diamonds : 9 of Diamonds : 10 of Diamonds : Jack of Diamonds : Queen of Diamonds : King of Diamonds : Ace of Hearts : 2 of Hearts : 3 of Hearts : 4 of Hearts : 5 of Hearts : 6 of Hearts : 7 of Hearts : 8 of Hearts : 9 of Hearts : 10 of Hearts : Jack of Hearts : Queen of Hearts : King of Hearts : Ace of Spades : 2 of Spades : 3 of Spades : 4 of Spades : 5 of Spades : 6 of Spades : 7 of Spades : 8 of Spades : 9 of Spades : 10 of Spades : Jack of Spades : Queen of Spades : King of Spades\n"
     ]
    }
   ],
   "source": [
    "# Print the deck.\n",
    "\n",
    "deck = Deck()\n",
    "print(deck)\n"
   ]
  },
  {
   "cell_type": "code",
   "execution_count": 40,
   "metadata": {},
   "outputs": [
    {
     "name": "stdout",
     "output_type": "stream",
     "text": [
      "Ace of Clubs : 2 of Clubs : 3 of Clubs : 4 of Clubs : 5 of Clubs : 6 of Clubs : 7 of Clubs : 8 of Clubs : 9 of Clubs : 10 of Clubs : Jack of Clubs : Queen of Clubs : King of Clubs : Ace of Diamonds : 2 of Diamonds : 3 of Diamonds : 4 of Diamonds : 5 of Diamonds : 6 of Diamonds : 7 of Diamonds : 8 of Diamonds : 9 of Diamonds : 10 of Diamonds : Jack of Diamonds : Queen of Diamonds : King of Diamonds : Ace of Hearts : 2 of Hearts : 3 of Hearts : 4 of Hearts : 5 of Hearts : 6 of Hearts : 7 of Hearts : 8 of Hearts : 9 of Hearts : 10 of Hearts : Jack of Hearts : Queen of Hearts : King of Hearts : Ace of Spades : 2 of Spades : 3 of Spades : 4 of Spades : 5 of Spades : 6 of Spades : 7 of Spades : 8 of Spades : 9 of Spades : 10 of Spades : Queen of Spades\n"
     ]
    }
   ],
   "source": [
    "# Add, remove , shuffle and sort a deck of cards. See the class Deck's methods.\n",
    "\n",
    "deck.pop_card() # Remove three cards from the end of the list.\n",
    "deck.pop_card()\n",
    "deck.pop_card()\n",
    "\n",
    "card1 = Card(3, 12) # Put the Queen of spades back in the deck.\n",
    "deck.add_card(card1)\n",
    "\n",
    "print(deck)\n"
   ]
  },
  {
   "cell_type": "code",
   "execution_count": 41,
   "metadata": {},
   "outputs": [
    {
     "name": "stdout",
     "output_type": "stream",
     "text": [
      "5 of Spades : 9 of Spades : 6 of Diamonds : Ace of Diamonds : Jack of Clubs : 2 of Hearts : 8 of Diamonds : 8 of Hearts : 3 of Diamonds : Ace of Clubs : 4 of Clubs : 7 of Spades : 7 of Hearts : Jack of Hearts : 7 of Clubs : 9 of Diamonds : Ace of Spades : Ace of Hearts : Queen of Spades : 10 of Diamonds : 5 of Hearts : Queen of Diamonds : 3 of Spades : 10 of Spades : 9 of Hearts : 3 of Hearts : 6 of Hearts : Jack of Diamonds : 9 of Clubs : Queen of Clubs : 2 of Spades : 2 of Diamonds : King of Clubs : King of Diamonds : 6 of Spades : 6 of Clubs : King of Hearts : 4 of Spades : 5 of Diamonds : 4 of Diamonds : 3 of Clubs : 8 of Spades : 4 of Hearts : 8 of Clubs : 2 of Clubs : 5 of Clubs : 7 of Diamonds : 10 of Hearts : 10 of Clubs : Queen of Hearts\n"
     ]
    }
   ],
   "source": [
    "# Shuffle.\n",
    "\n",
    "deck.shuffle()\n",
    "print(deck)"
   ]
  },
  {
   "cell_type": "code",
   "execution_count": 42,
   "metadata": {},
   "outputs": [
    {
     "name": "stdout",
     "output_type": "stream",
     "text": [
      "Ace of Clubs : 2 of Clubs : 3 of Clubs : 4 of Clubs : 5 of Clubs : 6 of Clubs : 7 of Clubs : 8 of Clubs : 9 of Clubs : 10 of Clubs : Jack of Clubs : Queen of Clubs : King of Clubs : Ace of Diamonds : 2 of Diamonds : 3 of Diamonds : 4 of Diamonds : 5 of Diamonds : 6 of Diamonds : 7 of Diamonds : 8 of Diamonds : 9 of Diamonds : 10 of Diamonds : Jack of Diamonds : Queen of Diamonds : King of Diamonds : Ace of Hearts : 2 of Hearts : 3 of Hearts : 4 of Hearts : 5 of Hearts : 6 of Hearts : 7 of Hearts : 8 of Hearts : 9 of Hearts : 10 of Hearts : Jack of Hearts : Queen of Hearts : King of Hearts : Ace of Spades : 2 of Spades : 3 of Spades : 4 of Spades : 5 of Spades : 6 of Spades : 7 of Spades : 8 of Spades : 9 of Spades : 10 of Spades : Queen of Spades\n"
     ]
    }
   ],
   "source": [
    "deck.sort()\n",
    "print(deck)"
   ]
  },
  {
   "cell_type": "code",
   "execution_count": 44,
   "metadata": {},
   "outputs": [],
   "source": [
    "# Inheritance.\n",
    "# Inheritance is the ability to define a new class that is a modified version of an existing class.\n",
    "# The relationship between classes — similar, but different — lends itself to inheritance.\n",
    "\n",
    "# E.g. A Hand is like a Deck in some ways.\n",
    "\n",
    "class Hand(Deck): # Hand inherits from Deck.\n",
    "    \"\"\"Represents a hand of playing cards.\"\"\"\n",
    "\n",
    "    def __init__(self, label=''): # Hand must overide Decks's version of __init__().\n",
    "        self.cards = []\n",
    "        self.label = label # Create an attribute label for the Hand."
   ]
  },
  {
   "cell_type": "code",
   "execution_count": 45,
   "metadata": {},
   "outputs": [
    {
     "name": "stdout",
     "output_type": "stream",
     "text": [
      "[]\n",
      "new hand\n"
     ]
    }
   ],
   "source": [
    "hand = Hand('new hand')\n",
    "print(hand.cards)\n",
    "print(hand.label)"
   ]
  },
  {
   "cell_type": "code",
   "execution_count": 55,
   "metadata": {},
   "outputs": [
    {
     "name": "stdout",
     "output_type": "stream",
     "text": [
      "4 of Clubs : 4 of Hearts : King of Clubs : 8 of Hearts : 7 of Diamonds\n"
     ]
    }
   ],
   "source": [
    "# Shuffle the Deck, pop 5 cards and add them to a Hand.\n",
    "deck = Deck()\n",
    "hand = Hand('new hand')\n",
    "deck.shuffle()\n",
    "for i in range(5):\n",
    "    card = deck.pop_card()\n",
    "    hand.add_card(card)\n",
    "print(hand)"
   ]
  },
  {
   "cell_type": "code",
   "execution_count": 67,
   "metadata": {},
   "outputs": [
    {
     "name": "stdout",
     "output_type": "stream",
     "text": [
      "6 of Diamonds : 3 of Hearts : Ace of Spades : Jack of Clubs\n"
     ]
    }
   ],
   "source": [
    "# A natural next step is to encapsulate this code in a method called move_cards() inside class Deck.\n",
    "# See class Deck above.\n",
    "# 'def move_cards(self, hand, num):'\n",
    "# Note that this function modifies Deck and Hand, and therefore returns 'None'.\n",
    "\n",
    "deck = Deck()\n",
    "hand = Hand('new hand')\n",
    "deck.shuffle()\n",
    "\n",
    "deck.move_cards(hand, 4) # Move 4 cards from the Deck to the Hand.\n",
    "print(hand)"
   ]
  },
  {
   "cell_type": "code",
   "execution_count": null,
   "metadata": {},
   "outputs": [],
   "source": [
    "# Data Encapsulation.\n",
    "\n",
    "# In object-oriented programming (OOP), encapsulation refers to the bundling of data with the methods\n",
    "# that operate on that data, or the restricting of direct access to some of an object's components."
   ]
  },
  {
   "cell_type": "markdown",
   "metadata": {},
   "source": [
    "# Chapter 19\n",
    "# The Goodies."
   ]
  },
  {
   "cell_type": "code",
   "execution_count": null,
   "metadata": {},
   "outputs": [],
   "source": [
    "# These are useful features that are not really necessary — you can write good code without them —\n",
    "# but with them you can sometimes write code that’s more concise, readable or efficient, and\n",
    "# sometimes all three."
   ]
  },
  {
   "cell_type": "code",
   "execution_count": 2,
   "metadata": {},
   "outputs": [
    {
     "name": "stdout",
     "output_type": "stream",
     "text": [
      "100\n",
      "100\n"
     ]
    }
   ],
   "source": [
    "# Conditional expressions.\n",
    "x = 1 \n",
    "if x > 0: \n",
    "    y = 100\n",
    "else:\n",
    "    y = -50\n",
    "print(y)\n",
    "\n",
    "# This can be written more concisely as...\n",
    "x = 1\n",
    "y = 100 if x > 0 else -50\n",
    "print(y)"
   ]
  },
  {
   "cell_type": "code",
   "execution_count": 23,
   "metadata": {},
   "outputs": [
    {
     "name": "stdout",
     "output_type": "stream",
     "text": [
      "720\n"
     ]
    }
   ],
   "source": [
    "# Recursive factorial function in conditional expression format.\n",
    "\n",
    "def factorial(n):\n",
    "    return 1 if n == 0 else n * factorial(n-1)\n",
    "\n",
    "print(factorial(6))"
   ]
  },
  {
   "cell_type": "code",
   "execution_count": 35,
   "metadata": {},
   "outputs": [
    {
     "name": "stdout",
     "output_type": "stream",
     "text": [
      "['David Brookes', 'Moses Simon', 'Sushila Kumari', 'Dilpa Rao']\n",
      "['DAVID BROOKES', 'MOSES SIMON', 'SUSHILA KUMARI', 'DILPA RAO']\n"
     ]
    }
   ],
   "source": [
    "# List comprehensions.\n",
    "\n",
    "# Covert a list of strings to upper case.\n",
    "def upper_all(t):\n",
    "    res = []\n",
    "    for s in t:\n",
    "        res.append(s.upper())\n",
    "    return res\n",
    "names = ['David Brookes','Moses Simon','Sushila Kumari', 'Dilpa Rao']\n",
    "print(names)\n",
    "print(upper_all(names))"
   ]
  },
  {
   "cell_type": "code",
   "execution_count": 36,
   "metadata": {},
   "outputs": [
    {
     "name": "stdout",
     "output_type": "stream",
     "text": [
      "['David Brookes', 'Moses Simon', 'Sushila Kumari', 'Dilpa Rao']\n",
      "['DAVID BROOKES', 'MOSES SIMON', 'SUSHILA KUMARI', 'DILPA RAO']\n"
     ]
    }
   ],
   "source": [
    "# This can write this more concisely using a list comprehension:\n",
    "\n",
    "def upper_all(t):\n",
    "    return [s.upper() for s in t]\n",
    "#The bracket operator indicates that a new list is being constructed.\n",
    "\n",
    "names = ['David Brookes','Moses Simon','Sushila Kumari', 'Dilpa Rao']\n",
    "print(names)\n",
    "print(upper_all(names))"
   ]
  },
  {
   "cell_type": "code",
   "execution_count": 41,
   "metadata": {},
   "outputs": [
    {
     "name": "stdout",
     "output_type": "stream",
     "text": [
      "['David Brookes', 'MOSES SIMON', 'Sushila KUMARI', 'DILPA RAO']\n",
      "['MOSES SIMON', 'DILPA RAO']\n"
     ]
    }
   ],
   "source": [
    "# List comprehensions can also be used for filtering. For example, this function selects only\n",
    "# the elements of t that are upper case, and returns a new list:\n",
    "\n",
    "def only_upper(t):\n",
    "    res = []\n",
    "    for s in t:\n",
    "        if s.isupper():\n",
    "            res.append(s)\n",
    "    return res\n",
    "\n",
    "names = ['David Brookes','MOSES SIMON','Sushila KUMARI', 'DILPA RAO']\n",
    "print(names)\n",
    "print(only_upper(names))\n",
    "\n",
    "# In list comprehension form.\n",
    "def only_upper(t):\n",
    "    return [s for s in t if s.isupper()]\n",
    "\n",
    "# List comprehensions can be  harder to debug (you can’t put a print statement inside the loop)\n",
    "# and therefore should only be used by experienced programmers."
   ]
  },
  {
   "cell_type": "code",
   "execution_count": 51,
   "metadata": {},
   "outputs": [
    {
     "name": "stdout",
     "output_type": "stream",
     "text": [
      "<generator object <genexpr> at 0x000001D48B241B48>\n",
      "Using next().\n",
      "0\n",
      "1\n",
      "4\n",
      "Using a for loop.\n",
      "9\n",
      "16\n",
      "Generator is exhausted.\n"
     ]
    }
   ],
   "source": [
    "# Generator expressions.\n",
    "# Generator expressions are similar to list comprehensions, but with parentheses instead of\n",
    "# square brackets.\n",
    "\n",
    "g = (x**2 for x in range(5))\n",
    "print(g)\n",
    "\n",
    "# Unlike a list comprehension, it does not compute the values all at once; it waits to be asked.\n",
    "print('Using next().')\n",
    "print(next(g))\n",
    "print(next(g))\n",
    "print(next(g))\n",
    "\n",
    "# A for loop can be used to iterate through the values:\n",
    "print('Using a for loop.')\n",
    "for val in g:\n",
    "    print(val)\n",
    "\n",
    "# The generator object keeps track of where it is in the sequence, so the for loop picks up\n",
    "# where next left off. \n",
    "\n",
    "# Once the generator is exhausted, it continues to raise StopIteration.\n",
    "try:\n",
    "    print(next(g))\n",
    "except:\n",
    "    print('Generator is exhausted.')"
   ]
  },
  {
   "cell_type": "code",
   "execution_count": 52,
   "metadata": {},
   "outputs": [
    {
     "name": "stdout",
     "output_type": "stream",
     "text": [
      "30\n"
     ]
    }
   ],
   "source": [
    "# Generator expressions are often used with functions like sum, max, and min:\n",
    "print(sum(x**2 for x in range(5)))"
   ]
  },
  {
   "cell_type": "code",
   "execution_count": 53,
   "metadata": {},
   "outputs": [
    {
     "name": "stdout",
     "output_type": "stream",
     "text": [
      "True\n",
      "False\n"
     ]
    }
   ],
   "source": [
    "# 'any()' and 'all()'.\n",
    "\n",
    "# Python provides a built-in function, any(), that takes a sequence of boolean values and returns True\n",
    "# if any of the values are True. It works on lists:\n",
    "\n",
    "print(any([False, False, True]))\n",
    "\n",
    "# Also it can be used with generator expressions:\n",
    "\n",
    "print(any(letter == 'u' for letter in 'David'))\n",
    "# Using any with a generator expression is efficient because it stops immediately if it finds a\n",
    "# True value, so it doesn’t have to evaluate the whole sequence."
   ]
  },
  {
   "cell_type": "code",
   "execution_count": 56,
   "metadata": {},
   "outputs": [
    {
     "name": "stdout",
     "output_type": "stream",
     "text": [
      "False\n",
      "True\n"
     ]
    }
   ],
   "source": [
    "# all().\n",
    "\n",
    "print(all([True, True, False]))\n",
    "print(any(letter == 'z' for letter in 'zzz'))"
   ]
  },
  {
   "cell_type": "code",
   "execution_count": 63,
   "metadata": {},
   "outputs": [
    {
     "name": "stdout",
     "output_type": "stream",
     "text": [
      "[1, 1, 2, 2, 3, 3, 3]\n",
      "{1, 2, 3}\n",
      "(1, 1, 2, 2, 3, 3, 3)\n",
      "{1, 2, 3}\n",
      "abracadabra\n",
      "{'r', 'a', 'c', 'd', 'b'}\n"
     ]
    }
   ],
   "source": [
    "# Sets.\n",
    "# Python provides another built-in type, called a set, that behaves like a collection of dictionary\n",
    "# keys with no values. Adding elements to a set is fast; so is checking membership.\n",
    "# Sets provide methods and operators to compute common set operations.\n",
    "\n",
    "my_list = [1,1,2,2,3,3,3]\n",
    "my_set1 = set(my_list)\n",
    "my_tuple = (1,1,2,2,3,3,3)\n",
    "my_set2 = set(my_tuple)\n",
    "my_string = 'abracadabra'\n",
    "my_set3 = set(my_string)\n",
    "\n",
    "\n",
    "print(my_list)\n",
    "print(my_set1)\n",
    "print(my_tuple)\n",
    "print(my_set2)\n",
    "print(my_string)\n",
    "print(my_set3)\n",
    "\n",
    "# Note that elements of a set are unique."
   ]
  },
  {
   "cell_type": "code",
   "execution_count": 70,
   "metadata": {},
   "outputs": [
    {
     "name": "stdout",
     "output_type": "stream",
     "text": [
      "set()\n",
      "{2}\n",
      "{1, 2}\n",
      "{1, 2, 3}\n",
      "{1, 2, 3, 4}\n",
      "{1, 2, 3}\n"
     ]
    }
   ],
   "source": [
    "# Sets are mutable. However, since they are unordered, indexing has no meaning.\n",
    "# To make a set without any elements, we use the set() function without any argument.\n",
    "\n",
    "my_set = set()\n",
    "print(my_set)\n",
    "my_set.add(2) # Add an element\n",
    "print(my_set)\n",
    "my_set.add(1)\n",
    "print(my_set)\n",
    "my_set.add(3)\n",
    "print(my_set)\n",
    "my_set.add(4)\n",
    "print(my_set)\n",
    "my_set.remove(4) # Removing an element. Also can use discard().\n",
    "print(my_set)\n"
   ]
  },
  {
   "cell_type": "code",
   "execution_count": 77,
   "metadata": {},
   "outputs": [
    {
     "name": "stdout",
     "output_type": "stream",
     "text": [
      "{1, 2, 3, 4, 6, 8}\n",
      "{2, 4}\n",
      "{1, 3}\n",
      "{1, 3, 6, 8}\n",
      "True\n",
      "False\n"
     ]
    }
   ],
   "source": [
    "# Python Set Operations.\n",
    "\n",
    "# Union.\n",
    "# Union of A and B is a set of all elements from both sets.\n",
    "A = {1,2,3,4}\n",
    "B = {2,4,6,8}\n",
    "union = A|B\n",
    "print(union)\n",
    "\n",
    "# Intersection.\n",
    "# Intersection of A and B is a set of elements that are common in both the sets.\n",
    "interscetion = A&B\n",
    "print(interscetion)\n",
    "\n",
    "# Difference.\n",
    "# Difference of the set B from set A, (A - B), is a set of elements that are only in A but not in B.\n",
    "difference = A-B\n",
    "print(difference)\n",
    "\n",
    "# Symmetric difference. Symmetric Difference of A and B is a set of elements \n",
    "# in A and B but not in both.\n",
    "sym_diff = A^B\n",
    "print(sym_diff)\n",
    "\n",
    "# Set Membership Test. Use the 'in'operator.\n",
    "print('a' in 'apple')\n",
    "print('z' in 'apple')\n"
   ]
  },
  {
   "cell_type": "code",
   "execution_count": 3,
   "metadata": {},
   "outputs": [
    {
     "name": "stdout",
     "output_type": "stream",
     "text": [
      "Counter({'r': 2, 'p': 1, 'a': 1, 'o': 1, 't': 1})\n",
      "1\n",
      "2\n",
      "0\n"
     ]
    }
   ],
   "source": [
    "# Counters.\n",
    "# A Counter is like a set, except that if an element appears more than once, the Counter\n",
    "# keeps track of how many times it appears.\n",
    "# 'Counter' is defined in a standard module called 'collections', so you have to import it.\n",
    "\n",
    "from collections import Counter\n",
    "count = Counter('parrot')\n",
    "print(count)\n",
    "\n",
    "#Counters behave like dictionaries in many ways; they map from each key to the number of\n",
    "# times it appears.\n",
    "\n",
    "print(count['p']) # 'p' occurs once.\n",
    "print(count['r']) # 'r' occurs twice.\n",
    "print(count['z']) # 'z' occurs zero times. (Note: No error is generated, as in a dictionary)."
   ]
  },
  {
   "cell_type": "code",
   "execution_count": 8,
   "metadata": {},
   "outputs": [
    {
     "name": "stdout",
     "output_type": "stream",
     "text": [
      "True\n",
      "True\n",
      "True\n",
      "False\n"
     ]
    }
   ],
   "source": [
    "# Example. Checking for anagrams.\n",
    "\n",
    "def is_anagram(word1, word2):\n",
    "    return Counter(word1) == Counter(word2)\n",
    "\n",
    "print(is_anagram('conversation', 'conservation'))\n",
    "print(is_anagram('section', 'notices'))\n",
    "print(is_anagram('shower', 'whores'))\n",
    "print(is_anagram('Moses', 'David'))\n",
    "\n",
    "# Counters provide methods and operators to perform set-like operations, including addition,\n",
    "# subtraction, union and intersection."
   ]
  },
  {
   "cell_type": "code",
   "execution_count": 15,
   "metadata": {},
   "outputs": [
    {
     "name": "stdout",
     "output_type": "stream",
     "text": [
      "Counter({'a': 5, 'b': 2, 'r': 2, 'c': 1, 'd': 1})\n",
      "5 \n",
      "\n",
      "a 5\n",
      "b 2\n",
      "r 2\n",
      "c 1\n",
      "d 1\n"
     ]
    }
   ],
   "source": [
    "# The method most_common() returns a list of value-frequency pairs, sorted from most common to least.\n",
    "\n",
    "my_counter = Counter('abracadabra')\n",
    "print(my_counter)\n",
    "length = len(my_counter)\n",
    "print(length, '\\n')\n",
    "\n",
    "for val, freq in my_counter.most_common(length):\n",
    "    print(val, freq)"
   ]
  },
  {
   "cell_type": "code",
   "execution_count": 16,
   "metadata": {},
   "outputs": [
    {
     "name": "stdout",
     "output_type": "stream",
     "text": [
      "[]\n",
      "defaultdict(<class 'list'>, {'new key': ['new value']})\n"
     ]
    }
   ],
   "source": [
    "#  defaultdict.\n",
    "#The collections module also provides defaultdict, which is like a dictionary except that\n",
    "# if you access a key that doesn’t exist, it can generate a new value on the fly.\n",
    "\n",
    "from collections import defaultdict\n",
    "d = defaultdict(list)\n",
    "\n",
    "#Notice that the argument is list, which is a class object, not list(), which is a new list.\n",
    "#The function you provide doesn’t get called unless you access a key that doesn’t exist.\n",
    "t = d['new key']\n",
    "\n",
    "print(t)\n",
    "\n",
    "# The new list, which we’re calling t, is also added to the dictionary. So if we modify t, the\n",
    "# change appears in d:\n",
    "t.append('new value')\n",
    "print(d)"
   ]
  },
  {
   "cell_type": "code",
   "execution_count": 31,
   "metadata": {},
   "outputs": [
    {
     "name": "stdout",
     "output_type": "stream",
     "text": [
      "<class '__main__.Point_nt'>\n",
      "Point_nt(x=1, y=2)\n",
      "1\n",
      "2\n"
     ]
    }
   ],
   "source": [
    "# Named tuples.\n",
    "# Many simple objects are basically collections of related values. For example, the Point\n",
    "# object defined in Chapter 15 contains two numbers, x and y. When you define a class like\n",
    "# this, you usually start with an init method and a str method:\n",
    "\n",
    "class Point:\n",
    "    def __init__(self, x=0, y=0):\n",
    "        self.x = x\n",
    "        self.y = y\n",
    "    def __str__(self):\n",
    "        return '(%g, %g)' % (self.x, self.y)\n",
    "    \n",
    "# This is a lot of code to convey a small amount of information. Python provides a more\n",
    "# concise way to say the same thing:\n",
    "\n",
    "from collections import namedtuple\n",
    "Point_nt = namedtuple('Point_nt', ['x', 'y'])\n",
    "# Point_nt automatically provides methods like __init__ and __str__.\n",
    "print(Point_nt)\n",
    "\n",
    "p = Point_nt(1, 2) # __init_() used.\n",
    "print(p)  # __str_() used.\n",
    "print(p.x)\n",
    "print(p.y)\n"
   ]
  },
  {
   "cell_type": "code",
   "execution_count": 25,
   "metadata": {},
   "outputs": [
    {
     "name": "stdout",
     "output_type": "stream",
     "text": [
      "(1, 2.0, '3')\n",
      "This does not work with keywords\n"
     ]
    }
   ],
   "source": [
    "# Gathering keyword args.\n",
    "# In Chapter 12, we saw how to write a function that gathers its arguments into a tuple:\n",
    "\n",
    "# Variable length argument tuples. Use '*'.\n",
    "def printall(*args): # '*' gathers arguments into a tuple.\n",
    "    print(args)\n",
    "\n",
    "printall(1, 2.0, '3')\n",
    "# You can call this function with any number of positional arguments (that is, arguments that\n",
    "# don’t have keywords):\n",
    "\n",
    "try:\n",
    "    printall(1, 2.0, third='3')\n",
    "except:\n",
    "    print('This does not work with keywords')\n"
   ]
  },
  {
   "cell_type": "code",
   "execution_count": 26,
   "metadata": {},
   "outputs": [
    {
     "name": "stdout",
     "output_type": "stream",
     "text": [
      "(1, 2.0) {'third': '3'}\n"
     ]
    }
   ],
   "source": [
    "# To gather keyword arguments, you can use the ** operator:\n",
    "def printall(*args, **kwargs):\n",
    "    print(args, kwargs)\n",
    "    \n",
    "# You can call the keyword gathering parameter anything you want, but kwargs is a common\n",
    "# choice. The result is a dictionary that maps keywords to values:\n",
    "\n",
    "printall(1, 2.0, third='3')\n"
   ]
  },
  {
   "cell_type": "code",
   "execution_count": 32,
   "metadata": {},
   "outputs": [
    {
     "name": "stdout",
     "output_type": "stream",
     "text": [
      "Point_nt(x=1, y=2)\n"
     ]
    }
   ],
   "source": [
    "# If you have a dictionary of keywords and values, you can use the scatter operator, ** to\n",
    "# call a function:\n",
    "d = dict(x=1, y=2)\n",
    "p = Point_nt(**d) # Class Point_nt used from above.\n",
    "print(p)\n",
    "\n",
    "# Without the scatter operator, the function would treat d as a single positional argument, so\n",
    "# it would assign d to x and complain because there’s nothing to assign to y.\n"
   ]
  },
  {
   "cell_type": "code",
   "execution_count": null,
   "metadata": {},
   "outputs": [],
   "source": [
    "# When you are working with functions that have a large number of parameters, it is often\n",
    "# useful to create and pass around dictionaries that specify frequently used options."
   ]
  }
 ],
 "metadata": {
  "kernelspec": {
   "display_name": "Python 3",
   "language": "python",
   "name": "python3"
  },
  "language_info": {
   "codemirror_mode": {
    "name": "ipython",
    "version": 3
   },
   "file_extension": ".py",
   "mimetype": "text/x-python",
   "name": "python",
   "nbconvert_exporter": "python",
   "pygments_lexer": "ipython3",
   "version": "3.8.5"
  }
 },
 "nbformat": 4,
 "nbformat_minor": 2
}
