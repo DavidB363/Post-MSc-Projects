{
 "cells": [
  {
   "cell_type": "markdown",
   "metadata": {},
   "source": [
    "# Data Structures Using Python.\n",
    "# March 2021.\n",
    "# David Brookes."
   ]
  },
  {
   "cell_type": "code",
   "execution_count": 1,
   "metadata": {},
   "outputs": [],
   "source": [
    "# For each programming task there are appropriate data structures that can be used."
   ]
  },
  {
   "cell_type": "markdown",
   "metadata": {},
   "source": [
    "# Python Built-In Data Structures."
   ]
  },
  {
   "cell_type": "code",
   "execution_count": 2,
   "metadata": {},
   "outputs": [],
   "source": [
    "# The built-in data structures are covered in greater depth in the ThinkPython2 notebook.\n",
    "# This is just an overview of strings, lists, tuples, sets and dictionaries.\n",
    "#"
   ]
  },
  {
   "cell_type": "markdown",
   "metadata": {},
   "source": [
    "# Sequences: Strings, Lists and Tuples."
   ]
  },
  {
   "cell_type": "markdown",
   "metadata": {},
   "source": [
    "# Indexing Sequences."
   ]
  },
  {
   "cell_type": "code",
   "execution_count": 3,
   "metadata": {},
   "outputs": [
    {
     "name": "stdout",
     "output_type": "stream",
     "text": [
      "r\n",
      "4\n",
      "fox\n"
     ]
    }
   ],
   "source": [
    "# Any item in the sequence can be accessed using an index, starting from 0.\n",
    "\n",
    "# String.\n",
    "mystring = 'tree'\n",
    "\n",
    "# List.\n",
    "mylist = [3, 1, 4, 2]\n",
    "\n",
    "# Tuple.\n",
    "mytuple = ('The','quick','brown','fox')\n",
    "\n",
    "print(mystring[1])\n",
    "print(mylist[2])\n",
    "print(mytuple[3])"
   ]
  },
  {
   "cell_type": "markdown",
   "metadata": {},
   "source": [
    "# Slicing Sequences."
   ]
  },
  {
   "cell_type": "code",
   "execution_count": 4,
   "metadata": {},
   "outputs": [
    {
     "name": "stdout",
     "output_type": "stream",
     "text": [
      "pti\n",
      "pii\n",
      "imism\n",
      "Optim\n",
      "m\n",
      "ism\n",
      "Optimi\n"
     ]
    }
   ],
   "source": [
    "# Slicing. Slice out sunstrings, sublists and subtuples using indices.\n",
    "# [start:end+1:step]\n",
    "\n",
    "mystring = 'Optimism'\n",
    "\n",
    "print(mystring[1:4])\n",
    "print(mystring[1:6:2])\n",
    "print(mystring[3:])\n",
    "print(mystring[:5])\n",
    "print(mystring[-1])\n",
    "print(mystring[-3:])\n",
    "print(mystring[:-2])"
   ]
  },
  {
   "cell_type": "markdown",
   "metadata": {},
   "source": [
    "# Adding/ Concatenating Sequences."
   ]
  },
  {
   "cell_type": "code",
   "execution_count": 5,
   "metadata": {},
   "outputs": [
    {
     "name": "stdout",
     "output_type": "stream",
     "text": [
      "talltree\n",
      "[3, 1, 4, 1, 5, 9, 2, 6]\n",
      "('The', 'quick', 'brown', 'fox', 'jumped')\n"
     ]
    }
   ],
   "source": [
    "# Multiplying a sequence using *.\n",
    "\n",
    "# String.\n",
    "mystring = 'tall'+'tree'\n",
    "\n",
    "# List.\n",
    "mylist = [3, 1, 4]+[1, 5, 9, 2, 6]\n",
    "\n",
    "# Tuple.\n",
    "\n",
    "mytuple = ('The','quick','brown','fox')+('jumped',)\n",
    "\n",
    "print(mystring)\n",
    "print(mylist)\n",
    "print(mytuple)"
   ]
  },
  {
   "cell_type": "markdown",
   "metadata": {},
   "source": [
    "# Multipying Sequences."
   ]
  },
  {
   "cell_type": "code",
   "execution_count": 6,
   "metadata": {},
   "outputs": [
    {
     "name": "stdout",
     "output_type": "stream",
     "text": [
      "treetreetree\n",
      "[3, 1, 4, 2, 3, 1, 4, 2]\n",
      "('The', 'quick', 'brown', 'fox', 'The', 'quick', 'brown', 'fox')\n"
     ]
    }
   ],
   "source": [
    "# Combining two sequences of the same type with +.\n",
    "\n",
    "# String.\n",
    "mystring = 'tree'*3\n",
    "\n",
    "# List.\n",
    "mylist = [3, 1, 4, 2]*2\n",
    "\n",
    "# Tuple.\n",
    "\n",
    "mytuple = ('The','quick','brown','fox')*2\n",
    "\n",
    "print(mystring)\n",
    "print(mylist)\n",
    "print(mytuple)"
   ]
  },
  {
   "cell_type": "markdown",
   "metadata": {},
   "source": [
    "# Checking Membership."
   ]
  },
  {
   "cell_type": "code",
   "execution_count": 7,
   "metadata": {},
   "outputs": [
    {
     "name": "stdout",
     "output_type": "stream",
     "text": [
      "True\n",
      "False\n",
      "False\n"
     ]
    }
   ],
   "source": [
    "# Test whether an item is in or not in a sequence.\n",
    "\n",
    "# String.\n",
    "mystring = 'tree'\n",
    "print('t' in mystring)\n",
    "\n",
    "# List.\n",
    "mylist = [3, 1, 4, 2]\n",
    "print(3 not in mylist)\n",
    "\n",
    "# Tuple.\n",
    "\n",
    "mytuple = ('The','quick','brown','fox')\n",
    "print('jumped' in mytuple)\n"
   ]
  },
  {
   "cell_type": "markdown",
   "metadata": {},
   "source": [
    "# Iterating a Sequence."
   ]
  },
  {
   "cell_type": "code",
   "execution_count": 8,
   "metadata": {},
   "outputs": [
    {
     "name": "stdout",
     "output_type": "stream",
     "text": [
      "4\n",
      "5\n",
      "6\n",
      "0 7\n",
      "1 8\n",
      "2 9\n"
     ]
    }
   ],
   "source": [
    "# Iterating through the items of a sequence.\n",
    "\n",
    "# Item.\n",
    "x = [4, 5, 6]\n",
    "\n",
    "for item in x:\n",
    "    print(item)\n",
    "    \n",
    "# Index and item.\n",
    "y = [7, 8, 9]\n",
    "\n",
    "for index, item in enumerate(y):\n",
    "    print(index, item)\n",
    "    "
   ]
  },
  {
   "cell_type": "markdown",
   "metadata": {},
   "source": [
    "# Counting the Items in a Sequence."
   ]
  },
  {
   "cell_type": "code",
   "execution_count": 9,
   "metadata": {},
   "outputs": [
    {
     "name": "stdout",
     "output_type": "stream",
     "text": [
      "4\n",
      "4\n",
      "4\n"
     ]
    }
   ],
   "source": [
    "# String.\n",
    "mystring = 'tree'\n",
    "print(len(mystring))\n",
    "\n",
    "# List.\n",
    "mylist = [3, 1, 4, 2]\n",
    "print(len(mystring))\n",
    "\n",
    "# Tuple.\n",
    "mytuple = ('The','quick','brown','fox')\n",
    "print(len(mytuple))"
   ]
  },
  {
   "cell_type": "markdown",
   "metadata": {},
   "source": [
    "# Finding the Minimum of a Sequence."
   ]
  },
  {
   "cell_type": "code",
   "execution_count": 10,
   "metadata": {},
   "outputs": [
    {
     "name": "stdout",
     "output_type": "stream",
     "text": [
      "e\n",
      "1\n",
      "The\n"
     ]
    }
   ],
   "source": [
    "# Works with letters and numbers.\n",
    "\n",
    "# String.\n",
    "mystring = 'tree'\n",
    "print(min(mystring))\n",
    "\n",
    "# List.\n",
    "mylist = [3, 1, 4, 2]\n",
    "print(min(mylist))\n",
    "\n",
    "# Tuple.\n",
    "mytuple = ('The','quick','brown','fox')\n",
    "print(min(mytuple))"
   ]
  },
  {
   "cell_type": "markdown",
   "metadata": {},
   "source": [
    "# Finding the Maximum of a Sequence."
   ]
  },
  {
   "cell_type": "code",
   "execution_count": 11,
   "metadata": {},
   "outputs": [
    {
     "name": "stdout",
     "output_type": "stream",
     "text": [
      "t\n",
      "4\n",
      "quick\n"
     ]
    }
   ],
   "source": [
    "# Works with letters and numbers.\n",
    "\n",
    "# String.\n",
    "mystring = 'tree'\n",
    "print(max(mystring))\n",
    "\n",
    "# List.\n",
    "mylist = [3, 1, 4, 2]\n",
    "print(max(mylist))\n",
    "\n",
    "# Tuple.\n",
    "mytuple = ('The','quick','brown','fox')\n",
    "print(max(mytuple))"
   ]
  },
  {
   "cell_type": "markdown",
   "metadata": {},
   "source": [
    "# Finding the Sum of Items in a Sequence."
   ]
  },
  {
   "cell_type": "code",
   "execution_count": 12,
   "metadata": {},
   "outputs": [
    {
     "name": "stdout",
     "output_type": "stream",
     "text": [
      "10\n",
      "7\n"
     ]
    }
   ],
   "source": [
    "# Works only with numbers.\n",
    "\n",
    "# List.\n",
    "mylist = [3, 1, 4, 2]\n",
    "print(sum(mylist))\n",
    "print(sum(mylist[-3:]))\n"
   ]
  },
  {
   "cell_type": "markdown",
   "metadata": {},
   "source": [
    "# Sorting a Sequence."
   ]
  },
  {
   "cell_type": "code",
   "execution_count": 13,
   "metadata": {},
   "outputs": [
    {
     "name": "stdout",
     "output_type": "stream",
     "text": [
      "['e', 'e', 'r', 't']\n",
      "tree\n",
      "[1, 2, 3, 4]\n",
      "[3, 1, 4, 2]\n",
      "['The', 'brown', 'fox', 'quick']\n",
      "('The', 'quick', 'brown', 'fox')\n"
     ]
    }
   ],
   "source": [
    "# sorted() function a new list of sorted items.\n",
    "# The original list is not chaged.\n",
    "\n",
    "# String.\n",
    "mystring = 'tree'\n",
    "print(sorted(mystring))\n",
    "print(mystring)\n",
    "\n",
    "# List.\n",
    "mylist = [3, 1, 4, 2]\n",
    "print(sorted(mylist))\n",
    "print(mylist)\n",
    "\n",
    "# Tuple.\n",
    "mytuple = ('The','quick','brown','fox')\n",
    "print(sorted(mytuple))\n",
    "print(mytuple)"
   ]
  },
  {
   "cell_type": "markdown",
   "metadata": {},
   "source": [
    "# Counting the Occurences of an Item in a Sequence."
   ]
  },
  {
   "cell_type": "code",
   "execution_count": 14,
   "metadata": {},
   "outputs": [
    {
     "name": "stdout",
     "output_type": "stream",
     "text": [
      "2\n",
      "0\n",
      "1\n"
     ]
    }
   ],
   "source": [
    "# String.\n",
    "mystring = 'tree'\n",
    "print(mystring.count('e'))\n",
    "\n",
    "\n",
    "# List.\n",
    "mylist = [3, 1, 4, 2]\n",
    "print(mylist.count(6))\n",
    "\n",
    "\n",
    "# Tuple.\n",
    "mytuple = ('The','quick','brown','fox')\n",
    "print(mytuple.count('fox'))\n"
   ]
  },
  {
   "cell_type": "markdown",
   "metadata": {},
   "source": [
    "# Find the Index of an Item in a Sequence."
   ]
  },
  {
   "cell_type": "code",
   "execution_count": 15,
   "metadata": {},
   "outputs": [
    {
     "name": "stdout",
     "output_type": "stream",
     "text": [
      "2\n",
      "0\n",
      "3\n"
     ]
    }
   ],
   "source": [
    "# index(item) returns the index of the first occurence of the item in the sequence.\n",
    "\n",
    "# String.\n",
    "mystring = 'tree'\n",
    "print(mystring.index('e'))\n",
    "\n",
    "\n",
    "# List.\n",
    "mylist = [3, 1, 4, 2]\n",
    "print(mylist.index(3))\n",
    "\n",
    "\n",
    "# Tuple.\n",
    "mytuple = ('The','quick','brown','fox')\n",
    "print(mytuple.index('fox'))"
   ]
  },
  {
   "cell_type": "markdown",
   "metadata": {},
   "source": [
    "# Unpacking Items of a Sequence."
   ]
  },
  {
   "cell_type": "code",
   "execution_count": 16,
   "metadata": {},
   "outputs": [
    {
     "name": "stdout",
     "output_type": "stream",
     "text": [
      "t r e e\n",
      "3 1 4 2\n",
      "The quick brown fox\n"
     ]
    }
   ],
   "source": [
    "# String.\n",
    "mystring = 'tree'\n",
    "a,b,c,d = mystring\n",
    "print(a, b, c, d)\n",
    "\n",
    "# List.\n",
    "mylist = [3, 1, 4, 2]\n",
    "a,b,c,d = mylist\n",
    "print(a, b, c, d)\n",
    "\n",
    "# Tuple.\n",
    "mytuple = ('The','quick','brown','fox')\n",
    "a,b,c,d = mytuple\n",
    "print(a, b, c, d)"
   ]
  },
  {
   "cell_type": "markdown",
   "metadata": {},
   "source": [
    "# Lists."
   ]
  },
  {
   "cell_type": "markdown",
   "metadata": {},
   "source": [
    "Lists : -\n",
    "1. General purpose.\n",
    "2. Most widely used data structure.\n",
    "3. Grow and shrink as needed.\n",
    "4. Sortable."
   ]
  },
  {
   "cell_type": "markdown",
   "metadata": {},
   "source": [
    "# Constructors - Creating a new List."
   ]
  },
  {
   "cell_type": "code",
   "execution_count": 17,
   "metadata": {},
   "outputs": [
    {
     "name": "stdout",
     "output_type": "stream",
     "text": [
      "[]\n",
      "['a', 2, 'c']\n",
      "[20, 30, 40]\n",
      "[0, 1, 2, 3, 4, 5, 6, 7]\n",
      "[0, 4, 16, 36, 64]\n"
     ]
    }
   ],
   "source": [
    "# Different ways to create a new list.\n",
    "\n",
    "x = list()\n",
    "print(x)\n",
    "\n",
    "y = ['a', 2, 'c']\n",
    "print(y)\n",
    "\n",
    "mytuple = (20, 30, 40)\n",
    "z = list(mytuple)\n",
    "print(z)\n",
    "\n",
    "# Using a list comprehension.\n",
    "\n",
    "a = [m for m in range(8)]\n",
    "print(a)\n",
    "\n",
    "b = [i**2 for i in range(10) if int(i/2) == i/2]\n",
    "print(b)\n"
   ]
  },
  {
   "cell_type": "markdown",
   "metadata": {},
   "source": [
    "# Deleting a List, or Element in a List."
   ]
  },
  {
   "cell_type": "code",
   "execution_count": 18,
   "metadata": {},
   "outputs": [
    {
     "name": "stdout",
     "output_type": "stream",
     "text": [
      "[4, 8, 9]\n"
     ]
    }
   ],
   "source": [
    "x = [4,6,8,9]\n",
    "del(x[1])\n",
    "print(x)\n",
    "del(x) # List x no longer exists.\n"
   ]
  },
  {
   "cell_type": "markdown",
   "metadata": {},
   "source": [
    "# Append an item to a List."
   ]
  },
  {
   "cell_type": "code",
   "execution_count": 19,
   "metadata": {},
   "outputs": [
    {
     "name": "stdout",
     "output_type": "stream",
     "text": [
      "[4, 6, 8, 9, 7]\n"
     ]
    }
   ],
   "source": [
    "x = [4,6,8,9]\n",
    "x.append(7)\n",
    "print(x)"
   ]
  },
  {
   "cell_type": "markdown",
   "metadata": {},
   "source": [
    "# Append a Sequence to a List."
   ]
  },
  {
   "cell_type": "code",
   "execution_count": 20,
   "metadata": {},
   "outputs": [
    {
     "name": "stdout",
     "output_type": "stream",
     "text": [
      "[4, 6, 8, 9, 30, 40, 50]\n",
      "[4, 6, 8, 9, 30, 40, 50]\n",
      "[4, 6, 8, 9, 'h', 'e', 'l', 'l', 'o']\n"
     ]
    }
   ],
   "source": [
    "x = [4,6,8,9]\n",
    "y = [30,40,50] # List.\n",
    "x.extend(y)\n",
    "print(x)\n",
    "\n",
    "x = [4,6,8,9]\n",
    "y = (30,40,50) # Tuple.\n",
    "x.extend(y)\n",
    "print(x)\n",
    "\n",
    "x = [4,6,8,9]\n",
    "y = 'hello' # String.\n",
    "x.extend(y)\n",
    "print(x)"
   ]
  },
  {
   "cell_type": "markdown",
   "metadata": {},
   "source": [
    "# Insert into a List an Item at a given Index."
   ]
  },
  {
   "cell_type": "code",
   "execution_count": 21,
   "metadata": {},
   "outputs": [
    {
     "name": "stdout",
     "output_type": "stream",
     "text": [
      "[4, 6, 8, 88, 9]\n",
      "[4, 6, (30, 40, 50), 8, 88, 9]\n",
      "[4, 6, [7, 'm'], (30, 40, 50), 8, 88, 9]\n"
     ]
    }
   ],
   "source": [
    "x = [4,6,8,9]\n",
    "y = 88 # Number.\n",
    "x.insert(3,y)\n",
    "print(x)\n",
    "\n",
    "y = (30,40,50) # Tuple.\n",
    "x.insert(2,y)\n",
    "print(x)\n",
    "\n",
    "y = [7,'m'] # List.\n",
    "x.insert(2,y)\n",
    "print(x)"
   ]
  },
  {
   "cell_type": "markdown",
   "metadata": {},
   "source": [
    "# Pop the Last Item from a List."
   ]
  },
  {
   "cell_type": "code",
   "execution_count": 22,
   "metadata": {},
   "outputs": [
    {
     "name": "stdout",
     "output_type": "stream",
     "text": [
      "[4, 6, 8]\n",
      "9\n"
     ]
    }
   ],
   "source": [
    "# pop() pops off the last item of the list and returns item.\n",
    "\n",
    "x = [4,6,8,9]\n",
    "y = x.pop()\n",
    "print(x)\n",
    "print(y)"
   ]
  },
  {
   "cell_type": "markdown",
   "metadata": {},
   "source": [
    "# Remove the Last Item from a List."
   ]
  },
  {
   "cell_type": "code",
   "execution_count": 23,
   "metadata": {},
   "outputs": [
    {
     "name": "stdout",
     "output_type": "stream",
     "text": [
      "[4, 6, 9]\n",
      "None\n"
     ]
    }
   ],
   "source": [
    "# remove() removes the first instance of an item in a list.\n",
    "x = [4,6,8,9]\n",
    "y = x.remove(8)\n",
    "print(x)\n",
    "print(y)\n"
   ]
  },
  {
   "cell_type": "markdown",
   "metadata": {},
   "source": [
    "# Reverse the Items in a List."
   ]
  },
  {
   "cell_type": "code",
   "execution_count": 24,
   "metadata": {},
   "outputs": [
    {
     "name": "stdout",
     "output_type": "stream",
     "text": [
      "[9, 8, 6, 4]\n"
     ]
    }
   ],
   "source": [
    "# reverse() reverses the order of the list.\n",
    "# It is an in-place sort, which means the original list is changed.\n",
    "x = [4,6,8,9]\n",
    "x.reverse()\n",
    "print(x)\n",
    "\n"
   ]
  },
  {
   "cell_type": "markdown",
   "metadata": {},
   "source": [
    "# Sort the Items in a List in Ascending order. In-Place."
   ]
  },
  {
   "cell_type": "code",
   "execution_count": 25,
   "metadata": {},
   "outputs": [
    {
     "name": "stdout",
     "output_type": "stream",
     "text": [
      "[8, 11, 13, 18]\n"
     ]
    }
   ],
   "source": [
    "# Note: sorted(x) creates a new list and does not change the original list x.\n",
    "# x.sort() sorts the list in-place.\n",
    "\n",
    "x = [11,18,8,13]\n",
    "x.sort()\n",
    "print(x)"
   ]
  },
  {
   "cell_type": "markdown",
   "metadata": {},
   "source": [
    "# Sort the Items in a List in Descending Order. In-Place."
   ]
  },
  {
   "cell_type": "code",
   "execution_count": 26,
   "metadata": {},
   "outputs": [
    {
     "name": "stdout",
     "output_type": "stream",
     "text": [
      "[18, 13, 11, 8]\n"
     ]
    }
   ],
   "source": [
    "x = [11,18,8,13]\n",
    "x.sort(reverse=True)\n",
    "print(x)"
   ]
  },
  {
   "cell_type": "markdown",
   "metadata": {},
   "source": [
    "# Tuples."
   ]
  },
  {
   "cell_type": "markdown",
   "metadata": {},
   "source": [
    "1. Immutable. (Can't add/change).\n",
    "2. Useful for fixed data.\n",
    "3. Faster to access than lists.\n",
    "4. A sequence type."
   ]
  },
  {
   "cell_type": "markdown",
   "metadata": {},
   "source": [
    "# Constructors - Creating new Tuples."
   ]
  },
  {
   "cell_type": "code",
   "execution_count": 27,
   "metadata": {},
   "outputs": [
    {
     "name": "stdout",
     "output_type": "stream",
     "text": [
      "()\n",
      "(1, 2, 3)\n",
      "(4, 5, 6)\n",
      "(9,)\n",
      "(5,)\n"
     ]
    }
   ],
   "source": [
    "x = ()\n",
    "y = (1, 2, 3)\n",
    "z = 4, 5, 6\n",
    "u = (9,) # Tuple of size 1.\n",
    "v = 5, # Tuple of size 1.\n",
    "print(x)\n",
    "print(y)\n",
    "print(z)\n",
    "print(u)\n",
    "print(v)"
   ]
  },
  {
   "cell_type": "markdown",
   "metadata": {},
   "source": [
    "# Tuples are Immutable, but items may be mutable!"
   ]
  },
  {
   "cell_type": "code",
   "execution_count": 28,
   "metadata": {},
   "outputs": [
    {
     "name": "stdout",
     "output_type": "stream",
     "text": [
      "([1], 3)\n",
      "([1], 3, 4, 5, 6)\n"
     ]
    }
   ],
   "source": [
    "y = ([1, 2], 3)\n",
    "# y.remove(3) Can't do this.\n",
    "\n",
    "del(y[0][1]) # Delete the 2.\n",
    "print(y)\n",
    "\n",
    "# Note that concatenating tuples works though!\n",
    "y = y + (4, 5, 6)\n",
    "print(y)"
   ]
  },
  {
   "cell_type": "markdown",
   "metadata": {},
   "source": [
    "# Sets."
   ]
  },
  {
   "cell_type": "markdown",
   "metadata": {},
   "source": [
    "1. Store non duplicate items.\n",
    "2. Very fast access compared to lists.\n",
    "3. Mathematical set operations (e.g. union, intersect etc).\n",
    "4. Sets are unordered."
   ]
  },
  {
   "cell_type": "markdown",
   "metadata": {},
   "source": [
    "# Constructors. Creating new sets."
   ]
  },
  {
   "cell_type": "code",
   "execution_count": 29,
   "metadata": {},
   "outputs": [
    {
     "name": "stdout",
     "output_type": "stream",
     "text": [
      "{3, 5}\n",
      "set()\n",
      "{2, 3, 4}\n"
     ]
    }
   ],
   "source": [
    "x = {3, 5, 3, 5}\n",
    "print(x)\n",
    "\n",
    "y = set()\n",
    "print(y)\n",
    "\n",
    "list1 = [2, 3, 4]\n",
    "z = set(list1)\n",
    "print(z)"
   ]
  },
  {
   "cell_type": "markdown",
   "metadata": {},
   "source": [
    "# Set Operations."
   ]
  },
  {
   "cell_type": "code",
   "execution_count": 30,
   "metadata": {},
   "outputs": [
    {
     "name": "stdout",
     "output_type": "stream",
     "text": [
      "{3, 5, 7, 9, 11}\n",
      "{3, 5, 7, 11}\n",
      "4\n",
      "True\n",
      "False\n",
      "3 {5, 7, 11}\n",
      "set()\n"
     ]
    }
   ],
   "source": [
    "x = {3, 5, 7, 9}\n",
    "\n",
    "x.add(11)\n",
    "print(x)\n",
    "\n",
    "x.remove(9)\n",
    "print(x)\n",
    "\n",
    "# Determine the length of a set.\n",
    "print(len(x))\n",
    "\n",
    "# Check membership in a set.\n",
    "print(5 in x)\n",
    "print(4 in x)\n",
    "\n",
    "# Pop a random element from a set (remember that sets are unordered).\n",
    "print(x.pop(), x)\n",
    "\n",
    "# Delete all items from a set.\n",
    "x.clear()\n",
    "print(x)\n",
    "\n",
    "# Delete the set x.\n",
    "del(x)"
   ]
  },
  {
   "cell_type": "markdown",
   "metadata": {},
   "source": [
    "# Mathematical Set Operations."
   ]
  },
  {
   "cell_type": "markdown",
   "metadata": {},
   "source": [
    "1. Intersection (AND): set1 & set2\n",
    "2. Union (OR): set1 | set2\n",
    "3. Symmetric difference (XOR): set1 ^ set2\n",
    "4. Difference (in set1 but not set2): set1 - set2\n",
    "5. Subset (set1 is contained in set2): set1 <= set2\n",
    "6. Superset (set1 contains set2): set1 >= set2"
   ]
  },
  {
   "cell_type": "code",
   "execution_count": 31,
   "metadata": {},
   "outputs": [
    {
     "name": "stdout",
     "output_type": "stream",
     "text": [
      "{1, 3}\n",
      "{0, 1, 2, 3, 4, 5}\n",
      "{0, 2, 4, 5}\n",
      "{2, 4}\n",
      "False\n",
      "False\n"
     ]
    }
   ],
   "source": [
    "s1 = {1, 2, 3, 4}\n",
    "s2 = {0, 1, 3, 5}\n",
    "print(s1 & s2)\n",
    "print(s1 | s2)\n",
    "print(s1 ^ s2)\n",
    "print(s1 - s2)\n",
    "print(s1 <= s2)\n",
    "print(s1 >= s2)\n"
   ]
  },
  {
   "cell_type": "markdown",
   "metadata": {},
   "source": [
    "# Dictionaries (dict)."
   ]
  },
  {
   "cell_type": "markdown",
   "metadata": {},
   "source": [
    "1. Key/Value pairs.\n",
    "2. Associative array (like Java HashMap).\n",
    "3. Dictionaries are unordered."
   ]
  },
  {
   "cell_type": "markdown",
   "metadata": {},
   "source": [
    "# Constructors of dictionaries."
   ]
  },
  {
   "cell_type": "code",
   "execution_count": 32,
   "metadata": {},
   "outputs": [
    {
     "name": "stdout",
     "output_type": "stream",
     "text": [
      "{'pork': 25.4, 'beef': 33.7, 'chicken': 22.1}\n",
      "{'pork': 25.4, 'beef': 33.7, 'chicken': 22.1}\n",
      "{'pork': 25.4, 'beef': 33.7, 'chicken': 22.1}\n"
     ]
    }
   ],
   "source": [
    "x = {'pork':25.4, 'beef': 33.7, 'chicken':22.1}\n",
    "print(x)\n",
    "\n",
    "y = dict([('pork', 25.4), ('beef', 33.7), ('chicken', 22.1)])\n",
    "print(y)\n",
    "\n",
    "z = dict(pork = 25.4, beef = 33.7, chicken = 22.1)\n",
    "print(z)"
   ]
  },
  {
   "cell_type": "markdown",
   "metadata": {},
   "source": [
    "# dict operations."
   ]
  },
  {
   "cell_type": "code",
   "execution_count": 33,
   "metadata": {},
   "outputs": [
    {
     "name": "stdout",
     "output_type": "stream",
     "text": [
      "{'pork': 25.4, 'beef': 33.7, 'chicken': 22.1, 'shrimp': 38.2}\n",
      "{'pork': 25.4, 'beef': 33.7, 'chicken': 22.1}\n",
      "3\n",
      "{}\n"
     ]
    }
   ],
   "source": [
    "x = {'pork':25.4, 'beef': 33.7, 'chicken':22.1}\n",
    "\n",
    "# Add or update an item.\n",
    "x['shrimp'] = 38.2\n",
    "print(x)\n",
    "\n",
    "#Delete an item.\n",
    "del(x['shrimp'])\n",
    "print(x)\n",
    "\n",
    "# Find the length of the dictionary.\n",
    "print(len(x))\n",
    "\n",
    "# Delete all items from dictionary x.\n",
    "x.clear()\n",
    "print(x)\n",
    "\n",
    "# Delete dictionary x.\n",
    "del(x)\n"
   ]
  },
  {
   "cell_type": "markdown",
   "metadata": {},
   "source": [
    "# Accessing keys and values in the dictionary."
   ]
  },
  {
   "cell_type": "code",
   "execution_count": 34,
   "metadata": {},
   "outputs": [
    {
     "name": "stdout",
     "output_type": "stream",
     "text": [
      "dict_keys(['pork', 'beef', 'chicken'])\n",
      "dict_values([25.4, 33.7, 22.1])\n",
      "dict_items([('pork', 25.4), ('beef', 33.7), ('chicken', 22.1)])\n",
      "True\n",
      "True\n",
      "False\n",
      "True\n"
     ]
    }
   ],
   "source": [
    "y = {'pork':25.4, 'beef': 33.7, 'chicken':22.1}\n",
    "print(y.keys())\n",
    "print(y.values())\n",
    "print(y.items())\n",
    "\n",
    "# Check membership in y_keys (only look in keys not values).\n",
    "print('beef' in y)\n",
    "print('beef' in y.keys()) # This also works the same as above.\n",
    "\n",
    "# Check membership in y_values.\n",
    "print('clams' in y.values())\n",
    "print(22.1 in y.values())\n"
   ]
  },
  {
   "cell_type": "code",
   "execution_count": 35,
   "metadata": {},
   "outputs": [
    {
     "name": "stdout",
     "output_type": "stream",
     "text": [
      "pork 25.4\n",
      "beef 33.7\n",
      "chicken 22.1\n",
      "pork 25.4\n",
      "beef 33.7\n",
      "chicken 22.1\n"
     ]
    }
   ],
   "source": [
    "# Iterating a dictionary (note that items are in a random order).\n",
    "for key in y:\n",
    "    print(key, y[key])\n",
    "    \n",
    "for key, value in y.items():\n",
    "    print(key, value)"
   ]
  },
  {
   "cell_type": "markdown",
   "metadata": {},
   "source": [
    "# Python List Comprehensions."
   ]
  },
  {
   "cell_type": "markdown",
   "metadata": {},
   "source": [
    "Basic format: new_list = [transform sequence [filter]]"
   ]
  },
  {
   "cell_type": "code",
   "execution_count": 36,
   "metadata": {},
   "outputs": [],
   "source": [
    "import random"
   ]
  },
  {
   "cell_type": "code",
   "execution_count": 37,
   "metadata": {},
   "outputs": [
    {
     "name": "stdout",
     "output_type": "stream",
     "text": [
      "under_10: [0, 1, 2, 3, 4, 5, 6, 7, 8, 9]\n"
     ]
    }
   ],
   "source": [
    "# Get values within a range.\n",
    "under_10 = [x for x in range(10)]\n",
    "print('under_10: '+ str(under_10))"
   ]
  },
  {
   "cell_type": "code",
   "execution_count": 38,
   "metadata": {},
   "outputs": [
    {
     "name": "stdout",
     "output_type": "stream",
     "text": [
      "squares: [0, 1, 4, 9, 16, 25, 36, 49, 64, 81]\n"
     ]
    }
   ],
   "source": [
    "# Get squared values.\n",
    "squares = [i**2 for i in under_10]\n",
    "print('squares: ' + str(squares))"
   ]
  },
  {
   "cell_type": "code",
   "execution_count": 39,
   "metadata": {},
   "outputs": [
    {
     "name": "stdout",
     "output_type": "stream",
     "text": [
      "odd_numbers: [1, 3, 5, 7, 9]\n"
     ]
    }
   ],
   "source": [
    "# Get odd numbers using mod (%).\n",
    "odd_numbers = [i for i in under_10 if i%2 == 1]\n",
    "print('odd_numbers: ' + str(odd_numbers))\n"
   ]
  },
  {
   "cell_type": "code",
   "execution_count": 40,
   "metadata": {},
   "outputs": [
    {
     "name": "stdout",
     "output_type": "stream",
     "text": [
      "multiple_10: [0, 10, 20, 30, 40, 50, 60, 70, 80, 90]\n"
     ]
    }
   ],
   "source": [
    "# Get multiples of 10.\n",
    "multiple_10 = [10*x for x in range(10)]\n",
    "print('multiple_10: ' + str(multiple_10))\n"
   ]
  },
  {
   "cell_type": "code",
   "execution_count": 41,
   "metadata": {},
   "outputs": [
    {
     "name": "stdout",
     "output_type": "stream",
     "text": [
      "numbers_only: ['0', '2', '7']\n",
      "numbers_only:  027\n"
     ]
    }
   ],
   "source": [
    "# Get all numbers from a string.\n",
    "my_string = 'I love t0 go 2 the store 7 times a week.'\n",
    "numbers_only = [n for n in my_string if n.isnumeric()]\n",
    "print('numbers_only: ' + str(numbers_only)) # Prints the numbers in a  list.\n",
    "print('numbers_only: ', ''.join(numbers_only)) # Prints the numbers as a string\n"
   ]
  },
  {
   "cell_type": "code",
   "execution_count": 42,
   "metadata": {},
   "outputs": [
    {
     "name": "stdout",
     "output_type": "stream",
     "text": [
      "indices:  [4, 8]\n"
     ]
    }
   ],
   "source": [
    "# Get indices of a list item.\n",
    "my_list = [3, 1, 4, 1, 5, 9, 2, 6, 5, 3, 6]\n",
    "item = 5\n",
    "indices = [ind for ind, val in enumerate(my_list) if val == item]\n",
    "print('indices: ', indices)"
   ]
  },
  {
   "cell_type": "code",
   "execution_count": 43,
   "metadata": {},
   "outputs": [
    {
     "name": "stdout",
     "output_type": "stream",
     "text": [
      "my_list_del_item:  [3, 1, 4, 1, 9, 2, 6, 3, 6]\n",
      "letters:  FCEADB\n",
      "letrs:  FEADB\n"
     ]
    }
   ],
   "source": [
    "# Delete an item from a list.\n",
    "my_list = [3, 1, 4, 1, 5, 9, 2, 6, 5, 3, 6]\n",
    "item = 5\n",
    "my_list_del_item = [n for n in my_list if n != item]\n",
    "print('my_list_del_item: ', my_list_del_item)\n",
    "\n",
    "# String example.\n",
    "letters = [x for x in 'ABCDEF']\n",
    "random.shuffle(letters)\n",
    "letrs = [a for a in letters if a != 'C']\n",
    "print('letters: ', ''.join(letters))\n",
    "print('letrs: ', ''.join(letrs))\n"
   ]
  },
  {
   "cell_type": "code",
   "execution_count": 44,
   "metadata": {},
   "outputs": [
    {
     "name": "stdout",
     "output_type": "stream",
     "text": [
      "new_list: [50, 30, 6, 8, 10, 70]\n"
     ]
    }
   ],
   "source": [
    "# if-else in a list comprehension.\n",
    "# Must come before the iteration.\n",
    "\n",
    "nums = [5, 3, 6 , 8 , 10, 7]\n",
    "new_list = [x if x%2 == 0 else 10*x for x in nums] # If x is even return x, else if x is odd return 10*x.\n",
    "print('new_list: ' + str(new_list))"
   ]
  },
  {
   "cell_type": "markdown",
   "metadata": {},
   "source": [
    "# Stacks, Queues and Heaps."
   ]
  },
  {
   "cell_type": "markdown",
   "metadata": {},
   "source": [
    "# Stack using a Python List."
   ]
  },
  {
   "cell_type": "markdown",
   "metadata": {},
   "source": [
    "1. Stack is a last in first out data structure (LIFO).\n",
    "2. Use append() to push and item on the stack.\n",
    "3. Use pop() to remove an item from the stack."
   ]
  },
  {
   "cell_type": "code",
   "execution_count": 45,
   "metadata": {},
   "outputs": [
    {
     "name": "stdout",
     "output_type": "stream",
     "text": [
      "[8, 12, 4, 13, 11]\n"
     ]
    }
   ],
   "source": [
    "my_stack = list()\n",
    "my_stack.append(8)\n",
    "my_stack.append(12)\n",
    "my_stack.append(4)\n",
    "my_stack.append(13)\n",
    "my_stack.append(11)\n",
    "print(my_stack)"
   ]
  },
  {
   "cell_type": "code",
   "execution_count": 46,
   "metadata": {},
   "outputs": [
    {
     "name": "stdout",
     "output_type": "stream",
     "text": [
      "11\n",
      "13\n",
      "[8, 12, 4]\n"
     ]
    }
   ],
   "source": [
    "print(my_stack.pop())\n",
    "print(my_stack.pop())\n",
    "print(my_stack)"
   ]
  },
  {
   "cell_type": "markdown",
   "metadata": {},
   "source": [
    "# Stack Using a List with a Wrapper Class.\n",
    "# (Additional Functionality Beyond That of a List).\n",
    "# Create a Stack Class and a Full Set of Class Methods.\n",
    "# (The Underlying Data Structure is Really a Python List).\n",
    "# For pop() and peek() Methods, Check Whether the\n",
    "# Stack is Empty to Avoid Exceptions."
   ]
  },
  {
   "cell_type": "code",
   "execution_count": 47,
   "metadata": {},
   "outputs": [],
   "source": [
    "class Stack:\n",
    "    def __init__(self):\n",
    "        self.stack = list()\n",
    "        \n",
    "    def __str__(self):\n",
    "        return(str(self.stack))\n",
    "        \n",
    "    def push(self, item):\n",
    "        self.stack.append(item)\n",
    "        \n",
    "    def pop(self):\n",
    "        if self.stack != []:\n",
    "            item = self.stack.pop()\n",
    "            return item\n",
    "        else:\n",
    "            return None\n",
    "    \n",
    "    def peek(self):\n",
    "        if self.stack != []:\n",
    "            item = self.stack[-1] # The last item.\n",
    "            return item\n",
    "        else:\n",
    "            return None"
   ]
  },
  {
   "cell_type": "markdown",
   "metadata": {},
   "source": [
    "# Test Code for Stack Wrapper Class."
   ]
  },
  {
   "cell_type": "code",
   "execution_count": 48,
   "metadata": {},
   "outputs": [
    {
     "name": "stdout",
     "output_type": "stream",
     "text": [
      "[3, 4, 6]\n",
      "Pop(): 6\n",
      "Peek():  4\n",
      "[3, 4]\n",
      "Pop(): 4\n",
      "Peek(): 3\n",
      "[3]\n",
      "Pop(): 3\n",
      "Peek(): None\n",
      "[]\n",
      "Pop(): None\n",
      "Peek(): None\n",
      "[]\n",
      "Peek():  None\n"
     ]
    }
   ],
   "source": [
    "st = Stack()\n",
    "st.push(3)\n",
    "st.push(4)\n",
    "st.push(6)\n",
    "print(st)\n",
    "print('Pop():', st.pop())\n",
    "print('Peek(): ', st.peek())\n",
    "print(st)\n",
    "print('Pop():',st.pop())\n",
    "print('Peek():', st.peek())\n",
    "print(st)\n",
    "print('Pop():',st.pop())\n",
    "print('Peek():', st.peek())\n",
    "print(st)\n",
    "print('Pop():',st.pop())\n",
    "print('Peek():', st.peek())\n",
    "print(st)\n",
    "print('Peek(): ', st.peek())"
   ]
  },
  {
   "cell_type": "markdown",
   "metadata": {},
   "source": [
    "# Queues."
   ]
  },
  {
   "cell_type": "markdown",
   "metadata": {},
   "source": [
    "# Queue Using a Python Deque.\n",
    "# Queue is a first in first out data structure (FIFO).\n",
    "# The Python Deque is a double ended queue, but can be used for the Queue.\n",
    "# Python append() method used to enqueue an item (add to the end of the Queue - the right hand end).\n",
    "# Python popleft() method used to dequeue an item (remove the front of the Queue - the left hand end).\n",
    "# (See Python documentation for deque)."
   ]
  },
  {
   "cell_type": "code",
   "execution_count": 49,
   "metadata": {},
   "outputs": [
    {
     "name": "stdout",
     "output_type": "stream",
     "text": [
      "deque([9, 5, 10, 2])\n",
      "9\n",
      "deque([5, 10, 2])\n",
      "5\n",
      "deque([10, 2])\n"
     ]
    }
   ],
   "source": [
    "from collections import deque\n",
    "\n",
    "my_queue = deque()\n",
    "my_queue.append(9)\n",
    "my_queue.append(5)\n",
    "my_queue.append(10)\n",
    "my_queue.append(2)\n",
    "print(my_queue)\n",
    "print(my_queue.popleft())\n",
    "print(my_queue)\n",
    "print(my_queue.popleft())\n",
    "print(my_queue)"
   ]
  },
  {
   "cell_type": "markdown",
   "metadata": {},
   "source": [
    "# Queue Using a List With a Wrapper Class."
   ]
  },
  {
   "cell_type": "code",
   "execution_count": 50,
   "metadata": {},
   "outputs": [],
   "source": [
    "class Queue:\n",
    "    def __init__(self):\n",
    "        self.queue = deque()\n",
    "        \n",
    "    def __str__(self):\n",
    "        return(str(self.queue))\n",
    "        \n",
    "    def enqueue(self, item):\n",
    "        self.queue.append(item)\n",
    "        \n",
    "    def dequeue(self):\n",
    "        if self.queue != deque([]):\n",
    "            item = self.queue.popleft()\n",
    "            return item\n",
    "        else:\n",
    "            return None\n",
    "    \n",
    "    def getsize(self):\n",
    "        return len(self.queue)"
   ]
  },
  {
   "cell_type": "markdown",
   "metadata": {},
   "source": [
    "# Test Code for Queue Wrapper Class.¶"
   ]
  },
  {
   "cell_type": "code",
   "execution_count": 51,
   "metadata": {},
   "outputs": [
    {
     "name": "stdout",
     "output_type": "stream",
     "text": [
      "deque([9, 5, 10, 2])\n",
      "getsize:  4\n",
      "dequeue:  9\n",
      "deque([5, 10, 2])\n",
      "getsize:  3\n",
      "dequeue:  5\n",
      "deque([10, 2])\n",
      "getsize:  2\n",
      "dequeue:  10\n",
      "getsize:  1\n",
      "dequeue:  2\n",
      "getsize:  0\n",
      "dequeue:  None\n",
      "getsize:  0\n"
     ]
    }
   ],
   "source": [
    "my_queue = Queue()\n",
    "my_queue.enqueue(9)\n",
    "my_queue.enqueue(5)\n",
    "my_queue.enqueue(10)\n",
    "my_queue.enqueue(2)\n",
    "print(my_queue)\n",
    "print('getsize: ', my_queue.getsize())\n",
    "print('dequeue: ', my_queue.dequeue())\n",
    "print(my_queue)\n",
    "print('getsize: ', my_queue.getsize())\n",
    "print('dequeue: ', my_queue.dequeue())\n",
    "print(my_queue)\n",
    "print('getsize: ', my_queue.getsize())\n",
    "print('dequeue: ', my_queue.dequeue())\n",
    "print('getsize: ', my_queue.getsize())\n",
    "print('dequeue: ', my_queue.dequeue())\n",
    "print('getsize: ', my_queue.getsize())\n",
    "print('dequeue: ', my_queue.dequeue())\n",
    "print('getsize: ', my_queue.getsize())"
   ]
  },
  {
   "cell_type": "markdown",
   "metadata": {},
   "source": [
    "# MaxHeap."
   ]
  },
  {
   "cell_type": "markdown",
   "metadata": {},
   "source": [
    "1. A complete binary tree.\n",
    "2. Each node <= its parent."
   ]
  },
  {
   "cell_type": "markdown",
   "metadata": {},
   "source": [
    "MaxHeap Operations:-\n",
    "1. Push (insert).\n",
    "2. Peek (get Max).\n",
    "3. Pop (remove Max)."
   ]
  },
  {
   "cell_type": "markdown",
   "metadata": {},
   "source": [
    "# MaxHeap Using a Python List."
   ]
  },
  {
   "cell_type": "markdown",
   "metadata": {},
   "source": [
    "A MaxHeap always bubbles the largest value to the top, so that it can be removed instantly.\n",
    "\n",
    "Public functions: push, peek and pop.\n",
    "\n",
    "Private functions: __swap, __floatUp, __bubbleDown and __str__."
   ]
  },
  {
   "cell_type": "code",
   "execution_count": 52,
   "metadata": {},
   "outputs": [],
   "source": [
    "class MaxHeap:\n",
    "    def __init__(self, items=[]):\n",
    "        #super().__init__()\n",
    "        self.heap = [0] # The 0th element of the list (not used).\n",
    "        for item in items:\n",
    "            self.heap.append(item)\n",
    "            self.__floatUp(len(self.heap)-1)\n",
    "            \n",
    "    def push(self, data):\n",
    "            self.heap.append(data)\n",
    "            self.__floatUp(len(self.heap)-1)\n",
    "            \n",
    "    def peek(self):\n",
    "        if self.heap[1]:\n",
    "            return self.heap[1]\n",
    "        else:\n",
    "            return False\n",
    "        \n",
    "    def pop(self):\n",
    "        if len(self.heap) >2:\n",
    "            self.__swap(1, len(self.heap)-1) # Swap the 'first' and last list elements.\n",
    "            maxval = self.heap.pop() # Pop off the maximum.\n",
    "            self.__bubbleDown(1) # Bubble down the element at the top of the heap.\n",
    "        elif len(self.heap) == 2:\n",
    "            maxval = self.heap.pop() # Pop off the maximum.\n",
    "        else:\n",
    "            maxval = False\n",
    "        return maxval\n",
    "    \n",
    "    def __swap(self, i, j):\n",
    "        self.heap[i], self.heap[j] =  self.heap[j], self.heap[i]\n",
    "        \n",
    "    def __floatUp(self, index):\n",
    "        parent = index//2\n",
    "        if index <=1:\n",
    "            return\n",
    "        elif self.heap[index] > self.heap[parent]:\n",
    "            self.__swap(index, parent)\n",
    "            self.__floatUp(parent) # Recursive call.\n",
    "            \n",
    "    def __bubbleDown(self, index):\n",
    "        left = index*2 # left child.\n",
    "        right = left + 1 # Right child.\n",
    "        largest = index\n",
    "        if len(self.heap) > left and self.heap[largest] < self.heap[left]:\n",
    "            largest = left\n",
    "        if len(self.heap) > right and self.heap[largest] < self.heap[right]:\n",
    "            largest = right\n",
    "        if largest != index:\n",
    "            self.__swap(index, largest)\n",
    "            self.__bubbleDown(largest)\n",
    "            \n",
    "    def __str__(self):\n",
    "        return str(self.heap)\n"
   ]
  },
  {
   "cell_type": "markdown",
   "metadata": {},
   "source": [
    "# MaxHeap Test Code."
   ]
  },
  {
   "cell_type": "code",
   "execution_count": 53,
   "metadata": {},
   "outputs": [
    {
     "name": "stdout",
     "output_type": "stream",
     "text": [
      "[0, 41, 24, 33, 16]\n",
      "[0, 41, 37, 33, 16, 24]\n",
      "41\n",
      "[0, 37, 24, 33, 16]\n",
      "37\n"
     ]
    }
   ],
   "source": [
    "m = MaxHeap([24, 33, 41, 16])\n",
    "print(m)\n",
    "\n",
    "m.push(37)\n",
    "print(m)\n",
    "print(m.pop())\n",
    "print(m)\n",
    "print(m.peek())"
   ]
  },
  {
   "cell_type": "markdown",
   "metadata": {},
   "source": [
    "# Linked List."
   ]
  },
  {
   "cell_type": "markdown",
   "metadata": {},
   "source": [
    "Attributes:\n",
    "\n",
    "    root - pointer to the beginning of the list, \n",
    "    size - number of nodes in the list.\n",
    "    \n",
    "Operations:\n",
    "\n",
    "    find(data),\n",
    "    add(data),\n",
    "    remove(data),\n",
    "    print_list*()."
   ]
  },
  {
   "cell_type": "markdown",
   "metadata": {},
   "source": [
    "# Node Class."
   ]
  },
  {
   "cell_type": "markdown",
   "metadata": {},
   "source": [
    " Node class has constructor that sets the data passed in, and optionally\\\n",
    " contains a next and previous node.\\\n",
    " The str method gives a string representation for printing.\\\n",
    " Note that prev_node is only used for doubly linked lists."
   ]
  },
  {
   "cell_type": "code",
   "execution_count": 54,
   "metadata": {},
   "outputs": [],
   "source": [
    "class Node:\n",
    "    \n",
    "    def __init__(self, d, n=None, p=None):\n",
    "        self.data = d\n",
    "        self.next_node = n\n",
    "        self.prev_node = p\n",
    "        \n",
    "    def __str__(self):\n",
    "        return('(' + str(self.data) + ')')"
   ]
  },
  {
   "cell_type": "markdown",
   "metadata": {},
   "source": [
    "# Singly Linked List Class."
   ]
  },
  {
   "cell_type": "markdown",
   "metadata": {},
   "source": [
    "The linked list has two attributes; a root node that defaults to None, and\\\n",
    "the number of nodes that defaults to 0.\n",
    "\n",
    "add() method receives a piece of data, creates a node, sets the root to the new node,\\\n",
    "and increments its size.\n",
    "\n",
    "find() method iterates through the nodes until the data is found. If it finds the data\\\n",
    "it will return it, otherwise it returns None\n",
    "\n",
    "remove() method needs pointers to this_node and next_node. If it finds the data it needs\\\n",
    "to check if it is in the root node (prev_node is None) before deciding how to bypass\\\n",
    "the deleted node.\n",
    "\n",
    "print_list() method iterates the list and prints each node."
   ]
  },
  {
   "cell_type": "code",
   "execution_count": 55,
   "metadata": {},
   "outputs": [],
   "source": [
    "class LinkedList:\n",
    "    \n",
    "    def __init__(self, r=None):\n",
    "        self.root = r\n",
    "        self.size = 0\n",
    "        \n",
    "        \n",
    "    def add(self, d):\n",
    "        new_node = Node(d, self.root)\n",
    "        self.root = new_node\n",
    "        self.size += 1\n",
    "        \n",
    "    def find(self, d):\n",
    "        this_node = self.root\n",
    "        while this_node is not None:\n",
    "            if this_node.data == d:\n",
    "                return d\n",
    "            else:\n",
    "                this = this.next_node\n",
    "        return None\n",
    "    \n",
    "    def remove(self, d):\n",
    "        this_node = self.root\n",
    "        prev_node = None # prev_node in Node class is not being used.\n",
    "        while this_node is not None:\n",
    "            if this_node.data == d:\n",
    "                if prev_node is not None: # data is not in the root.\n",
    "                    prev_node.next_node = this_node.next_node \n",
    "                else: # data is in the root node.\n",
    "                    self.root = prev_node\n",
    "                del this_node\n",
    "                self.size -= 1  \n",
    "                return True\n",
    "            else: \n",
    "                prev_node = this_node\n",
    "                this_node = this_node.next_node\n",
    "        return False\n",
    "    \n",
    "    def print_list(self):\n",
    "        this_node = self.root\n",
    "        while this_node is not None:\n",
    "            print(this_node, end='->')\n",
    "            this_node = this_node.next_node\n",
    "        print('None')\n",
    "        \n",
    "    "
   ]
  },
  {
   "cell_type": "markdown",
   "metadata": {},
   "source": [
    "# Linked List test code."
   ]
  },
  {
   "cell_type": "markdown",
   "metadata": {},
   "source": [
    "The test code adds nodes to the linked list, prints the list, prints the size,\\\n",
    "removes an item, and finds an item."
   ]
  },
  {
   "cell_type": "code",
   "execution_count": 56,
   "metadata": {},
   "outputs": [
    {
     "name": "stdout",
     "output_type": "stream",
     "text": [
      "(7)->(6)->(12)->(8)->None\n",
      "size=4\n",
      "size=3\n",
      "7\n",
      "size=3\n",
      "(7)\n"
     ]
    }
   ],
   "source": [
    "myList = LinkedList()\n",
    "myList.add(8)\n",
    "myList.add(12)\n",
    "myList.add(6)\n",
    "myList.add(7)\n",
    "myList.print_list()\n",
    "\n",
    "print(\"size=\"+str(myList.size))\n",
    "myList.remove(12)\n",
    "print(\"size=\"+str(myList.size))\n",
    "print(myList.find(7))\n",
    "print(\"size=\"+str(myList.size))\n",
    "print(myList.root)"
   ]
  },
  {
   "cell_type": "code",
   "execution_count": null,
   "metadata": {},
   "outputs": [],
   "source": []
  },
  {
   "cell_type": "code",
   "execution_count": null,
   "metadata": {},
   "outputs": [],
   "source": []
  },
  {
   "cell_type": "code",
   "execution_count": null,
   "metadata": {},
   "outputs": [],
   "source": []
  },
  {
   "cell_type": "markdown",
   "metadata": {},
   "source": [
    "# Singly Linked List (My Version)."
   ]
  },
  {
   "cell_type": "markdown",
   "metadata": {},
   "source": [
    "Note that the data in each node can be quite general."
   ]
  },
  {
   "cell_type": "code",
   "execution_count": 57,
   "metadata": {},
   "outputs": [],
   "source": [
    "\n",
    "# This Data type holds a number only.\n",
    "class NumericData:\n",
    "    def __init__(self, num = 0):\n",
    "        self.number = num\n",
    "        \n",
    "    def setdata(self, num):\n",
    "        self.number = num\n",
    "        \n",
    "    def getdata(self):\n",
    "        tup = (self.number,)\n",
    "        return(tup)\n",
    "        \n",
    "    def __str__(self):\n",
    "        return('NumericData class:\\n' + 'Data Numeric value = ' + str(self.number)+ '\\n')\n",
    "\n",
    "\n",
    "# This Data type holds a number, string and list.\n",
    "class MultiTypeData:\n",
    "    def __init__(self, num = 0, strng = '', lis = []):\n",
    "        self.number = num\n",
    "        self.string = strng\n",
    "        self.list = lis\n",
    "        \n",
    "    def setdata(self, num, strng, lis):\n",
    "        self.number = num\n",
    "        self.string = strng\n",
    "        self.list = lis\n",
    "        \n",
    "    def getdata(self):\n",
    "        tup = (self.number, self.string, self.list)\n",
    "        return(tup)\n",
    "        \n",
    "    def __str__(self):\n",
    "        return('MultiTypeData class:\\n' + 'Data Numeric value = '+ str(self.number) + \n",
    "               '\\nData String value = ' + self.string +'\\nData List value = ' + str(self.list) + '\\n')\n",
    "        \n",
    "# The node holds a general data type and a pointer to the next node.\n",
    "class Node:\n",
    "    def __init__(self, d = None):\n",
    "        self.data = d\n",
    "        self.next = None\n",
    "        \n",
    "    def __str__(self):\n",
    "        return('Node class:\\n' + self.data.__str__())\n",
    "\n",
    "# Note: A note on pointers.\n",
    "# Pointers are variables that store the memory address of other variables or objects.\n",
    "# Python does not allow for the definition of pointers explicitly, however, pointers are used implicitly.\n",
    "#\n",
    "# Note: Types such as list, dictionary, class, and objects, etc in Python behave like pointers.\n",
    "# Note: Types such as int, str, float, bool, etc do not behave like a pointer.\n",
    "class SinglyLinkedList:\n",
    "    def __init__(self, r = None):\n",
    "        self.root = r\n",
    "        \n",
    "    # Add a new node to the head of the linked list.\n",
    "    def addnode(self, n):\n",
    "        n.next = self.root # Let the new node point to the root node.\n",
    "        self.root = n # Update the root node. \n",
    "               \n",
    "    def printSLL(self):\n",
    "        this = self.root\n",
    "        while this != None:\n",
    "            print(this)\n",
    "            this = this.next\n",
    "     \n",
    "    def find(self, d):\n",
    "        this = self.root\n",
    "        while this != None:   \n",
    "            if this.data.getdata() == d.getdata():\n",
    "                return(True, d)\n",
    "            else:\n",
    "                this = this.next\n",
    "        return(False, None)\n"
   ]
  },
  {
   "cell_type": "markdown",
   "metadata": {},
   "source": [
    "# Test Code for the Singly Linked List."
   ]
  },
  {
   "cell_type": "code",
   "execution_count": 58,
   "metadata": {},
   "outputs": [
    {
     "name": "stdout",
     "output_type": "stream",
     "text": [
      "NumericData class:\n",
      "Data Numeric value = 7\n",
      "\n",
      "Node class:\n",
      "NumericData class:\n",
      "Data Numeric value = 7\n",
      "\n",
      "MultiTypeData class:\n",
      "Data Numeric value = 34.6\n",
      "Data String value = Joey\n",
      "Data List value = [3, 1, 4, 2]\n",
      "\n",
      "Node class:\n",
      "MultiTypeData class:\n",
      "Data Numeric value = 34.6\n",
      "Data String value = Joey\n",
      "Data List value = [3, 1, 4, 2]\n",
      "\n"
     ]
    }
   ],
   "source": [
    "d = NumericData(7)\n",
    "print(d)\n",
    "#d = NumericData()\n",
    "#d.setdata(7)\n",
    "#print(d.getdata())\n",
    "n = Node(d)\n",
    "print(n)\n",
    "\n",
    "d2 = MultiTypeData(34.6, 'Joey', [3, 1, 4, 2])\n",
    "print(d2)\n",
    "#d2 = MultiTypeData()\n",
    "#d2.setdata(34.6, 'Joey', [3, 1, 4, 2])\n",
    "#print(d2.getdata())\n",
    "n2 = Node(d2)\n",
    "print(n2)\n",
    "\n"
   ]
  },
  {
   "cell_type": "code",
   "execution_count": 59,
   "metadata": {},
   "outputs": [
    {
     "name": "stdout",
     "output_type": "stream",
     "text": [
      "SinglyLinkedList with NumericData:\n",
      "\n",
      "Node class:\n",
      "NumericData class:\n",
      "Data Numeric value = 13\n",
      "\n",
      "Node class:\n",
      "NumericData class:\n",
      "Data Numeric value = 11\n",
      "\n",
      "Node class:\n",
      "NumericData class:\n",
      "Data Numeric value = 9\n",
      "\n",
      "Node class:\n",
      "NumericData class:\n",
      "Data Numeric value = 7\n",
      "\n",
      "found =  True\n",
      "data:\n",
      "NumericData class:\n",
      "Data Numeric value = 7\n",
      "\n",
      "found =  False\n",
      "data:\n",
      "None\n",
      "\n",
      "SinglyLinkedList with MultiTypeData:\n",
      "\n",
      "Node class:\n",
      "MultiTypeData class:\n",
      "Data Numeric value = 0.7\n",
      "Data String value = Philby\n",
      "Data List value = [7, 1]\n",
      "\n",
      "Node class:\n",
      "MultiTypeData class:\n",
      "Data Numeric value = 1.5\n",
      "Data String value = Koko\n",
      "Data List value = [8, 8, 9, 9]\n",
      "\n",
      "Node class:\n",
      "MultiTypeData class:\n",
      "Data Numeric value = 22.6\n",
      "Data String value = Billy\n",
      "Data List value = [2, 2, 2, 8]\n",
      "\n",
      "Node class:\n",
      "MultiTypeData class:\n",
      "Data Numeric value = 34.6\n",
      "Data String value = Joey\n",
      "Data List value = [3, 1, 4, 2]\n",
      "\n",
      "found =  True\n",
      "data:\n",
      "MultiTypeData class:\n",
      "Data Numeric value = 1.5\n",
      "Data String value = Koko\n",
      "Data List value = [8, 8, 9, 9]\n",
      "\n",
      "found =  False\n",
      "data:\n",
      "None\n"
     ]
    }
   ],
   "source": [
    "print('SinglyLinkedList with NumericData:\\n')\n",
    "sll = SinglyLinkedList()\n",
    "sll.addnode(Node(NumericData(7)))\n",
    "sll.addnode(Node(NumericData(9)))\n",
    "sll.addnode(Node(NumericData(11)))\n",
    "sll.addnode(Node(NumericData(13)))\n",
    "\n",
    "sll.printSLL()\n",
    "\n",
    "found, data = sll.find(NumericData(7))\n",
    "print('found = ', found)\n",
    "print('data:')\n",
    "print(data)\n",
    "\n",
    "found, data = sll.find(NumericData(555))\n",
    "print('found = ', found)\n",
    "print('data:')\n",
    "print(data)\n",
    "\n",
    "print('')\n",
    "print('SinglyLinkedList with MultiTypeData:\\n')\n",
    "sll2 = SinglyLinkedList()\n",
    "sll2.addnode(Node(MultiTypeData(34.6, 'Joey', [3, 1, 4, 2])))\n",
    "sll2.addnode(Node(MultiTypeData(22.6, 'Billy', [2, 2, 2, 8])))\n",
    "sll2.addnode(Node(MultiTypeData(1.5, 'Koko', [8, 8, 9, 9])))\n",
    "sll2.addnode(Node(MultiTypeData(0.7, 'Philby', [7, 1])))\n",
    "\n",
    "sll2.printSLL()\n",
    "\n",
    "found, data = sll2.find(MultiTypeData(1.5, 'Koko', [8, 8, 9, 9]))\n",
    "print('found = ', found)\n",
    "print('data:')\n",
    "print(data)\n",
    "\n",
    "found, data = sll2.find(MultiTypeData(1.1, 'Atomic', [9, 8, 7, 6]))\n",
    "print('found = ', found)\n",
    "print('data:')\n",
    "print(data)"
   ]
  },
  {
   "cell_type": "markdown",
   "metadata": {},
   "source": [
    "# Circular Linked List."
   ]
  },
  {
   "cell_type": "markdown",
   "metadata": {},
   "source": [
    "Basically the last node points back to the root node.\\\n",
    "New nodes are added after the root node,\\\\\\\n",
    " (and not before as is the case of the singly linked list)."
   ]
  },
  {
   "cell_type": "code",
   "execution_count": 60,
   "metadata": {},
   "outputs": [],
   "source": [
    "class Node:\n",
    "    \n",
    "    def __init__(self, d, n=None, p=None):\n",
    "        self.data = d\n",
    "        self.next_node = n\n",
    "        self.prev_node = p\n",
    "        \n",
    "    def __str__(self):\n",
    "        return('(' + str(self.data) + ')')\n",
    "\n",
    "class CircularLinkedList:\n",
    "    \n",
    "    def __init__(self, r=None):\n",
    "        self.root = r\n",
    "        self.size = 0\n",
    "        \n",
    "    def add(self, d):\n",
    "        if self.size == 0:    \n",
    "            self.root = Node(d)\n",
    "            self.root.next_node = self.root\n",
    "        else:\n",
    "            new_node = Node(d, self.root.next_node)\n",
    "            self.root.next_node = new_node\n",
    "        self.size += 1\n",
    "        \n",
    "    def find(self, d):\n",
    "        this_node = self.root\n",
    "        while True:\n",
    "            if this_node.data == d:\n",
    "                return d\n",
    "            elif this_node.next_node == self.root:\n",
    "                return False\n",
    "            this_node = this_node.next_node\n",
    "\n",
    "    def remove(self, d):\n",
    "        this_node = self.root\n",
    "        prev_node = None # prev_node in Node class is not being used.\n",
    "        \n",
    "        while True:\n",
    "            if this_node.data == d:\n",
    "                if prev_node is not None: \n",
    "                    prev_node.next_node = this_node.next_node \n",
    "                else: \n",
    "                    while this_node.next_node != self.root:\n",
    "                        this_node = this_node.next_node\n",
    "                    this_node.next_node = self.root.next_node\n",
    "                    self.root = self.root.next_node\n",
    "                self.size -= 1  \n",
    "                return True # data removed.\n",
    "            elif this_node.next_node == self.root:\n",
    "                return False # data not found.\n",
    "            prev_node = this_node\n",
    "            this_node = this_node.next_node\n",
    "    \n",
    "    def print_list(self):\n",
    "        if self.root is None:\n",
    "            return\n",
    "        this_node = self.root\n",
    "        print(this_node, end='->')\n",
    "        while this_node.next_node != self.root:\n",
    "            this_node = this_node.next_node\n",
    "            print(this_node, end='->')\n",
    "        print()\n",
    "    "
   ]
  },
  {
   "cell_type": "markdown",
   "metadata": {},
   "source": [
    "# Circular List Test Code."
   ]
  },
  {
   "cell_type": "code",
   "execution_count": 61,
   "metadata": {},
   "outputs": [
    {
     "name": "stdout",
     "output_type": "stream",
     "text": [
      "size=7\n",
      "9\n",
      "False\n",
      "(5)->(6)->(8)->(7)->(9)->(1)->\n",
      "\n",
      "(5)->(8)->(7)->(1)->\n",
      "\n",
      "(8)->(7)->(1)->\n"
     ]
    }
   ],
   "source": [
    "cll = CircularLinkedList()\n",
    "\n",
    "for i in [5,1,9,7,8,3,6]:\n",
    "    cll.add(i)\n",
    "    \n",
    "print(\"size=\"+str(cll.size))\n",
    "cll.remove(3)\n",
    "print(cll.find(9))\n",
    "print(cll.find(12))\n",
    "\n",
    "cll.print_list()\n",
    "cll.remove(9)\n",
    "cll.remove(6)\n",
    "print('')\n",
    "cll.print_list()\n",
    "cll.remove(5)\n",
    "print('')\n",
    "cll.print_list()"
   ]
  },
  {
   "cell_type": "markdown",
   "metadata": {},
   "source": [
    "# Doubly Linked List."
   ]
  },
  {
   "cell_type": "code",
   "execution_count": 62,
   "metadata": {},
   "outputs": [],
   "source": [
    "class DoublyLinkedList:\n",
    "    \n",
    "    def __init__(self, r=None):\n",
    "        self.root = None\n",
    "        self.last = None\n",
    "        self.size = 0\n",
    "        \n",
    "    def add(self, d):\n",
    "        if self.size == 0:\n",
    "            self.root = Node(d)\n",
    "            self.last = self.root\n",
    "        else:\n",
    "            new_node = Node(d, self.root)\n",
    "            self.root.prev_node = new_node\n",
    "            self.root = new_node\n",
    "        self.size += 1\n",
    "        \n",
    "    def find(self, d):\n",
    "        this_node = self.root\n",
    "        while this_node is not None:\n",
    "            if this_node.data == d:\n",
    "                return d\n",
    "            elif this_node.next_node == None:\n",
    "                return False\n",
    "            else:\n",
    "                this_node = this_node.next_node\n",
    "\n",
    "    def remove(self, d):\n",
    "        this_node = self.root\n",
    "        while this_node is not None:\n",
    "            if this_node.data ==d:\n",
    "                if this_node.prev_node is not None:\n",
    "                    if this_node.next_node is not None:\n",
    "                        this_node.prev_node.next_node = this_node.next_node\n",
    "                        this_node.next_node.prev_node = this_node.prev_node\n",
    "                    else: # delete the last node.\n",
    "                        this_node.prev_node.next_node = None\n",
    "                        self.last = this_node.prev_node\n",
    "                else: # delete root node.\n",
    "                    self.root = this_node.next_node\n",
    "                    this_node.next_node.prev_node = self.root\n",
    "                self.size -= 1\n",
    "                return True\n",
    "            else:\n",
    "                this_node = this_node.next_node\n",
    "        return False # data not found.\n",
    "                \n",
    "    def print_list(self):\n",
    "        if self.root is None:\n",
    "            return\n",
    "        this_node = self.root\n",
    "        print(this_node, end='->')\n",
    "        while this_node.next_node is not None:\n",
    "            this_node = this_node.next_node\n",
    "            print(this_node, end='->')\n",
    "        print()                    \n",
    "                        "
   ]
  },
  {
   "cell_type": "markdown",
   "metadata": {},
   "source": [
    "# Doubly Linked List test code."
   ]
  },
  {
   "cell_type": "code",
   "execution_count": 63,
   "metadata": {},
   "outputs": [
    {
     "name": "stdout",
     "output_type": "stream",
     "text": [
      "size=7\n",
      "(4)->(8)->(5)->(2)->(9)->(6)->(7)->\n",
      "size=6\n",
      "(4)->(8)->(2)->(9)->(6)->(7)->\n"
     ]
    }
   ],
   "source": [
    "dll = DoublyLinkedList()\n",
    "for i in [7, 6, 9, 2, 5, 8, 4]:\n",
    "    dll.add(i)\n",
    "\n",
    "print(\"size=\"+str(dll.size))\n",
    "dll.print_list()\n",
    "dll.remove(5)\n",
    "print(\"size=\"+str(dll.size))\n",
    "dll.print_list()\n"
   ]
  },
  {
   "cell_type": "code",
   "execution_count": 64,
   "metadata": {},
   "outputs": [
    {
     "name": "stdout",
     "output_type": "stream",
     "text": [
      "9\n",
      "False\n",
      "(4)->(2)->(6)->(7)->\n",
      "(6)\n"
     ]
    }
   ],
   "source": [
    "print(dll.find(9))\n",
    "print(dll.find(12))\n",
    "\n",
    "dll.remove(9)\n",
    "dll.remove(8)\n",
    "\n",
    "dll.print_list()\n",
    "print(dll.last.prev_node)\n"
   ]
  },
  {
   "cell_type": "markdown",
   "metadata": {},
   "source": [
    "# Trees."
   ]
  },
  {
   "cell_type": "markdown",
   "metadata": {},
   "source": [
    "# Binary Search Trees."
   ]
  },
  {
   "cell_type": "markdown",
   "metadata": {},
   "source": [
    "__Binary search trees__ allow each node with up to 2 child nodes.\\\n",
    "Each node has a value greater than every node in its left sub-tree.\\\n",
    "Each node has a value less than every node in its right sub-tree."
   ]
  },
  {
   "cell_type": "markdown",
   "metadata": {},
   "source": [
    "Binary search tree operations:\\\n",
    "__Constructor__ sets three attributes; data, left subtree and right subtree.\\\n",
    "__Insert__ inserts a new subtree into its proper location.\\\n",
    "__Find__ finds a value. If not found retyrns False.\\\n",
    "__Delete__ returns the number of nodes in the tree (excluding None nodes).\\\n",
    "__Preorder__ prints a preorder traversal of the tree.\\\n",
    "__Postorder__ prints a postorder traversal of the tree."
   ]
  },
  {
   "cell_type": "code",
   "execution_count": 65,
   "metadata": {},
   "outputs": [],
   "source": [
    "class Tree:\n",
    "    \n",
    "    def __init__(self, data, left=None, right=None):\n",
    "        self.data = data\n",
    "        self.left = left\n",
    "        self.right = right\n",
    "        \n",
    "    def insert(self, data):\n",
    "        if self.data == data:\n",
    "            return False # duplicate data.\n",
    "        elif self.data > data:\n",
    "            if self.left is not None:\n",
    "                return self.left.insert(data)\n",
    "            else:\n",
    "                self.left = Tree(data)\n",
    "                return True\n",
    "        else:\n",
    "            if self.right is not None:\n",
    "                return self.right.insert(data)\n",
    "            else:\n",
    "                self.right = Tree(data)\n",
    "                return True   \n",
    "            \n",
    "    def find(self, data):\n",
    "        if self.data == data:\n",
    "            return data\n",
    "        elif self.data > data:\n",
    "            if self.left is not None:\n",
    "                return self.left.find(data)\n",
    "            else:\n",
    "                return False\n",
    "        else:\n",
    "            if self.right is not None:\n",
    "                return self.right.find(data)\n",
    "            else:\n",
    "                return False\n",
    "            \n",
    "    def get_size(self):\n",
    "        if self.left is not None and self.right is not None:\n",
    "            return 1 + self.left.get_size() + self.right.get_size()\n",
    "        elif self.left is not None:\n",
    "            return 1 + self.left.get_size()\n",
    "        elif self.right is not None:\n",
    "            return 1 + self.right.get_size()\n",
    "        else:\n",
    "            return 1\n",
    "        \n",
    "    def preorder(self):\n",
    "        if self is not None:\n",
    "            print(self.data, end=' ')\n",
    "            if self.left is not None:\n",
    "                self.left.preorder()\n",
    "            if self.right is not None:\n",
    "                self.right.preorder()   \n",
    "                \n",
    "    def inorder(self):\n",
    "        if self is not None:\n",
    "            if self.left is not None:\n",
    "                self.left.inorder()\n",
    "            print(self.data, end=' ')\n",
    "            if self.right is not None:\n",
    "                self.right.inorder()   \n",
    "        "
   ]
  },
  {
   "cell_type": "markdown",
   "metadata": {},
   "source": [
    "# Binary Search Tree Test Code."
   ]
  },
  {
   "cell_type": "code",
   "execution_count": 66,
   "metadata": {},
   "outputs": [
    {
     "name": "stdout",
     "output_type": "stream",
     "text": [
      "False 1 2 3 False 5 6 7 False 9 False False 12 13 False \n",
      " Size = 10\n",
      "7 3 1 2 5 6 9 13 12 15 \n",
      "1 2 3 5 6 7 9 12 13 15 \n"
     ]
    }
   ],
   "source": [
    "tree = Tree(7)\n",
    "tree.insert(9)\n",
    "for i in [3, 5, 1, 5, 6, 9, 13, 7, 15, 2, 12]:\n",
    "    tree.insert(i)\n",
    "\n",
    "for i in range(15):\n",
    "    print(tree.find(i), end=' ')   \n",
    "print('\\n Size =', tree.get_size())\n",
    "\n",
    "tree.preorder()\n",
    "print()\n",
    "tree.inorder()\n",
    "print()"
   ]
  },
  {
   "cell_type": "markdown",
   "metadata": {},
   "source": [
    "# Graphs."
   ]
  },
  {
   "cell_type": "markdown",
   "metadata": {},
   "source": [
    "# Graph Implementation Using Adjacency Lists. \n",
    "Undirected graph."
   ]
  },
  {
   "cell_type": "markdown",
   "metadata": {},
   "source": [
    "# Vertex Class\n",
    "The Verex class has a constructor that sets the name of the vertex\\\n",
    "(in this case, just one letter) and creates a new empty set to\\\n",
    "store neighbours.\\\n",
    "The add_neighbours() method adds the name of a neighbouring vertex to\\\n",
    "the neighbours set. This set automatically eliminates duplicates."
   ]
  },
  {
   "cell_type": "code",
   "execution_count": 67,
   "metadata": {},
   "outputs": [],
   "source": [
    "class Vertex:\n",
    "    def __init__(self, vertex_name):\n",
    "        self.name = vertex_name\n",
    "        self.neighbours = set()\n",
    "        \n",
    "    def add_neighbour(self, vertex_name):\n",
    "        self.neighbours.add(vertex_name)"
   ]
  },
  {
   "cell_type": "markdown",
   "metadata": {},
   "source": [
    "# Graph Class.\n",
    "The Graph class uses a dictionary to store vertices in the format, vertex_name:vertex_object.\\\n",
    "    \n",
    "Adding a new vertex to the graph, first check that the object passed in is a vertex object, then\\\n",
    "check if it already exists in the graph. If bothe checks pass, then add the vertex to the graph's\\\n",
    "vertices dictionary.\n",
    "\n",
    "When adding an edge, two vertex names are received, the vertex names are checked for validity, and\\\n",
    "the added to each other's neighbours set.\n",
    "\n",
    "To print the graph, iterate through the vertices, and print each vertex name (key) followed by\\\n",
    "it's sorted neighbours set."
   ]
  },
  {
   "cell_type": "code",
   "execution_count": 68,
   "metadata": {},
   "outputs": [],
   "source": [
    "class Graph:\n",
    "    \n",
    "    def __init__(self):\n",
    "        self.vertices = dict()\n",
    "        \n",
    "    def add_vertex(self, vertex):\n",
    "        if isinstance(vertex, Vertex) and vertex.name not in self.vertices:\n",
    "            self.vertices[vertex.name] = vertex\n",
    "            return True\n",
    "        else:\n",
    "            return False\n",
    "        \n",
    "    def add_edge(self, v1_name, v2_name):\n",
    "        if v1_name in self.vertices and v2_name in self.vertices:\n",
    "            self.vertices[v1_name].add_neighbour(v2_name)\n",
    "            self.vertices[v2_name].add_neighbour(v1_name)\n",
    "            return True\n",
    "        else:\n",
    "            return False\n",
    "        \n",
    "    def print_graph(self):\n",
    "        for key in sorted(list(self.vertices.keys())):\n",
    "            print(key, sorted(list(self.vertices[key].neighbours)))\n",
    "        "
   ]
  },
  {
   "cell_type": "markdown",
   "metadata": {},
   "source": [
    "# Test Code.\n",
    "\n",
    "A new Graph object is created. A vertex named A is created and added to the graph.\\\n",
    "A vertex named B is then added to the graph. Vertices named A to K are then added to\\\n",
    "the graph. Note that the add_vertex method checks for duplicates, so that A and B\\\n",
    "are not added twice."
   ]
  },
  {
   "cell_type": "code",
   "execution_count": 69,
   "metadata": {},
   "outputs": [],
   "source": [
    "g = Graph()\n",
    "a = Vertex('A')\n",
    "g.add_vertex(a)\n",
    "g.add_vertex(Vertex('B'))\n",
    "for i in range(ord('A'), ord('K')):\n",
    "    g.add_vertex(Vertex(chr(i)))"
   ]
  },
  {
   "cell_type": "markdown",
   "metadata": {},
   "source": [
    "An edge consists of two vertex names. Here we iterate through a list of edges and\\\n",
    "add each to the graph.\n",
    "\n",
    "The print_graph() method doesn't give very good visualisation of the graph, but it\\\n",
    "does show the neighbours of the vertex."
   ]
  },
  {
   "cell_type": "code",
   "execution_count": 70,
   "metadata": {},
   "outputs": [
    {
     "name": "stdout",
     "output_type": "stream",
     "text": [
      "A ['B', 'E']\n",
      "B ['A', 'F']\n",
      "C ['G']\n",
      "D ['E', 'H']\n",
      "E ['A', 'D', 'H']\n",
      "F ['B', 'G', 'I', 'J']\n",
      "G ['C', 'F', 'J']\n",
      "H ['D', 'E', 'I']\n",
      "I ['F', 'H']\n",
      "J ['F', 'G']\n"
     ]
    }
   ],
   "source": [
    "edges = ['AB', 'AE', 'BF', 'CG', 'DE', 'DH', 'EH', 'FG', 'FI', 'FJ', 'GJ', 'IH']\n",
    "for edge in edges:\n",
    "    g.add_edge(edge[0], edge[1])\n",
    "g.print_graph()"
   ]
  },
  {
   "cell_type": "code",
   "execution_count": null,
   "metadata": {},
   "outputs": [],
   "source": []
  }
 ],
 "metadata": {
  "kernelspec": {
   "display_name": "Python 3",
   "language": "python",
   "name": "python3"
  },
  "language_info": {
   "codemirror_mode": {
    "name": "ipython",
    "version": 3
   },
   "file_extension": ".py",
   "mimetype": "text/x-python",
   "name": "python",
   "nbconvert_exporter": "python",
   "pygments_lexer": "ipython3",
   "version": "3.8.5"
  }
 },
 "nbformat": 4,
 "nbformat_minor": 4
}
