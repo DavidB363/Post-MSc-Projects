{
 "cells": [
  {
   "cell_type": "markdown",
   "metadata": {},
   "source": [
    "# Pre-Modelling: Data Preprocessing and Feature Exploration\n",
    "# in Python."
   ]
  },
  {
   "cell_type": "code",
   "execution_count": null,
   "metadata": {},
   "outputs": [],
   "source": []
  },
  {
   "cell_type": "markdown",
   "metadata": {},
   "source": [
    " **Goal.**\n",
    " - Goal:\n",
    "     - Pre-modelling/modelling is 80%/20% of work.\n",
    "     - Show the importance of data processing, feature exploration, and \\\n",
    "       feature engineering on modelling performance.\n",
    "     - Go over a few effective pre-modelling steps.\n",
    "     - This is only a small subset of pre-modelling.\n",
    " - Format:\n",
    "     - Tutorial style.\n",
    "     - Walk through concepts and code (and point out libraries).\n",
    "     - Use an edited version of the 'adult' dataset (to predict income) with \\\n",
    "       the objective of buliding a binary classification model.\n",
    " - Python libraries:\n",
    "     - Numpy.\n",
    "     - Pandas.\n",
    "     - Scikit Learn.\n",
    "     - Matplotlib.\n",
    "     - Almost all work flow is covered by these four libraries.\n",
    "     \n",
    "Source of 'adult' dataset: (http://archive.ics.uci.edu/ml/datasets/Adult)."
   ]
  },
  {
   "cell_type": "markdown",
   "metadata": {},
   "source": [
    "# Agenda"
   ]
  },
  {
   "cell_type": "markdown",
   "metadata": {},
   "source": [
    "1. Modelling Overview.\n",
    "2. Introduce the Data.\n",
    "3. Basic Data Cleaning.\n",
    "    1. Dealing with data types.\n",
    "    2. Handling missing data.\n",
    "4. More Data Exploration\n",
    "    1. Outlier detection.\n",
    "    2. Plotting distributions.\n",
    "5. Feature Engineering\n",
    "    1. Interactions between features.\n",
    "    2. Dimensionality reduction using PCA.\n",
    "6. Feature Selection and Model Building.\n",
    "    "
   ]
  },
  {
   "cell_type": "code",
   "execution_count": 1,
   "metadata": {},
   "outputs": [],
   "source": [
    "# Part 1: Modelling Overview"
   ]
  },
  {
   "cell_type": "markdown",
   "metadata": {},
   "source": [
    "__Review of predictive modelling__\n",
    "- __definition__\n",
    "    - Statistical technique to predict unknown outcomes.\n",
    "    - Example used in this Notebook\n",
    "        - Binary classification model - determine the probability that \\\n",
    "        an observation belong to one of two groups. \n",
    "        - Examples\n",
    "            - Wheather a person votes for one of two political candidates.\n",
    "            - Whether a credit card transaction is fraud.\n",
    "            - Whether or not a person will be diagnosed with a given disease \\\n",
    "            in the next year.\n",
    "- __Data terminology__\n",
    "    - Inputs - independent variables (also called features)\n",
    "        - Predictors.\n",
    "    - Outputs - Dependent variable (also called the outcome)\n",
    "        - The target variable  for prediction.\n",
    "    - Models explain the effect that features have on the outcome.\n",
    "- __Assessing model performance__\n",
    "    - Randomly split observations into train/test sets.\n",
    "    - Build model on train set and assess performance on test set.\n",
    "    - AUC (Area Under the Curve) of ROC (Receiver Operating Characteristic) \\\n",
    "    is a common performance metric\n",
    "        - True positive versus false positive rates.\n",
    "- __Types of models for binary classification__\n",
    "    - Logistic regression\n",
    "    - Random forest\n",
    "    - Gradient boosted trees\n",
    "    - Support vectore machines\n",
    "    - and so on."
   ]
  },
  {
   "cell_type": "markdown",
   "metadata": {},
   "source": [
    "# Part 2: Introduce the Data"
   ]
  },
  {
   "cell_type": "markdown",
   "metadata": {},
   "source": [
    "Task: Given attributes about a person, predict whether their income is <=50000 or >50000."
   ]
  },
  {
   "cell_type": "code",
   "execution_count": 2,
   "metadata": {},
   "outputs": [
    {
     "name": "stdout",
     "output_type": "stream",
     "text": [
      "   age         workclass  fnlwgt  education  education_num  \\\n",
      "0   39         State-gov   77516  Bachelors             13   \n",
      "1   50  Self-emp-not-inc   83311  Bachelors             13   \n",
      "2   38           Private  215646    HS-grad              9   \n",
      "3   53           Private  234721       11th              7   \n",
      "4   28           Private  338409  Bachelors             13   \n",
      "\n",
      "       marital_status         occupation   relationship   race     sex  \\\n",
      "0       Never-married       Adm-clerical  Not-in-family  White    Male   \n",
      "1  Married-civ-spouse    Exec-managerial        Husband  White    Male   \n",
      "2            Divorced  Handlers-cleaners  Not-in-family  White    Male   \n",
      "3  Married-civ-spouse  Handlers-cleaners        Husband  Black    Male   \n",
      "4  Married-civ-spouse     Prof-specialty           Wife  Black  Female   \n",
      "\n",
      "   capital_gain  capital_loss  hours_per_week native_country income  \n",
      "0          2174             0              40  United-States  <=50K  \n",
      "1             0             0              13  United-States  <=50K  \n",
      "2             0             0              40  United-States  <=50K  \n",
      "3             0             0              40  United-States  <=50K  \n",
      "4             0             0              40           Cuba  <=50K  \n"
     ]
    }
   ],
   "source": [
    "# Import data and take a look.\n",
    "import numpy as np\n",
    "import pandas as pd\n",
    "\n",
    "user_cols = ['age', 'workclass', 'fnlwgt', 'education', 'education_num', 'marital_status', 'occupation', 'relationship', 'race', 'sex', 'capital_gain', 'capital_loss', 'hours_per_week', 'native_country', 'income' ]\n",
    "\n",
    "# Note: 'r' allows backslashes (and forward slashes) in the file path name.\n",
    "df = pd.read_csv(r'D:\\My Documents\\Python Code\\Data Preprocessing/adult.csv', na_values=['#NAME?'], names=user_cols)\n",
    "\n",
    "# First remove whitespace. (I'm not sure why there's a leading whitespace character!).\n",
    "for col in user_cols:\n",
    "    # print('df type:',df[col].dtype )\n",
    "    if df[col].dtype == 'object':\n",
    "        df[col] = df[col].str.replace(' ','')\n",
    "\n",
    "print(df.head(5))"
   ]
  },
  {
   "cell_type": "code",
   "execution_count": 3,
   "metadata": {},
   "outputs": [
    {
     "data": {
      "text/plain": [
       "income            0\n",
       "native_country    0\n",
       "hours_per_week    0\n",
       "capital_loss      0\n",
       "capital_gain      0\n",
       "dtype: int64"
      ]
     },
     "execution_count": 3,
     "metadata": {},
     "output_type": "execute_result"
    }
   ],
   "source": [
    "# How much data is missing? No data is missing!!\n",
    "\n",
    "df.isnull().sum(axis = 0).sort_values(ascending=False).head()"
   ]
  },
  {
   "cell_type": "code",
   "execution_count": 4,
   "metadata": {},
   "outputs": [
    {
     "name": "stdout",
     "output_type": "stream",
     "text": [
      "num_rows:  32561\n"
     ]
    }
   ],
   "source": [
    "# Insert 107 missing values into 'fnlwgt',\n",
    "# 57 missing values in 'education_num',\n",
    "# and 48 missing values in 'age'.\n",
    "import random\n",
    "\n",
    "random.seed(12)\n",
    "\n",
    "num_rows = df.shape[0]\n",
    "print('num_rows: ', num_rows)\n",
    "\n",
    "def gen_rand_list(limit, num_rows):\n",
    "    RandomListOfIntegers = [random.randrange(num_rows) for iter in range(limit)]\n",
    "    return RandomListOfIntegers\n",
    "\n",
    "fnlwgt_nan_indices = gen_rand_list(107, num_rows)\n",
    "ed_num_nan_indices = gen_rand_list(57, num_rows)\n",
    "age_nan_indices = gen_rand_list(48, num_rows)\n",
    "\n",
    "df.loc[fnlwgt_nan_indices, 'fnlwgt'] = np.nan\n",
    "df.loc[ed_num_nan_indices, 'education_num'] = np.nan\n",
    "df.loc[age_nan_indices, 'age'] = np.nan"
   ]
  },
  {
   "cell_type": "code",
   "execution_count": 5,
   "metadata": {},
   "outputs": [
    {
     "data": {
      "text/plain": [
       "fnlwgt            107\n",
       "education_num      57\n",
       "age                48\n",
       "income              0\n",
       "native_country      0\n",
       "dtype: int64"
      ]
     },
     "execution_count": 5,
     "metadata": {},
     "output_type": "execute_result"
    }
   ],
   "source": [
    "# How much data is missing now?\n",
    "df.isnull().sum(axis = 0).sort_values(ascending=False).head()"
   ]
  },
  {
   "cell_type": "code",
   "execution_count": 6,
   "metadata": {},
   "outputs": [
    {
     "name": "stdout",
     "output_type": "stream",
     "text": [
      "<=50K    24720\n",
      ">50K      7841\n",
      "Name: income, dtype: int64\n"
     ]
    }
   ],
   "source": [
    "\n",
    "# Take a look at the variable 'income'.\n",
    "print(df['income'].value_counts())\n"
   ]
  },
  {
   "cell_type": "code",
   "execution_count": 7,
   "metadata": {},
   "outputs": [
    {
     "name": "stdout",
     "output_type": "stream",
     "text": [
      "0    24720\n",
      "1     7841\n",
      "Name: income, dtype: int64\n",
      "\n",
      "    age         workclass    fnlwgt  education  education_num  \\\n",
      "0  39.0         State-gov   77516.0  Bachelors           13.0   \n",
      "1  50.0  Self-emp-not-inc   83311.0  Bachelors           13.0   \n",
      "2  38.0           Private  215646.0    HS-grad            9.0   \n",
      "3  53.0           Private  234721.0       11th            7.0   \n",
      "4  28.0           Private  338409.0  Bachelors           13.0   \n",
      "\n",
      "       marital_status         occupation   relationship   race     sex  \\\n",
      "0       Never-married       Adm-clerical  Not-in-family  White    Male   \n",
      "1  Married-civ-spouse    Exec-managerial        Husband  White    Male   \n",
      "2            Divorced  Handlers-cleaners  Not-in-family  White    Male   \n",
      "3  Married-civ-spouse  Handlers-cleaners        Husband  Black    Male   \n",
      "4  Married-civ-spouse     Prof-specialty           Wife  Black  Female   \n",
      "\n",
      "   capital_gain  capital_loss  hours_per_week native_country  \n",
      "0          2174             0              40  United-States  \n",
      "1             0             0              13  United-States  \n",
      "2             0             0              40  United-States  \n",
      "3             0             0              40  United-States  \n",
      "4             0             0              40           Cuba  \n"
     ]
    }
   ],
   "source": [
    "# Assign outome as 0 if income is <=50K, and 1 if income is >50K.\n",
    "\n",
    "df['income'] = [0 if x ==  '<=50K' else 1 for x in df['income']]\n",
    "\n",
    "# Assign X as a Dataframe of features and y as a Series of outcomes.\n",
    "X = df.drop('income', 1) # 1 indicates column.\n",
    "y = df['income']\n",
    "\n",
    "print(df['income'].value_counts())\n",
    "print()\n",
    "\n",
    "print(X.head(5))"
   ]
  },
  {
   "cell_type": "code",
   "execution_count": 8,
   "metadata": {},
   "outputs": [
    {
     "name": "stdout",
     "output_type": "stream",
     "text": [
      "0    0\n",
      "1    0\n",
      "2    0\n",
      "3    0\n",
      "4    0\n",
      "Name: income, dtype: int64\n"
     ]
    }
   ],
   "source": [
    "print(y.head(5))"
   ]
  },
  {
   "cell_type": "markdown",
   "metadata": {},
   "source": [
    "# Part 3: Basic Data Cleaning"
   ]
  },
  {
   "cell_type": "markdown",
   "metadata": {},
   "source": [
    "__A. Dealing with data types__\n",
    "- There are three main data types:\n",
    "    - Numeric, e.g. income, age.\n",
    "    - Categorical, e.g. gender, nationality.\n",
    "    - Ordinal, e.g. low/medium/high.\n",
    "    \n",
    "- Models can only handle numeric features.\n",
    "\n",
    "- Must convert ordinal and categorical features into numeric features.\n",
    "    - Create dummy features.\n",
    "    - Tranform a categorical feature into a set of dummy features, each representing\n",
    "    a unique category.\n",
    "    - In the set of dummy features, 1 indicates that the observation belongs to that category."
   ]
  },
  {
   "cell_type": "code",
   "execution_count": 9,
   "metadata": {},
   "outputs": [
    {
     "name": "stdout",
     "output_type": "stream",
     "text": [
      "0    Bachelors\n",
      "1    Bachelors\n",
      "2      HS-grad\n",
      "3         11th\n",
      "4    Bachelors\n",
      "Name: education, dtype: object\n"
     ]
    }
   ],
   "source": [
    "# Education is a categorical feature.\n",
    "print(X['education'].head(5))"
   ]
  },
  {
   "cell_type": "code",
   "execution_count": 10,
   "metadata": {},
   "outputs": [
    {
     "name": "stdout",
     "output_type": "stream",
     "text": [
      "   10th  11th  12th  1st-4th  5th-6th  7th-8th  9th  Assoc-acdm  Assoc-voc  \\\n",
      "0     0     0     0        0        0        0    0           0          0   \n",
      "1     0     0     0        0        0        0    0           0          0   \n",
      "2     0     0     0        0        0        0    0           0          0   \n",
      "3     0     1     0        0        0        0    0           0          0   \n",
      "4     0     0     0        0        0        0    0           0          0   \n",
      "\n",
      "   Bachelors  Doctorate  HS-grad  Masters  Preschool  Prof-school  \\\n",
      "0          1          0        0        0          0            0   \n",
      "1          1          0        0        0          0            0   \n",
      "2          0          0        1        0          0            0   \n",
      "3          0          0        0        0          0            0   \n",
      "4          1          0        0        0          0            0   \n",
      "\n",
      "   Some-college  \n",
      "0             0  \n",
      "1             0  \n",
      "2             0  \n",
      "3             0  \n",
      "4             0  \n"
     ]
    }
   ],
   "source": [
    "# Use get_dummies in pandas.\n",
    "# Another option: OneHotEncoder in sckit learn.\n",
    "# Note: if you have K categories, then K-1 dummies are required.\n",
    "# (Notice how 'Bachelors' column is missing below).\n",
    "\n",
    "print(pd.get_dummies(X['education']).head(5))"
   ]
  },
  {
   "cell_type": "code",
   "execution_count": 11,
   "metadata": {},
   "outputs": [
    {
     "name": "stdout",
     "output_type": "stream",
     "text": [
      "Feature 'workclass' has '9'' unique categories\n",
      "Feature 'education' has '16'' unique categories\n",
      "Feature 'marital_status' has '7'' unique categories\n",
      "Feature 'occupation' has '15'' unique categories\n",
      "Feature 'relationship' has '6'' unique categories\n",
      "Feature 'race' has '5'' unique categories\n",
      "Feature 'sex' has '2'' unique categories\n",
      "Feature 'native_country' has '42'' unique categories\n"
     ]
    }
   ],
   "source": [
    "# Decide which categorical variables you want to use in the model.\n",
    "# (Don't automatically convert them to dummy features).\n",
    "\n",
    "for col_name in X.columns:\n",
    "    if X[col_name].dtypes == 'object':\n",
    "        unique_cat = len(X[col_name].unique())\n",
    "        print(\"Feature '{col_name}' has '{unique_cat}'' unique categories\".format(\n",
    "                col_name=col_name, unique_cat=unique_cat))"
   ]
  },
  {
   "cell_type": "code",
   "execution_count": 12,
   "metadata": {},
   "outputs": [
    {
     "name": "stdout",
     "output_type": "stream",
     "text": [
      "United-States    29170\n",
      "Mexico             643\n",
      "?                  583\n",
      "Philippines        198\n",
      "Germany            137\n",
      "Canada             121\n",
      "Puerto-Rico        114\n",
      "El-Salvador        106\n",
      "India              100\n",
      "Cuba                95\n",
      "Name: native_country, dtype: int64\n",
      "0    United-States\n",
      "1    United-States\n",
      "2    United-States\n",
      "3    United-States\n",
      "4             Cuba\n",
      "5    United-States\n",
      "6          Jamaica\n",
      "7    United-States\n",
      "8    United-States\n",
      "9    United-States\n",
      "Name: native_country, dtype: object\n"
     ]
    }
   ],
   "source": [
    "# Although 'native_country' has a lot of unique categories, most categories\n",
    "# only have a few observations.\n",
    "\n",
    "print(X['native_country'].value_counts().sort_values(ascending=False).head(10))\n",
    "\n",
    "print(X['native_country'].head(10))"
   ]
  },
  {
   "cell_type": "code",
   "execution_count": 13,
   "metadata": {},
   "outputs": [
    {
     "name": "stdout",
     "output_type": "stream",
     "text": [
      "United-States    29170\n",
      "Other             3391\n",
      "Name: native_country, dtype: int64\n"
     ]
    }
   ],
   "source": [
    "# In this case bucket low frequency events as 'Other'.\n",
    "\n",
    "X['native_country'] = ['United-States' if x == 'United-States' else 'Other' for x in X['native_country']]\n",
    "\n",
    "print(X['native_country'].value_counts().sort_values(ascending=False))"
   ]
  },
  {
   "cell_type": "code",
   "execution_count": 14,
   "metadata": {},
   "outputs": [
    {
     "data": {
      "text/plain": [
       "age               float64\n",
       "workclass          object\n",
       "fnlwgt            float64\n",
       "education          object\n",
       "education_num     float64\n",
       "marital_status     object\n",
       "occupation         object\n",
       "relationship       object\n",
       "race               object\n",
       "sex                object\n",
       "capital_gain        int64\n",
       "capital_loss        int64\n",
       "hours_per_week      int64\n",
       "native_country     object\n",
       "dtype: object"
      ]
     },
     "execution_count": 14,
     "metadata": {},
     "output_type": "execute_result"
    }
   ],
   "source": [
    "# Print the data type of each feature.\n",
    "X.dtypes"
   ]
  },
  {
   "cell_type": "code",
   "execution_count": 15,
   "metadata": {},
   "outputs": [],
   "source": [
    "# Create a feature of lists to dummy.\n",
    "todummy_list = ['workclass', 'education', 'marital_status', 'occupation', 'relationship', 'race', 'sex', 'native_country'] "
   ]
  },
  {
   "cell_type": "code",
   "execution_count": 16,
   "metadata": {},
   "outputs": [],
   "source": [
    "# Function to dummy all the categorical variables used for modelling.\n",
    "def dummy_df(df, todummy_list):\n",
    "    for x in todummy_list:\n",
    "        dummies = pd.get_dummies(df[x], prefix=x, dummy_na=False)\n",
    "        df = df.drop(x, 1)\n",
    "        df = pd.concat([df, dummies], axis=1)\n",
    "    return df"
   ]
  },
  {
   "cell_type": "code",
   "execution_count": 17,
   "metadata": {},
   "outputs": [
    {
     "name": "stdout",
     "output_type": "stream",
     "text": [
      "    age    fnlwgt  education_num  capital_gain  capital_loss  hours_per_week  \\\n",
      "0  39.0   77516.0           13.0          2174             0              40   \n",
      "1  50.0   83311.0           13.0             0             0              13   \n",
      "2  38.0  215646.0            9.0             0             0              40   \n",
      "3  53.0  234721.0            7.0             0             0              40   \n",
      "4  28.0  338409.0           13.0             0             0              40   \n",
      "\n",
      "   workclass_?  workclass_Federal-gov  workclass_Local-gov  \\\n",
      "0            0                      0                    0   \n",
      "1            0                      0                    0   \n",
      "2            0                      0                    0   \n",
      "3            0                      0                    0   \n",
      "4            0                      0                    0   \n",
      "\n",
      "   workclass_Never-worked  ...  relationship_Wife  race_Amer-Indian-Eskimo  \\\n",
      "0                       0  ...                  0                        0   \n",
      "1                       0  ...                  0                        0   \n",
      "2                       0  ...                  0                        0   \n",
      "3                       0  ...                  0                        0   \n",
      "4                       0  ...                  1                        0   \n",
      "\n",
      "   race_Asian-Pac-Islander  race_Black  race_Other  race_White  sex_Female  \\\n",
      "0                        0           0           0           1           0   \n",
      "1                        0           0           0           1           0   \n",
      "2                        0           0           0           1           0   \n",
      "3                        0           1           0           0           0   \n",
      "4                        0           1           0           0           1   \n",
      "\n",
      "   sex_Male  native_country_Other  native_country_United-States  \n",
      "0         1                     0                             1  \n",
      "1         1                     0                             1  \n",
      "2         1                     0                             1  \n",
      "3         1                     0                             1  \n",
      "4         0                     1                             0  \n",
      "\n",
      "[5 rows x 68 columns]\n"
     ]
    }
   ],
   "source": [
    "X = dummy_df(X, todummy_list)\n",
    "print(X.head(5))"
   ]
  },
  {
   "cell_type": "code",
   "execution_count": 18,
   "metadata": {},
   "outputs": [
    {
     "name": "stdout",
     "output_type": "stream",
     "text": [
      "age\n",
      "fnlwgt\n",
      "education_num\n",
      "capital_gain\n",
      "capital_loss\n",
      "hours_per_week\n",
      "workclass_?\n",
      "workclass_Federal-gov\n",
      "workclass_Local-gov\n",
      "workclass_Never-worked\n",
      "workclass_Private\n",
      "workclass_Self-emp-inc\n",
      "workclass_Self-emp-not-inc\n",
      "workclass_State-gov\n",
      "workclass_Without-pay\n",
      "education_10th\n",
      "education_11th\n",
      "education_12th\n",
      "education_1st-4th\n",
      "education_5th-6th\n",
      "education_7th-8th\n",
      "education_9th\n",
      "education_Assoc-acdm\n",
      "education_Assoc-voc\n",
      "education_Bachelors\n",
      "education_Doctorate\n",
      "education_HS-grad\n",
      "education_Masters\n",
      "education_Preschool\n",
      "education_Prof-school\n",
      "education_Some-college\n",
      "marital_status_Divorced\n",
      "marital_status_Married-AF-spouse\n",
      "marital_status_Married-civ-spouse\n",
      "marital_status_Married-spouse-absent\n",
      "marital_status_Never-married\n",
      "marital_status_Separated\n",
      "marital_status_Widowed\n",
      "occupation_?\n",
      "occupation_Adm-clerical\n",
      "occupation_Armed-Forces\n",
      "occupation_Craft-repair\n",
      "occupation_Exec-managerial\n",
      "occupation_Farming-fishing\n",
      "occupation_Handlers-cleaners\n",
      "occupation_Machine-op-inspct\n",
      "occupation_Other-service\n",
      "occupation_Priv-house-serv\n",
      "occupation_Prof-specialty\n",
      "occupation_Protective-serv\n",
      "occupation_Sales\n",
      "occupation_Tech-support\n",
      "occupation_Transport-moving\n",
      "relationship_Husband\n",
      "relationship_Not-in-family\n",
      "relationship_Other-relative\n",
      "relationship_Own-child\n",
      "relationship_Unmarried\n",
      "relationship_Wife\n",
      "race_Amer-Indian-Eskimo\n",
      "race_Asian-Pac-Islander\n",
      "race_Black\n",
      "race_Other\n",
      "race_White\n",
      "sex_Female\n",
      "sex_Male\n",
      "native_country_Other\n",
      "native_country_United-States\n"
     ]
    }
   ],
   "source": [
    "for col in X.columns:\n",
    "    print(col)"
   ]
  },
  {
   "cell_type": "markdown",
   "metadata": {},
   "source": [
    "__B. Handling missing data__\n",
    "- Models cannot handle missing data.\n",
    "- Simplest solution\n",
    "    - Remove observations/features that have missing data.\n",
    "- But, removing missing data can have lots of issues\n",
    "    - If data is randomly missing: then potentially a lot of data is removed.\n",
    "    - Data is not randomly missing: in addition to losing data  \\\n",
    "    biases may be introduced.\n",
    "    - Ususally this is a poor solution.\n",
    "- An alternate solution is to use imputation\n",
    "    - Replace missing values with another value.\n",
    "    - Strategies: mean, median, highest frequency of a given feature.\n"
   ]
  },
  {
   "cell_type": "code",
   "execution_count": 19,
   "metadata": {},
   "outputs": [
    {
     "data": {
      "text/plain": [
       "fnlwgt                 107\n",
       "education_num           57\n",
       "age                     48\n",
       "education_Doctorate      0\n",
       "education_5th-6th        0\n",
       "dtype: int64"
      ]
     },
     "execution_count": 19,
     "metadata": {},
     "output_type": "execute_result"
    }
   ],
   "source": [
    "# How much data is missing? \n",
    "\n",
    "X.isnull().sum(axis = 0).sort_values(ascending=False).head()"
   ]
  },
  {
   "cell_type": "code",
   "execution_count": 20,
   "metadata": {},
   "outputs": [],
   "source": [
    "# Insert 107 missing values into 'fnlwgt',,\n",
    "# 57 missing values in 'education_num',\n",
    "# and 48 missing values in 'age'.\n",
    "#import random\n",
    "\n",
    "#random.seed(12)\n",
    "\n",
    "#num_rows = X.shape[0]\n",
    "#print('num_rows: ', num_rows)\n",
    "\n",
    "#def gen_rand_list(limit, num_rows):\n",
    "#    RandomListOfIntegers = [random.randrange(num_rows) for iter in range(limit)]\n",
    "#    return RandomListOfIntegers\n",
    "\n",
    "#fnlwgt_nan_indices = gen_rand_list(107, num_rows)\n",
    "#ed_num_nan_indices = gen_rand_list(57, num_rows)\n",
    "#age_nan_indices = gen_rand_list(48, num_rows)\n",
    "\n",
    "#X.loc[fnlwgt_nan_indices, 'fnlwgt'] = np.nan\n",
    "#X.loc[ed_num_nan_indices, 'education_num'] = np.nan\n",
    "#X.loc[age_nan_indices, 'age'] = np.nan"
   ]
  },
  {
   "cell_type": "code",
   "execution_count": 21,
   "metadata": {},
   "outputs": [],
   "source": [
    "# How much data is missing now?\n",
    "#X.isnull().sum(axis = 0).sort_values(ascending=False).head()"
   ]
  },
  {
   "cell_type": "code",
   "execution_count": 22,
   "metadata": {},
   "outputs": [],
   "source": [
    "# Impute missing values using SimpleImputer in sklearn.impute.\n",
    "import sklearn\n",
    "from sklearn.impute import SimpleImputer\n",
    "\n",
    "#imp = SimpleImputer(missing_values='NaN', strategy='median')\n",
    "imp = SimpleImputer(missing_values=np.nan, strategy='median')\n",
    "\n",
    "X['fnlwgt'] = imp.fit_transform(X['fnlwgt'].values.reshape(-1,1))[:,0]\n",
    "X['education_num'] = imp.fit_transform(X['education_num'].values.reshape(-1,1))[:,0]\n",
    "X['age'] = imp.fit_transform(X['age'].values.reshape(-1,1))[:,0]\n"
   ]
  },
  {
   "cell_type": "code",
   "execution_count": 23,
   "metadata": {},
   "outputs": [
    {
     "data": {
      "text/plain": [
       "native_country_United-States    0\n",
       "education_Bachelors             0\n",
       "education_1st-4th               0\n",
       "education_5th-6th               0\n",
       "education_7th-8th               0\n",
       "dtype: int64"
      ]
     },
     "execution_count": 23,
     "metadata": {},
     "output_type": "execute_result"
    }
   ],
   "source": [
    "# And how much data is missing now? None.\n",
    "X.isnull().sum(axis = 0).sort_values(ascending=False).head()"
   ]
  },
  {
   "cell_type": "markdown",
   "metadata": {},
   "source": [
    "# Part 4: More Data Exploration"
   ]
  },
  {
   "cell_type": "markdown",
   "metadata": {},
   "source": [
    "- A large part of pre-modelling and modelling workflow can be automated.\n",
    "- But understanding the problem, domain, and data is extremely important  \\\n",
    "for building high performance models.\n",
    "- This section covers some tools used for exploring data in order to make smarter decisions."
   ]
  },
  {
   "cell_type": "markdown",
   "metadata": {},
   "source": [
    "__A. Outlier detection__\n",
    "- An outlier is an observation that deviates drastically from other observations in the dataset.\n",
    "- Occurrence\n",
    "    - Natural, e.g. Mark Zuckerberg's income.\n",
    "    - Error, e.g. Human weight of 2000lb, due to mistyping an extra 0.\n",
    "- Why are they problematic?\n",
    "    - Naturally occurring:\n",
    "        - Not necessarily problematic.\n",
    "        - But can skew the model by affecting the slope (see image below).\n",
    "    - Error\n",
    "        - Indicative of data quality issues.\n",
    "        - Treat in the same way as a missing value, i.e imputation.\n",
    "- There are many approaches for detecting outliers. Two of these:\n",
    "    - Tukey IQR.\n",
    "    - Kernel density estimation."
   ]
  },
  {
   "cell_type": "code",
   "execution_count": 24,
   "metadata": {},
   "outputs": [],
   "source": [
    "# This code does not work!\n",
    "\n",
    "# from IPython.display import Image\n",
    "# Image(filename='outliers.jpg')"
   ]
  },
  {
   "cell_type": "markdown",
   "metadata": {},
   "source": [
    "__Outlier detection - Tukey IQR (Inter-quartile range)__\n",
    "- Identifies extreme values in data.\n",
    "- Outliers are defined as:\n",
    "    - Values below Q1 - 1.5(Q3-Q1) and above Q1 + 1.5(Q3-Q1).\n",
    "- Standard deviation from the mean is another method for detecting extreme values\n",
    "    - But it can be problematic:\n",
    "        - Assumes normality.\n",
    "        - Sensitive to extreme values."
   ]
  },
  {
   "cell_type": "code",
   "execution_count": 25,
   "metadata": {},
   "outputs": [],
   "source": [
    "# This code does not work!\n",
    "\n",
    "# from IPython.display import Image\n",
    "# Image(filename='tukeyipr.jpg')"
   ]
  },
  {
   "cell_type": "code",
   "execution_count": 26,
   "metadata": {},
   "outputs": [],
   "source": [
    "def find_outliers_tukey(x):\n",
    "    q1 = np.percentile(x, 25)\n",
    "    q3 = np.percentile(x, 75)\n",
    "    iqr = q3 - q1\n",
    "    floor = q1 - 1.5*iqr\n",
    "    ceiling = q3 + 1.5*iqr\n",
    "    outlier_indices = list(x.index[(x<floor) | (x>ceiling)])\n",
    "    outlier_values = list(x[outlier_indices])\n",
    "    \n",
    "    return outlier_indices, outlier_values"
   ]
  },
  {
   "cell_type": "code",
   "execution_count": 27,
   "metadata": {},
   "outputs": [
    {
     "name": "stdout",
     "output_type": "stream",
     "text": [
      "[79. 79. 79. 79. 79. 79. 79. 79. 79. 79. 79. 79. 79. 79. 79. 79. 79. 79.\n",
      " 79. 79. 79. 79. 80. 80. 80. 80. 80. 80. 80. 80. 80. 80. 80. 80. 80. 80.\n",
      " 80. 80. 80. 80. 80. 80. 80. 80. 81. 81. 81. 81. 81. 81. 81. 81. 81. 81.\n",
      " 81. 81. 81. 81. 81. 81. 81. 81. 81. 81. 82. 82. 82. 82. 82. 82. 82. 82.\n",
      " 82. 82. 82. 82. 83. 83. 83. 83. 83. 83. 84. 84. 84. 84. 84. 84. 84. 84.\n",
      " 84. 84. 85. 85. 85. 86. 87. 88. 88. 88. 90. 90. 90. 90. 90. 90. 90. 90.\n",
      " 90. 90. 90. 90. 90. 90. 90. 90. 90. 90. 90. 90. 90. 90. 90. 90. 90. 90.\n",
      " 90. 90. 90. 90. 90. 90. 90. 90. 90. 90. 90. 90. 90. 90. 90. 90. 90.]\n"
     ]
    }
   ],
   "source": [
    "tukey_indices, tukey_values = find_outliers_tukey(X['age'])\n",
    "print(np.sort(tukey_values))"
   ]
  },
  {
   "cell_type": "markdown",
   "metadata": {},
   "source": [
    "__Outlier detection - kernel density estimation__\n",
    "- Non-parametric way to estimate the probability density function of a given feature.\n",
    "- Can be advantageous compared to exterem value detection (e.g. Tukey IQR).\n",
    "    - Captures outliers in bi-model distributions."
   ]
  },
  {
   "cell_type": "code",
   "execution_count": 28,
   "metadata": {},
   "outputs": [],
   "source": [
    "from sklearn.preprocessing import scale\n",
    "from statsmodels.nonparametric.kde import KDEUnivariate\n",
    "\n",
    "def find_outliers_kde(x):\n",
    "    x_scaled = scale(list(map(float, x)))\n",
    "    kde = KDEUnivariate(x_scaled)\n",
    "    kde.fit(bw=\"scott\", fft=True)\n",
    "    pred = kde.evaluate(x_scaled)\n",
    "    \n",
    "    n = sum(pred<0.05)\n",
    "    outlier_ind = np.asarray(pred).argsort()[:n]\n",
    "    outlier_value = np.asarray(x)[outlier_ind]\n",
    "    \n",
    "    return outlier_ind, outlier_value"
   ]
  },
  {
   "cell_type": "code",
   "execution_count": 29,
   "metadata": {},
   "outputs": [
    {
     "name": "stdout",
     "output_type": "stream",
     "text": [
      "[69. 69. 69. 69. 69. 69. 69. 69. 69. 69. 69. 69. 69. 70. 70. 70. 70. 70.\n",
      " 70. 70. 70. 70. 70. 71. 71. 71. 71. 71. 71. 71. 71. 71. 71. 72. 72. 72.\n",
      " 72. 72. 72. 72. 72. 72. 72. 72. 72. 73. 73. 73. 73. 73. 73. 73. 74. 74.\n",
      " 74. 74. 74. 74. 74. 74. 74. 74. 75. 75. 75. 75. 75. 75. 75. 75. 75. 75.\n",
      " 75. 75. 76. 76. 76. 76. 76. 76. 76. 76. 76. 77. 77. 77. 77. 77. 78. 78.\n",
      " 79. 79. 79. 80. 80. 80. 81. 81. 81. 81. 82. 83. 88. 90. 90. 90. 90. 90.\n",
      " 90. 90.]\n"
     ]
    }
   ],
   "source": [
    "\n",
    "kde_indices, kde_values = find_outliers_kde(X['age'][:5000]) # Use a subset of the data for illustrative purposes.\n",
    "\n",
    "# kde_indices, kde_values = find_outliers_kde(X['age']) # This takes too long to process!\n",
    "print(np.sort(kde_values))"
   ]
  },
  {
   "cell_type": "markdown",
   "metadata": {},
   "source": [
    "__B. Distribution of Features__\n",
    "- A histogram is a simple representation of the distribution of values of a given feature.\n",
    "- X-axis represents value bins and y-axis represents the frequency of an observations falling in that bin.\n",
    "- It is interesting to look at distributions by outcome categories."
   ]
  },
  {
   "cell_type": "code",
   "execution_count": 30,
   "metadata": {},
   "outputs": [],
   "source": [
    "# Use pyplot in matplotlib to plot histograms.\n",
    "%matplotlib inline\n",
    "\n",
    "import matplotlib.pyplot as plt\n",
    "\n",
    "def plot_histogram(x):\n",
    "    plt.hist(x, color='gray', alpha=0.5)\n",
    "    plt.title(\"Histogram of '{var_name}'\".format(var_name=x.name))\n",
    "    plt.xlabel(\"Value\")\n",
    "    plt.ylabel(\"Frequency\")\n",
    "    plt.show()"
   ]
  },
  {
   "cell_type": "code",
   "execution_count": 31,
   "metadata": {},
   "outputs": [
    {
     "data": {
      "image/png": "[encoded data removed]",
      "text/plain": [
       "<Figure size 432x288 with 1 Axes>"
      ]
     },
     "metadata": {
      "needs_background": "light"
     },
     "output_type": "display_data"
    },
    {
     "name": "stdout",
     "output_type": "stream",
     "text": [
      "<class 'pandas.core.series.Series'>\n"
     ]
    }
   ],
   "source": [
    "plot_histogram(X['age'])\n",
    "print(type(X['age']))"
   ]
  },
  {
   "cell_type": "code",
   "execution_count": 32,
   "metadata": {},
   "outputs": [],
   "source": [
    "# Plot histograms to show distributions of features by \n",
    "# dependent variable (DV) categories.\n",
    "\n",
    "def plot_histogram_dv(x, y):\n",
    "    plt.hist(list(x[y==0]), color='blue', alpha=0.5, label='DV=0') # y=0 -> <=50K.\n",
    "    plt.hist(list(x[y==1]), color='red', alpha=0.5, label='DV=1') # y=1 -> >50K.\n",
    "    plt.title(\"Histogram of '{var_name}' by DV category\".format(var_name=x.name))\n",
    "    plt.xlabel(\"Value\")\n",
    "    plt.ylabel(\"Frequency\")\n",
    "    plt.legend(loc='upper right')\n",
    "    plt.show()"
   ]
  },
  {
   "cell_type": "code",
   "execution_count": 33,
   "metadata": {},
   "outputs": [
    {
     "data": {
      "image/png": "[encoded data removed]",
      "text/plain": [
       "<Figure size 432x288 with 1 Axes>"
      ]
     },
     "metadata": {
      "needs_background": "light"
     },
     "output_type": "display_data"
    }
   ],
   "source": [
    "plot_histogram_dv(X['age'], y)\n"
   ]
  },
  {
   "cell_type": "markdown",
   "metadata": {},
   "source": [
    "# Part 5: Feature Engineering"
   ]
  },
  {
   "cell_type": "markdown",
   "metadata": {},
   "source": [
    "__A. Interactions amongst features__\n",
    "- A simple two-way interaction is represented by:-\n",
    "    - X3 = X1*X2 where X3 is the interaction between X1 and X2.\n",
    "- Can add interaction terms as additional new feature to you model; useful for the  \\\n",
    "model if the impact of two or more features on the outcome is non-additive.\n",
    "\n",
    "- Example\n",
    "    - Interaction: education and political ideology; outcome: concerns about climate change.\n",
    "    - While an increase in education amongst liberals or moderates increases concerns about  \\\n",
    "    climate change, an increase in education amongst conservatives has the opposite effect. \n",
    "    - The education/political ideology interaction captures more than two features alone.\n",
    "    \n",
    "- Note that the interaction amongst dummy variables belonging to the same categorical features \\\n",
    "are always zero.\n",
    "\n",
    "- Although it is easy to calculate two-way interactions amongst all features, it is very  \\\n",
    "computationally expensive. ('f choose 2' combinations,  which is approximately 0.5*f^2).\n",
    "    - 10 features = 45 two-way interaction terms.\n",
    "    - 50 features = 1225 two-way interaction terms.\n",
    "    - 100 features = 4950 two-way interaction terms.\n",
    "    - 500 features = 124750 two-way interaction terms.\n",
    "    - It is recommended to understand your data and domain if possible, and selectively  \\\n",
    "    choosing interaction terms."
   ]
  },
  {
   "cell_type": "code",
   "execution_count": 34,
   "metadata": {},
   "outputs": [],
   "source": [
    "# This code doesn't work.\n",
    "#from IPython.display import Image\n",
    "#Image(filename='interactions.jpg')"
   ]
  },
  {
   "cell_type": "code",
   "execution_count": 35,
   "metadata": {},
   "outputs": [],
   "source": [
    "# Use PolynomialFeatures in sklearn.preprocessing to create two-way interactions\n",
    "# for all features.\n",
    "from itertools import combinations\n",
    "from sklearn.preprocessing import PolynomialFeatures\n",
    "\n",
    "def add_interactions(df):\n",
    "    # Get feature names.\n",
    "    combos = list(combinations(list(df.columns), 2))\n",
    "    colnames = list(df.columns) + ['_'.join(x) for x in combos]\n",
    "    \n",
    "    # Find interactions.\n",
    "    poly = PolynomialFeatures(interaction_only=True, include_bias=False)\n",
    "    df = poly.fit_transform(df)\n",
    "    df = pd.DataFrame(df)\n",
    "    df.columns = colnames\n",
    "    \n",
    "    # Remove interactions with all zero values.\n",
    "    noint_indices = [i for i, x in enumerate(list((df==0).all())) if x]\n",
    "    df = df.drop(df.columns[noint_indices], axis=1)\n",
    "    \n",
    "    return df\n"
   ]
  },
  {
   "cell_type": "code",
   "execution_count": 36,
   "metadata": {},
   "outputs": [
    {
     "name": "stdout",
     "output_type": "stream",
     "text": [
      "    age    fnlwgt  education_num  capital_gain  capital_loss  hours_per_week  \\\n",
      "0  39.0   77516.0           13.0        2174.0           0.0            40.0   \n",
      "1  50.0   83311.0           13.0           0.0           0.0            13.0   \n",
      "2  38.0  215646.0            9.0           0.0           0.0            40.0   \n",
      "3  53.0  234721.0            7.0           0.0           0.0            40.0   \n",
      "4  28.0  338409.0           13.0           0.0           0.0            40.0   \n",
      "\n",
      "   workclass_?  workclass_Federal-gov  workclass_Local-gov  \\\n",
      "0          0.0                    0.0                  0.0   \n",
      "1          0.0                    0.0                  0.0   \n",
      "2          0.0                    0.0                  0.0   \n",
      "3          0.0                    0.0                  0.0   \n",
      "4          0.0                    0.0                  0.0   \n",
      "\n",
      "   workclass_Never-worked  ...  race_Other_native_country_Other  \\\n",
      "0                     0.0  ...                              0.0   \n",
      "1                     0.0  ...                              0.0   \n",
      "2                     0.0  ...                              0.0   \n",
      "3                     0.0  ...                              0.0   \n",
      "4                     0.0  ...                              0.0   \n",
      "\n",
      "   race_Other_native_country_United-States  race_White_sex_Female  \\\n",
      "0                                      0.0                    0.0   \n",
      "1                                      0.0                    0.0   \n",
      "2                                      0.0                    0.0   \n",
      "3                                      0.0                    0.0   \n",
      "4                                      0.0                    0.0   \n",
      "\n",
      "   race_White_sex_Male  race_White_native_country_Other  \\\n",
      "0                  1.0                              0.0   \n",
      "1                  1.0                              0.0   \n",
      "2                  1.0                              0.0   \n",
      "3                  0.0                              0.0   \n",
      "4                  0.0                              0.0   \n",
      "\n",
      "   race_White_native_country_United-States  sex_Female_native_country_Other  \\\n",
      "0                                      1.0                              0.0   \n",
      "1                                      1.0                              0.0   \n",
      "2                                      1.0                              0.0   \n",
      "3                                      0.0                              0.0   \n",
      "4                                      0.0                              1.0   \n",
      "\n",
      "   sex_Female_native_country_United-States  sex_Male_native_country_Other  \\\n",
      "0                                      0.0                            0.0   \n",
      "1                                      0.0                            0.0   \n",
      "2                                      0.0                            0.0   \n",
      "3                                      0.0                            0.0   \n",
      "4                                      0.0                            0.0   \n",
      "\n",
      "   sex_Male_native_country_United-States  \n",
      "0                                    1.0  \n",
      "1                                    1.0  \n",
      "2                                    1.0  \n",
      "3                                    1.0  \n",
      "4                                    0.0  \n",
      "\n",
      "[5 rows x 1863 columns]\n"
     ]
    }
   ],
   "source": [
    "X = add_interactions(X)\n",
    "print(X.head())"
   ]
  },
  {
   "cell_type": "markdown",
   "metadata": {},
   "source": [
    "__B. Dimensionality reduction using PCA__\n",
    "- Principal component analysis (PCA) is a technique that transforms a dataset of many\n",
    "features into principal components that 'summarise' the varaince that underlies the data.\n",
    "- Each principal component is calculated by finding the linear combination of features\n",
    "that maximises variance, while also ensuring zero correlation with previously calculated\n",
    "principal components.\n",
    "- Use cases for modelling:\n",
    "    - One of the most common dimensionality reduction techniques.\n",
    "    - Use if there are too many features or if observation/feature ratio is poor.\n",
    "    - Also, potentially good option if there are a lot of highly correlated variables\n",
    "    in the dataset.\n",
    "- Unfortunately PCA makes it a lot harder interpret models. "
   ]
  },
  {
   "cell_type": "code",
   "execution_count": 37,
   "metadata": {},
   "outputs": [],
   "source": [
    "# This code does not work!\n",
    "#from IPython.display imort Image\n",
    "#Image(filename='pca.jpg')"
   ]
  },
  {
   "cell_type": "code",
   "execution_count": 38,
   "metadata": {},
   "outputs": [],
   "source": [
    "# Use PCA from sklearn.decomposition to find PCA.\n",
    "from sklearn.decomposition import PCA\n",
    "\n",
    "pca = PCA(n_components=10)\n",
    "X_pca = pd.DataFrame(pca.fit_transform(X))"
   ]
  },
  {
   "cell_type": "code",
   "execution_count": 39,
   "metadata": {},
   "outputs": [
    {
     "name": "stdout",
     "output_type": "stream",
     "text": [
      "              0             1             2             3             4  \\\n",
      "0 -3.634024e+07 -1.620506e+07 -6.087969e+06  1.421959e+04  5.875575e+04   \n",
      "1 -2.048602e+08 -1.642474e+07 -6.695304e+06  2.216828e+06  3.097008e+05   \n",
      "2 -2.048565e+08 -1.635117e+07  1.618294e+06  6.900740e+04 -1.620826e+05   \n",
      "3 -2.048550e+08 -1.632061e+07  4.974186e+06  2.695625e+06 -9.005131e+05   \n",
      "4 -2.048543e+08 -1.630839e+07  6.411832e+06 -2.374495e+06  1.512068e+06   \n",
      "\n",
      "              5              6              7              8              9  \n",
      "0 -41977.957346    2867.357378   30124.446039 -111562.122385   33812.006475  \n",
      "1  31929.606106 -141803.574604   43061.102252  -41859.551663   19771.552321  \n",
      "2  16115.312688   98048.733523 -126131.727667  -57558.071315  165056.379005  \n",
      "3  13583.174253 -129154.464124  -42108.369454   23566.803932    1198.341200  \n",
      "4 -49585.155628  -10056.881994  464423.095453  178347.834985   30251.016764  \n"
     ]
    }
   ],
   "source": [
    "print(X_pca.head())"
   ]
  },
  {
   "cell_type": "markdown",
   "metadata": {},
   "source": [
    "# Part 6: Feature Selection and Model Building"
   ]
  },
  {
   "cell_type": "markdown",
   "metadata": {},
   "source": [
    "__Build model using processed data__\n"
   ]
  },
  {
   "cell_type": "code",
   "execution_count": 40,
   "metadata": {},
   "outputs": [],
   "source": [
    "# Use train_test_spilt in sklearn.model_selection to split data into tain and test sets.\n",
    "\n",
    "from sklearn.model_selection import train_test_split\n",
    "\n",
    "X_train, X_test, y_train, y_test = train_test_split(X, y, train_size=0.7, random_state=1)"
   ]
  },
  {
   "cell_type": "code",
   "execution_count": 41,
   "metadata": {},
   "outputs": [
    {
     "name": "stdout",
     "output_type": "stream",
     "text": [
      "(32561, 15)\n",
      "(32561, 1863)\n"
     ]
    }
   ],
   "source": [
    "# The total number of features has grown substantially after dummying and adding interaction terms.\n",
    "\n",
    "print(df.shape)\n",
    "print(X.shape)"
   ]
  },
  {
   "cell_type": "code",
   "execution_count": 42,
   "metadata": {},
   "outputs": [
    {
     "name": "stderr",
     "output_type": "stream",
     "text": [
      "C:\\Users\\David Brookes\\anaconda3\\lib\\site-packages\\sklearn\\feature_selection\\_univariate_selection.py:114: UserWarning: Features [ 491  492  588  591  595  768  801  806  808  815  818  948 1191 1192\n",
      " 1328 1356 1420 1423 1425 1603] are constant.\n",
      "  warnings.warn(\"Features %s are constant.\" % constant_features_idx,\n",
      "C:\\Users\\David Brookes\\anaconda3\\lib\\site-packages\\sklearn\\feature_selection\\_univariate_selection.py:116: RuntimeWarning: invalid value encountered in true_divide\n",
      "  f = msb / msw\n"
     ]
    }
   ],
   "source": [
    "# Such a large set of features can cause overfitting and slow computations.\n",
    "# Use feature selection to choose the most important features.\n",
    "\n",
    "import sklearn.feature_selection\n",
    "\n",
    "select = sklearn.feature_selection.SelectKBest(k=20)\n",
    "selected_features = select.fit(X_train, y_train)\n",
    "indices_selected = selected_features.get_support(indices=True)\n",
    "colnames_selected = [X.columns[i] for i in indices_selected]\n",
    "\n",
    "X_train_selected = X_train[colnames_selected]\n",
    "X_test_selected = X_test[colnames_selected]"
   ]
  },
  {
   "cell_type": "code",
   "execution_count": 43,
   "metadata": {},
   "outputs": [
    {
     "name": "stdout",
     "output_type": "stream",
     "text": [
      "['education_num', 'marital_status_Married-civ-spouse', 'relationship_Husband', 'age_education_num', 'age_marital_status_Married-civ-spouse', 'age_relationship_Husband', 'fnlwgt_marital_status_Married-civ-spouse', 'fnlwgt_relationship_Husband', 'education_num_hours_per_week', 'education_num_marital_status_Married-civ-spouse', 'education_num_relationship_Husband', 'hours_per_week_marital_status_Married-civ-spouse', 'hours_per_week_relationship_Husband', 'marital_status_Married-civ-spouse_relationship_Husband', 'marital_status_Married-civ-spouse_race_White', 'marital_status_Married-civ-spouse_sex_Male', 'marital_status_Married-civ-spouse_native_country_United-States', 'relationship_Husband_race_White', 'relationship_Husband_sex_Male', 'relationship_Husband_native_country_United-States']\n"
     ]
    }
   ],
   "source": [
    "print(colnames_selected)"
   ]
  },
  {
   "cell_type": "code",
   "execution_count": 44,
   "metadata": {},
   "outputs": [],
   "source": [
    "from sklearn.linear_model import LogisticRegression\n",
    "from sklearn.metrics import roc_auc_score\n",
    "\n",
    "def find_model_perf(X_train, y_train, X_test, y_test):\n",
    "    model = LogisticRegression()\n",
    "    model.fit(X_train, y_train)\n",
    "    y_hat = [x[1] for x in model.predict_proba(X_test)]\n",
    "    \n",
    "    auc = roc_auc_score(y_test, y_hat)\n",
    "    \n",
    "    return auc"
   ]
  },
  {
   "cell_type": "code",
   "execution_count": 45,
   "metadata": {},
   "outputs": [
    {
     "name": "stdout",
     "output_type": "stream",
     "text": [
      "0.6355458726411575\n"
     ]
    }
   ],
   "source": [
    "auc_processed = find_model_perf(X_train_selected, y_train, X_test_selected, y_test)\n",
    "print(auc_processed)"
   ]
  },
  {
   "cell_type": "markdown",
   "metadata": {},
   "source": [
    "__Build model using unprocessed data__"
   ]
  },
  {
   "cell_type": "code",
   "execution_count": 46,
   "metadata": {},
   "outputs": [
    {
     "name": "stdout",
     "output_type": "stream",
     "text": [
      "(32561, 15)\n",
      "(32349, 15)\n"
     ]
    }
   ],
   "source": [
    "# Drop missing values so that model does not throw an error.\n",
    "df_unprocessed = df\n",
    "df_unprocessed = df_unprocessed.dropna(axis=0, how='any')\n",
    "print(df.shape)\n",
    "print(df_unprocessed.shape)"
   ]
  },
  {
   "cell_type": "code",
   "execution_count": 47,
   "metadata": {},
   "outputs": [
    {
     "name": "stdout",
     "output_type": "stream",
     "text": [
      "(32561, 15)\n",
      "(32349, 7)\n"
     ]
    }
   ],
   "source": [
    "# Remove non-numeric columns so model does not throw an error.\n",
    "for col_name in df_unprocessed.columns:\n",
    "    if df_unprocessed[col_name].dtypes not in ['int32','float32', 'int64','float64']:\n",
    "        df_unprocessed = df_unprocessed.drop(col_name, 1)\n",
    "        \n",
    "print(df.shape)\n",
    "print(df_unprocessed.shape)\n",
    "        "
   ]
  },
  {
   "cell_type": "code",
   "execution_count": 48,
   "metadata": {},
   "outputs": [],
   "source": [
    "# Split into features and outcomes.\n",
    "X_unprocessed = df_unprocessed.drop('income', 1)\n",
    "y_unprocessed = df_unprocessed['income']"
   ]
  },
  {
   "cell_type": "code",
   "execution_count": 49,
   "metadata": {},
   "outputs": [
    {
     "name": "stdout",
     "output_type": "stream",
     "text": [
      "    age    fnlwgt  education_num  capital_gain  capital_loss  hours_per_week\n",
      "0  39.0   77516.0           13.0          2174             0              40\n",
      "1  50.0   83311.0           13.0             0             0              13\n",
      "2  38.0  215646.0            9.0             0             0              40\n",
      "3  53.0  234721.0            7.0             0             0              40\n",
      "4  28.0  338409.0           13.0             0             0              40\n"
     ]
    }
   ],
   "source": [
    "# Take a look again at the what the unprocessed feature set looks like.\n",
    "print(X_unprocessed.head())"
   ]
  },
  {
   "cell_type": "code",
   "execution_count": 50,
   "metadata": {},
   "outputs": [
    {
     "name": "stdout",
     "output_type": "stream",
     "text": [
      "0.5737688693424194\n"
     ]
    }
   ],
   "source": [
    "# Split unprocessed data into train and test sets.\n",
    "# Build model and assess performance.\n",
    "\n",
    "X_train_unprocessed, X_test_unprocessed, y_train, y_test = train_test_split(\n",
    "    X_unprocessed, y_unprocessed, train_size=0.7, random_state=1)\n",
    "auc_unprocessed = find_model_perf(X_train_unprocessed, y_train, X_test_unprocessed, y_test)\n",
    "print(auc_unprocessed)"
   ]
  },
  {
   "cell_type": "code",
   "execution_count": 51,
   "metadata": {},
   "outputs": [
    {
     "name": "stdout",
     "output_type": "stream",
     "text": [
      "AUC of model with data preprocessing: 0.6355458726411575\n",
      "AUC of model without data preprocessing: 0.5737688693424194\n",
      "Model improvement of preprocessing: 10.766879592045301%\n"
     ]
    }
   ],
   "source": [
    "# Compare model performance.\n",
    "print('AUC of model with data preprocessing: {auc}'.format(auc=auc_processed))\n",
    "print('AUC of model without data preprocessing: {auc}'.format(auc=auc_unprocessed))\n",
    "per_improve = ((auc_processed-auc_unprocessed)/auc_unprocessed)*100 # Percentage improvement.\n",
    "print('Model improvement of preprocessing: {per_improve}%'. format(per_improve=per_improve))"
   ]
  },
  {
   "cell_type": "code",
   "execution_count": null,
   "metadata": {},
   "outputs": [],
   "source": []
  }
 ],
 "metadata": {
  "kernelspec": {
   "display_name": "Python 3",
   "language": "python",
   "name": "python3"
  },
  "language_info": {
   "codemirror_mode": {
    "name": "ipython",
    "version": 3
   },
   "file_extension": ".py",
   "mimetype": "text/x-python",
   "name": "python",
   "nbconvert_exporter": "python",
   "pygments_lexer": "ipython3",
   "version": "3.8.5"
  }
 },
 "nbformat": 4,
 "nbformat_minor": 4
}
